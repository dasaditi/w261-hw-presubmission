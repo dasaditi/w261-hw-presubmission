{
 "cells": [
  {
   "cell_type": "markdown",
   "metadata": {
    "toc": "true"
   },
   "source": [
    "# Table of Contents\n",
    " <p><div class=\"lev1 toc-item\"><a href=\"#-MIDS---w261-Machine-Learning-At-Scale-\" data-toc-modified-id=\"-MIDS---w261-Machine-Learning-At-Scale--1\"><span class=\"toc-item-num\">1&nbsp;&nbsp;</span> MIDS - w261 Machine Learning At Scale </a></div><div class=\"lev2 toc-item\"><a href=\"#Assignment---HW9\" data-toc-modified-id=\"Assignment---HW9-11\"><span class=\"toc-item-num\">1.1&nbsp;&nbsp;</span>Assignment - HW9</a></div><div class=\"lev1 toc-item\"><a href=\"#Instructions\" data-toc-modified-id=\"Instructions-2\"><span class=\"toc-item-num\">2&nbsp;&nbsp;</span>Instructions</a></div><div class=\"lev2 toc-item\"><a href=\"#IMPORTANT\" data-toc-modified-id=\"IMPORTANT-21\"><span class=\"toc-item-num\">2.1&nbsp;&nbsp;</span>IMPORTANT</a></div><div class=\"lev3 toc-item\"><a href=\"#===-INSTRUCTIONS-for-SUBMISSIONS-===\" data-toc-modified-id=\"===-INSTRUCTIONS-for-SUBMISSIONS-===-211\"><span class=\"toc-item-num\">2.1.1&nbsp;&nbsp;</span>=== INSTRUCTIONS for SUBMISSIONS ===</a></div><div class=\"lev1 toc-item\"><a href=\"#HW-Problems\" data-toc-modified-id=\"HW-Problems-3\"><span class=\"toc-item-num\">3&nbsp;&nbsp;</span>HW Problems</a></div><div class=\"lev2 toc-item\"><a href=\"#HW-9-Dataset\" data-toc-modified-id=\"HW-9-Dataset-31\"><span class=\"toc-item-num\">3.1&nbsp;&nbsp;</span>HW 9 Dataset</a></div><div class=\"lev2 toc-item\"><a href=\"#3.--HW9.0--Short-answer-questions\" data-toc-modified-id=\"3.--HW9.0--Short-answer-questions-32\"><span class=\"toc-item-num\">3.2&nbsp;&nbsp;</span>3.  HW9.0  Short answer questions</a></div><div class=\"lev2 toc-item\"><a href=\"#HW9.1--MRJob-implementation-of-basic-PageRank\" data-toc-modified-id=\"HW9.1--MRJob-implementation-of-basic-PageRank-33\"><span class=\"toc-item-num\">3.3&nbsp;&nbsp;</span>HW9.1  MRJob implementation of basic PageRank</a></div><div class=\"lev3 toc-item\"><a href=\"#HW-9.1-Implementation\" data-toc-modified-id=\"HW-9.1-Implementation-331\"><span class=\"toc-item-num\">3.3.1&nbsp;&nbsp;</span>HW 9.1 Implementation</a></div><div class=\"lev3 toc-item\"><a href=\"#HW-9.1-Analysis\" data-toc-modified-id=\"HW-9.1-Analysis-332\"><span class=\"toc-item-num\">3.3.2&nbsp;&nbsp;</span>HW 9.1 Analysis</a></div><div class=\"lev2 toc-item\"><a href=\"#HW9.2:-Exploring-PageRank-teleportation-and-network-plots\" data-toc-modified-id=\"HW9.2:-Exploring-PageRank-teleportation-and-network-plots-34\"><span class=\"toc-item-num\">3.4&nbsp;&nbsp;</span>HW9.2: Exploring PageRank teleportation and network plots</a></div><div class=\"lev3 toc-item\"><a href=\"#HW-9.2-Implementation\" data-toc-modified-id=\"HW-9.2-Implementation-341\"><span class=\"toc-item-num\">3.4.1&nbsp;&nbsp;</span>HW 9.2 Implementation</a></div><div class=\"lev3 toc-item\"><a href=\"#HW-9.2-Analysis\" data-toc-modified-id=\"HW-9.2-Analysis-342\"><span class=\"toc-item-num\">3.4.2&nbsp;&nbsp;</span>HW 9.2 Analysis</a></div><div class=\"lev2 toc-item\"><a href=\"#HW9.3:-Applying-PageRank-to-the-Wikipedia-hyperlinks-network\" data-toc-modified-id=\"HW9.3:-Applying-PageRank-to-the-Wikipedia-hyperlinks-network-35\"><span class=\"toc-item-num\">3.5&nbsp;&nbsp;</span>HW9.3: Applying PageRank to the Wikipedia hyperlinks network</a></div><div class=\"lev3 toc-item\"><a href=\"#HW-9.3-Implementation\" data-toc-modified-id=\"HW-9.3-Implementation-351\"><span class=\"toc-item-num\">3.5.1&nbsp;&nbsp;</span>HW 9.3 Implementation</a></div><div class=\"lev3 toc-item\"><a href=\"#HW-9.3-Analysis\" data-toc-modified-id=\"HW-9.3-Analysis-352\"><span class=\"toc-item-num\">3.5.2&nbsp;&nbsp;</span>HW 9.3 Analysis</a></div><div class=\"lev2 toc-item\"><a href=\"#HW9.4:-Topic-specific-PageRank-implementation-using-MRJob-\" data-toc-modified-id=\"HW9.4:-Topic-specific-PageRank-implementation-using-MRJob--36\"><span class=\"toc-item-num\">3.6&nbsp;&nbsp;</span>HW9.4: Topic-specific PageRank implementation using MRJob </a></div><div class=\"lev3 toc-item\"><a href=\"#HW-9.4-Implementation\" data-toc-modified-id=\"HW-9.4-Implementation-361\"><span class=\"toc-item-num\">3.6.1&nbsp;&nbsp;</span>HW 9.4 Implementation</a></div><div class=\"lev3 toc-item\"><a href=\"#HW-9.4-Analysis\" data-toc-modified-id=\"HW-9.4-Analysis-362\"><span class=\"toc-item-num\">3.6.2&nbsp;&nbsp;</span>HW 9.4 Analysis</a></div><div class=\"lev1 toc-item\"><a href=\"#-----------OPTIONAL-QUESTIONS-SECTION---------\" data-toc-modified-id=\"-----------OPTIONAL-QUESTIONS-SECTION----------4\"><span class=\"toc-item-num\">4&nbsp;&nbsp;</span>---------  OPTIONAL QUESTIONS SECTION --------</a></div><div class=\"lev2 toc-item\"><a href=\"#HW9.5:-(OPTIONAL)-Applying-topic-specific-PageRank-to-Wikipedia\" data-toc-modified-id=\"HW9.5:-(OPTIONAL)-Applying-topic-specific-PageRank-to-Wikipedia-41\"><span class=\"toc-item-num\">4.1&nbsp;&nbsp;</span>HW9.5: (OPTIONAL) Applying topic-specific PageRank to Wikipedia</a></div><div class=\"lev3 toc-item\"><a href=\"#HW-9.5-Implementation\" data-toc-modified-id=\"HW-9.5-Implementation-411\"><span class=\"toc-item-num\">4.1.1&nbsp;&nbsp;</span>HW 9.5 Implementation</a></div><div class=\"lev3 toc-item\"><a href=\"#HW-9.5-Analysis\" data-toc-modified-id=\"HW-9.5-Analysis-412\"><span class=\"toc-item-num\">4.1.2&nbsp;&nbsp;</span>HW 9.5 Analysis</a></div><div class=\"lev2 toc-item\"><a href=\"#HW9.6:--(OPTIONAL)-TextRank\" data-toc-modified-id=\"HW9.6:--(OPTIONAL)-TextRank-42\"><span class=\"toc-item-num\">4.2&nbsp;&nbsp;</span>HW9.6:  (OPTIONAL) TextRank</a></div><div class=\"lev3 toc-item\"><a href=\"#HW-9.6-Implementation\" data-toc-modified-id=\"HW-9.6-Implementation-421\"><span class=\"toc-item-num\">4.2.1&nbsp;&nbsp;</span>HW 9.6 Implementation</a></div><div class=\"lev3 toc-item\"><a href=\"#HW-9.6-Analysis\" data-toc-modified-id=\"HW-9.6-Analysis-422\"><span class=\"toc-item-num\">4.2.2&nbsp;&nbsp;</span>HW 9.6 Analysis</a></div>"
   ]
  },
  {
   "cell_type": "code",
   "execution_count": 8,
   "metadata": {
    "collapsed": false
   },
   "outputs": [
    {
     "data": {
      "application/javascript": [
       "/**********************************************************************************************\n",
       "Known Mathjax Issue with Chrome - a rounding issue adds a border to the right of mathjax markup\n",
       "https://github.com/mathjax/MathJax/issues/1300\n",
       "A quick hack to fix this based on stackoverflow discussions: \n",
       "http://stackoverflow.com/questions/34277967/chrome-rendering-mathjax-equations-with-a-trailing-vertical-line\n",
       "**********************************************************************************************/\n",
       "\n",
       "$('.math>span').css(\"border-left-color\",\"transparent\")"
      ],
      "text/plain": [
       "<IPython.core.display.Javascript object>"
      ]
     },
     "metadata": {},
     "output_type": "display_data"
    }
   ],
   "source": [
    "%%javascript\n",
    "/**********************************************************************************************\n",
    "Known Mathjax Issue with Chrome - a rounding issue adds a border to the right of mathjax markup\n",
    "https://github.com/mathjax/MathJax/issues/1300\n",
    "A quick hack to fix this based on stackoverflow discussions: \n",
    "http://stackoverflow.com/questions/34277967/chrome-rendering-mathjax-equations-with-a-trailing-vertical-line\n",
    "**********************************************************************************************/\n",
    "\n",
    "$('.math>span').css(\"border-left-color\",\"transparent\")"
   ]
  },
  {
   "cell_type": "code",
   "execution_count": 9,
   "metadata": {
    "collapsed": true
   },
   "outputs": [],
   "source": [
    "%reload_ext autoreload\n",
    "%autoreload 2"
   ]
  },
  {
   "cell_type": "markdown",
   "metadata": {},
   "source": [
    "<h1> MIDS - w261 Machine Learning At Scale </h1>\n",
    "__Course Lead:__ Dr James G. Shanahan (__email__ Jimi via  James.Shanahan _AT_ gmail.com)\n",
    "\n",
    "<h2>Assignment - HW9</h2>\n",
    "\n",
    "\n",
    "---\n",
    "__Name:__  *Your Name Goes Here*   \n",
    "__Class:__ MIDS w261 (Section *Your Section Goes Here*, e.g., Fall 2016 Group 1)     \n",
    "__Email:__  *Your UC Berkeley Email Goes Here*@iSchool.Berkeley.edu     \n",
    "__StudentId__  123457    __End of StudentId__     \n",
    "__Week:__   9\n",
    "\n",
    "__NOTE:__ please replace `1234567` with your student id above      \n",
    "__Due Time:__ HW is due the Tuesday of the following week by 8AM (West coast time). I.e., Tuesday, Mar 21, 2017 in the case of this homework. \n",
    "\n",
    "# Instructions\n",
    "\n",
    "MIDS UC Berkeley, Machine Learning at Scale   \n",
    "DATSCIW261 ASSIGNMENT #9\n",
    "\n",
    "Version 2017-3-16 \n",
    "\n",
    "\n",
    "## IMPORTANT\n",
    "\n",
    "Parts of this homework can be completed locally on your computer. For questions involving the wikipedia dataset, you will need to run your code in the cloud.\n",
    "\n",
    "### === INSTRUCTIONS for SUBMISSIONS ===   \n",
    "Follow the instructions for submissions carefully.\n",
    "\n",
    "Each student has a `HW-<user>` repository for all assignments.   \n",
    "\n",
    "Click this link to enable you to create a github repo within the MIDS261 Classroom:   \n",
    "https://classroom.github.com/assignment-invitations/3b1d6c8e58351209f9dd865537111ff8   \n",
    "and follow the instructions to create a HW repo.\n",
    "\n",
    "Push the following to your HW github repo into the master branch:\n",
    "* Your local HW6 directory. Your repo file structure should look like this:\n",
    "\n",
    "```\n",
    "HW-<user>\n",
    "    --HW3\n",
    "       |__MIDS-W261-HW-03-<Student_id>.ipynb\n",
    "       |__MIDS-W261-HW-03-<Student_id>.pdf\n",
    "       |__some other hw3 file\n",
    "    --HW4\n",
    "       |__MIDS-W261-HW-04-<Student_id>.ipynb\n",
    "       |__MIDS-W261-HW-04-<Student_id>.pdf\n",
    "       |__some other hw4 file\n",
    "    etc..\n",
    "```    "
   ]
  },
  {
   "cell_type": "markdown",
   "metadata": {},
   "source": [
    "\n",
    "# HW Problems\n"
   ]
  },
  {
   "cell_type": "markdown",
   "metadata": {},
   "source": [
    "<h2 style=\"color:darkblue\">HW 9 Dataset</h2>\n",
    "\n",
    "Note that all referenced files life in the enclosing directory. [Checkout the Data subdirectory on Dropbox](https://www.dropbox.com/sh/2c0k5adwz36lkcw/AAAAKsjQfF9uHfv-X9mCqr9wa?dl=0) or the AWS S3 buckets (details contained each question). "
   ]
  },
  {
   "cell_type": "markdown",
   "metadata": {},
   "source": [
    "## 3.  HW9.0  Short answer questions<a name=\"1.0\"></a>\n",
    "[Back to Table of Contents](#TOC)\n",
    "\n",
    "__ What is PageRank and what is it used for in the context of web search?__"
   ]
  },
  {
   "cell_type": "markdown",
   "metadata": {},
   "source": [
    "PageRank is an algorithm that tries to measure the importance of a node in graph relative to other nodes. In the context of web search, Google uses PageRank to decide the ranking of websites to show a user as the result of a specific query."
   ]
  },
  {
   "cell_type": "markdown",
   "metadata": {},
   "source": [
    "__ What modifications have to be made to the webgraph in order to leverage the machinery of Markov Chains to compute the Steady State Distibution? __"
   ]
  },
  {
   "cell_type": "markdown",
   "metadata": {},
   "source": [
    "We have to be sure that the webgraph is aperiodic and irreducible. We account for the issues of a graph that is not \"well behaved\" in two ways. One, by adding a teleporation factor that lets their be a small possibility of traveling to any node in a graph. And two, by redistributing the mass of dangling nodes that become a sink for probability mass. These qualities assure us that the Markov Chains will reach a steady state distribution."
   ]
  },
  {
   "cell_type": "markdown",
   "metadata": {},
   "source": [
    "__ OPTIONAL: In topic-specific pagerank, how can we ensure that the irreducible property is satifsied? (HINT: see HW9.4) __"
   ]
  },
  {
   "cell_type": "markdown",
   "metadata": {},
   "source": [
    "If we delete the nodes in a graph that have no in-links, we insure the irreducibility of the graph. However this is difficult to do in a distributed fashion as it would require a large amount of iterations to track or a high degree of statefullness."
   ]
  },
  {
   "cell_type": "markdown",
   "metadata": {},
   "source": [
    "## HW9.1  MRJob implementation of basic PageRank\n",
    "\n",
    "<hr>\n",
    "\n",
    "$$P(n) = \\alpha\\left(\\frac{1}{|G|}\\right) + (1-\\alpha)\\sum_{m\\in{L(n)}}\\frac{P(m)}{C(m)}$$\n",
    "\n",
    "\n",
    "where $|G|$ is the total number of nodes (pages) in the graph, α is the random jump factor. $L(n)$ is the set of pages that link to $n$, and $C(m)$ is the out degree of the node $m$ (the number of links on page $m$). The random jump factor α is sometimes called the “teleportation” factor; alternatively, (1 – α) is referred to as the “damping” factor\n",
    "\n",
    "<hr>\n",
    "\n",
    "\n",
    "Write a basic MRJob implementation of the iterative PageRank algorithm that takes sparse adjacency lists as input (as explored in HW 7).\n",
    "\n",
    "Make sure that you implementation utilizes teleportation (1-damping/the number of nodes in the network), and further, distributes the mass of dangling nodes with each iteration so that the output of each iteration is correctly normalized (sums to 1).\n",
    "\n",
    "\n",
    "[NOTE: The PageRank algorithm assumes that a random surfer (walker), starting from a random web page, chooses the next page to which it will move by clicking at random, with probability d,one of the hyperlinks in the current page. This probability is represented by a so-called *damping factor* d, where d ∈ (0, 1). Otherwise, with probability (1 − d), the surfer jumps (\"teleports\") to any web page in the network. If a page is a dangling end, meaning it has no outgoing hyperlinks, the random surfer selects an arbitrary web page from a uniform distribution and “teleports” to that page]\n",
    "\n",
    "As you build your code, use the data located here :\n",
    "\n",
    "In the Data Subfolder for HW7 on Dropbox (same dataset as HW7) with the same file name. \n",
    "> Dropbox: https://www.dropbox.com/sh/2c0k5adwz36lkcw/AAAAKsjQfF9uHfv-X9mCqr9wa?dl=0\n",
    "\n",
    "Or on Amazon: \n",
    "\n",
    "> s3://ucb-mids-mls-networks/PageRank-test.txt\n",
    "\n",
    "with teleportation factor alpha set to 0.15 (1-d, where d, the damping factor is set to 0.85), and crosscheck your work with the true result, displayed in the first image in the [Wikipedia article](https://en.wikipedia.org/wiki/PageRank)\n",
    "and here for reference are the corresponding PageRank probabilities:\n",
    "<pre>\n",
    "\n",
    "A, 0.033\n",
    "B, 0.384\n",
    "C, 0.343\n",
    "D, 0.039\n",
    "E, 0.081\n",
    "F, 0.039\n",
    "G, 0.016\n",
    "H, 0.016\n",
    "I, 0.016\n",
    "J, 0.016\n",
    "K, 0.016\n",
    "\n",
    "</pre>\n",
    "\n"
   ]
  },
  {
   "cell_type": "markdown",
   "metadata": {},
   "source": [
    "## HW 9.1 Implementation"
   ]
  },
  {
   "cell_type": "markdown",
   "metadata": {},
   "source": [
    "### Toy Data for testing"
   ]
  },
  {
   "cell_type": "code",
   "execution_count": 36,
   "metadata": {
    "collapsed": false
   },
   "outputs": [
    {
     "name": "stdout",
     "output_type": "stream",
     "text": [
      "B\t{'C': 1}\r\n",
      "C\t{'B': 1}\r\n",
      "D\t{'A': 1, 'B': 1}\r\n",
      "E\t{'D': 1, 'B': 1, 'F': 1}\r\n",
      "F\t{'B': 1, 'E': 1}\r\n",
      "G\t{'B': 1, 'E': 1}\r\n",
      "H\t{'B': 1, 'E': 1}\r\n",
      "I\t{'B': 1, 'E': 1}\r\n",
      "J\t{'E': 1}\r\n",
      "K\t{'E': 1}\r\n"
     ]
    }
   ],
   "source": [
    "!cat PageRank-test.txt"
   ]
  },
  {
   "cell_type": "markdown",
   "metadata": {},
   "source": [
    "### MRJob Classes for Initialization"
   ]
  },
  {
   "cell_type": "code",
   "execution_count": 113,
   "metadata": {
    "collapsed": false
   },
   "outputs": [
    {
     "name": "stdout",
     "output_type": "stream",
     "text": [
      "Overwriting PageRankInit1.py\n"
     ]
    }
   ],
   "source": [
    "%%writefile PageRankInit1.py\n",
    "# ! /opt/anaconda/bin/python \n",
    "# -*- coding: utf-8 -*-\n",
    "from __future__ import division\n",
    "import mrjob\n",
    "from mrjob.job import MRJob\n",
    "from mrjob.step import MRStep\n",
    "import json\n",
    "import ast\n",
    "import re\n",
    "#import numpy as np\n",
    "\n",
    "class PageRankInit1(MRJob):\n",
    "    \n",
    "\n",
    "    def mapper(self, _, line):\n",
    "        \n",
    "        line = line.strip()\n",
    "        node, data = line.split(\"\\t\")\n",
    "        node = re.findall(\"[A-Z]|\\d+\", node)[0]\n",
    "        \n",
    "        edges = data.replace(\"'\", \"\\\"\")\n",
    "        edges = json.loads(edges)\n",
    "        \n",
    "        for edge in edges.keys():\n",
    "            yield str(edge), None\n",
    "        yield node, None\n",
    "        \n",
    "        \n",
    "    def reducer_init(self):\n",
    "        self.increment_counter('reducer', 'total reducers', 1)\n",
    "        \n",
    "    def reducer(self, key, value):\n",
    "        self.increment_counter('reducer', 'total nodes', 1)\n",
    "\n",
    "    \n",
    "    def steps(self):\n",
    "        return [MRStep(\n",
    "                mapper=self.mapper,\n",
    "                reducer_init=self.reducer_init,\n",
    "                reducer=self.reducer)\n",
    "               ]\n",
    "    \n",
    "if __name__ == '__main__':\n",
    "    PageRankInit1.run()"
   ]
  },
  {
   "cell_type": "code",
   "execution_count": 114,
   "metadata": {
    "collapsed": false
   },
   "outputs": [
    {
     "name": "stdout",
     "output_type": "stream",
     "text": [
      "Overwriting PageRankInit2.py\n"
     ]
    }
   ],
   "source": [
    "%%writefile PageRankInit2.py\n",
    "# ! /opt/anaconda/bin/python \n",
    "# -*- coding: utf-8 -*-\n",
    "from __future__ import division\n",
    "import mrjob\n",
    "from mrjob.job import MRJob\n",
    "from mrjob.step import MRStep\n",
    "import json\n",
    "import ast\n",
    "import re\n",
    "#import numpy as np\n",
    "\n",
    "class PageRankInit2(MRJob):\n",
    "    \n",
    "    def configure_options(self):\n",
    "        super(PageRankInit2, self).configure_options()\n",
    "        self.add_passthrough_option(\n",
    "            '--startNode', type='str', default='1', help='Select the start node')\n",
    "        self.add_passthrough_option(\n",
    "            '--numNodes', type='int', default='1', help='Total number of nodes in graph')\n",
    "\n",
    "        \n",
    "    def mapper_init(self):\n",
    "        self.PR = 1/self.options.numNodes\n",
    "\n",
    "    def mapper(self, _, line):\n",
    "\n",
    "        line = line.strip()\n",
    "        node, data = line.split(\"\\t\")\n",
    "        node = re.findall(\"[A-Z]|\\d+\", node)[0]\n",
    "        \n",
    "        #edges = re.findall('{.*}', data)[0]\n",
    "        edges = data.replace(\"'\", \"\\\"\")\n",
    "        edges = json.loads(edges)\n",
    "\n",
    "        yield node, (self.PR, \"|\", edges)\n",
    "\n",
    "         \n",
    "        def steps(self):\n",
    "            return [MRStep(\n",
    "                    mapper_init=self.mapper_init,\n",
    "                    mapper=self.mapper,\n",
    "                    reducer=None)\n",
    "                   ]\n",
    "\n",
    "    \n",
    "    \n",
    "if __name__ == '__main__':\n",
    "    PageRankInit2.run()"
   ]
  },
  {
   "cell_type": "markdown",
   "metadata": {},
   "source": [
    "### MRJob Classes for Iteration"
   ]
  },
  {
   "cell_type": "code",
   "execution_count": 115,
   "metadata": {
    "collapsed": false
   },
   "outputs": [
    {
     "name": "stdout",
     "output_type": "stream",
     "text": [
      "Overwriting PageRankIterate1.py\n"
     ]
    }
   ],
   "source": [
    "%%writefile PageRankIterate1.py\n",
    "# ! /opt/anaconda/bin/python \n",
    "# -*- coding: utf-8 -*-\n",
    "from __future__ import division\n",
    "import mrjob\n",
    "from mrjob.job import MRJob\n",
    "from mrjob.step import MRStep\n",
    "import json\n",
    "import ast\n",
    "import re\n",
    "#import numpy as np\n",
    "\n",
    "class PageRankIterate1(MRJob):\n",
    "    \n",
    "    def configure_options(self):\n",
    "        super(PageRankIterate1, self).configure_options()\n",
    "        self.add_passthrough_option(\n",
    "            '--startNode', type='str', default='1', help='Select the start node')\n",
    "\n",
    "        \n",
    "#     def mapper_init(self):\n",
    "#         self.PR_TOTAL = 0\n",
    "\n",
    "    def mapper(self, _, line):\n",
    "        self.increment_counter('mapper', 'test', 1)\n",
    "\n",
    "        line = line.strip()\n",
    "        node, data = line.split(\"\\t\")\n",
    "        node = re.findall(\"[A-Z]|\\d+\", node)[0]\n",
    "        \n",
    "        \n",
    "        data = data.strip(\"[]\")\n",
    "        data = data.split('\"|\"')\n",
    "        \n",
    "        PR = re.findall('\\d+\\.?\\d*', data[0])[0]\n",
    "        PR = float(PR)\n",
    "#         self.PR_TOTAL += PR\n",
    "\n",
    "        # track dangling node mass, counters only take int()\n",
    "        PR_counter = int(PR*1000000)\n",
    "        self.increment_counter('mapper', 'PR_TOTAL', PR_counter)\n",
    "\n",
    "        edges = re.findall('{.*}', data[1])[0]\n",
    "        edges = edges.replace(\"'\", \"\\\"\")\n",
    "        edges = json.loads(edges)\n",
    "        total_edges = len(edges)\n",
    "        \n",
    "        for expanded_node in edges.keys():\n",
    "            yield str(expanded_node), (PR/total_edges, None)        \n",
    "        yield node, (0, edges)\n",
    "    \n",
    "#     def mapper_final(self):\n",
    "#         yield \"PR_TOTAL\", self.PR_TOTAL\n",
    "    \n",
    "    \n",
    "    def reducer(self, key, values):\n",
    "        PR = 0\n",
    "        edges = {}\n",
    "        \n",
    "        # look for PR total value\n",
    "#         if key == \"PR_TOTAL\":\n",
    "#             for value in values:\n",
    "                \n",
    "                    \n",
    "            \n",
    "        for value in values:\n",
    "            if value[1] != None:\n",
    "                edges = value[1]\n",
    "            elif value[1] == None:\n",
    "                PR += value[0]\n",
    "            \n",
    "        yield key, (PR, \"|\", edges)\n",
    "        \n",
    "    \n",
    "if __name__ == '__main__':\n",
    "    PageRankIterate1.run()"
   ]
  },
  {
   "cell_type": "code",
   "execution_count": 32,
   "metadata": {
    "collapsed": false
   },
   "outputs": [
    {
     "name": "stdout",
     "output_type": "stream",
     "text": [
      "Overwriting PageRankIterate2.py\n"
     ]
    }
   ],
   "source": [
    "%%writefile PageRankIterate2.py\n",
    "# ! /opt/anaconda/bin/python \n",
    "# -*- coding: utf-8 -*-\n",
    "from __future__ import division\n",
    "import mrjob\n",
    "from mrjob.job import MRJob\n",
    "from mrjob.step import MRStep\n",
    "import json\n",
    "import ast\n",
    "import re\n",
    "#import numpy as np\n",
    "\n",
    "class PageRankIterate2(MRJob):\n",
    "    \n",
    "    def configure_options(self):\n",
    "        super(PageRankIterate2, self).configure_options()\n",
    "        self.add_passthrough_option(\n",
    "            '--danglingMass', type='float', default='0', help='Dangling Mass for Redistribution')\n",
    "        self.add_passthrough_option(\n",
    "            '--alpha', type='float', default='0', help='teleporation correction')\n",
    "        self.add_passthrough_option(\n",
    "            '--TOTAL_NODES', type='int', default='1', help='total nodes in the graph')\n",
    "        \n",
    "    def mapper_init(self):\n",
    "        #self.alpha = float(self.options.alpha)\n",
    "        #self.total_nodes = int(self.options.TOTAL_NODES)\n",
    "        self.danglingMass = 1-(self.options.danglingMass/1000000)\n",
    "        if self.danglingMass < 0:\n",
    "            self.increment_counter('mapper', 'dangling mass is negative error', 1)\n",
    "\n",
    "    def mapper(self, _, line):\n",
    "\n",
    "        line = line.strip()\n",
    "        node, data = line.split(\"\\t\")\n",
    "        node = re.findall(\"[A-Z]|\\d+\", node)[0]\n",
    "        \n",
    "        \n",
    "        data = data.strip(\"[]\")\n",
    "        data = data.split('\"|\"')\n",
    "        \n",
    "        PR = re.findall('\\d+\\.?\\d*', data[0])[0]\n",
    "        PR = float(PR)\n",
    "\n",
    "        redist_PR = self.options.alpha*(1/self.options.TOTAL_NODES)+(1-self.options.alpha)*((self.danglingMass/self.options.TOTAL_NODES)+PR)\n",
    "  \n",
    "        edges = re.findall('{.*}', data[1])[0]\n",
    "        edges = edges.replace(\"'\", \"\\\"\")\n",
    "        edges = json.loads(edges)       \n",
    "\n",
    "        yield node, (redist_PR, edges)\n",
    "        \n",
    "    \n",
    "    def reducer(self, key, values):\n",
    "\n",
    "        for value in values:\n",
    "            edges = value[1]\n",
    "            PR = value[0]\n",
    "            \n",
    "        yield key, (PR, \"|\", edges)\n",
    "        \n",
    "            \n",
    "if __name__ == '__main__':\n",
    "    PageRankIterate2.run()"
   ]
  },
  {
   "cell_type": "markdown",
   "metadata": {},
   "source": [
    "### Driver Code for PageRank MRJob Implementation"
   ]
  },
  {
   "cell_type": "code",
   "execution_count": 119,
   "metadata": {
    "collapsed": false
   },
   "outputs": [
    {
     "name": "stdout",
     "output_type": "stream",
     "text": [
      "Deleted /user/root/graph_output/PageRankTest\n",
      "Deleted /user/root/graph_output/PageRankTest/iterations/iteration1_1\n",
      "Deleted /user/root/graph_output/PageRankTest/iterations/iteration1\n",
      "Deleted /user/root/graph_output/PageRankTest/iterations/iteration2_1\n",
      "Deleted /user/root/graph_output/PageRankTest/iterations/iteration2\n",
      "Deleted /user/root/graph_output/PageRankTest/iterations/iteration3_1\n",
      "Deleted /user/root/graph_output/PageRankTest/iterations/iteration3\n",
      "Deleted /user/root/graph_output/PageRankTest/iterations/iteration4_1\n",
      "Deleted /user/root/graph_output/PageRankTest/iterations/iteration4\n"
     ]
    }
   ],
   "source": [
    "from PageRankInit1 import PageRankInit1\n",
    "from PageRankInit2 import PageRankInit2\n",
    "from PageRankIterate1 import PageRankIterate1\n",
    "from PageRankIterate2 import PageRankIterate2\n",
    "\n",
    "!hdfs dfs -rm -r /user/root/graph_output/PageRankTest\n",
    "!hdfs dfs -mkdir /user/root/graph_output/PageRankTest\n",
    "!hdfs dfs -mkdir /user/root/graph_output/PageRankTest/iterations\n",
    "!hdfs dfs -copyFromLocal /media/notebooks/PageRank-test.txt /user/root/graph_output/PageRankTest/PageRank-test.txt\n",
    "\n",
    "count = 0\n",
    "#set the number of iterations to perform\n",
    "total_iterations = 6\n",
    "alpha = 0.75\n",
    "\n",
    "while(count < total_iterations):\n",
    "    # initialize the priority queue for the graph data\n",
    "    if count == 0:\n",
    "        \n",
    "        # get the total nodes in the graph\n",
    "        mr_job1 = PageRankInit1(args=['-r', 'hadoop', 'hdfs:///user/root/graph_output/PageRankTest/PageRank-test.txt/'])    \n",
    "        with mr_job1.make_runner() as runner:\n",
    "            runner.run()\n",
    "            num_nodes = (runner.counters()[0]['reducer']['total nodes'])        \n",
    "        count += 1\n",
    "        \n",
    "    elif count == 1:\n",
    "        \n",
    "        # initialize PR on all nodes\n",
    "        mr_job2 = PageRankInit2(args=['-r', 'hadoop', 'hdfs:///user/root/graph_output/PageRankTest/PageRank-test.txt', \n",
    "                                      '--output-dir', '/user/root/graph_output/PageRankTest/iterations/iteration1/', \n",
    "                                      \"--numNodes={}\".format(num_nodes)])\n",
    "        with mr_job2.make_runner() as runner:\n",
    "            runner.run()     \n",
    "        count += 1\n",
    "    else:\n",
    "        mr_job3 = PageRankIterate1(args=['-r', 'hadoop', 'hdfs:///user/root/graph_output/PageRankTest/iterations/iteration{}/part-*'.format(count-1), \n",
    "                              '--output-dir', '/user/root/graph_output/PageRankTest/iterations/iteration{}_1'.format(count-1)])\n",
    "        with mr_job3.make_runner() as runner:\n",
    "            runner.run()     \n",
    "            dangling_mass = (runner.counters()[0]['mapper']['PR_TOTAL'])\n",
    "\n",
    "        mr_job4 = PageRankIterate2(args=['-r', 'hadoop', 'hdfs:///user/root/graph_output/PageRankTest/iterations/iteration{}_1/part-*'.format(count-1), \n",
    "                      '--output-dir', '/user/root/graph_output/PageRankTest/iterations/iteration{}'.format(count), \n",
    "                      \"--danglingMass={}\".format(dangling_mass), \"--TOTAL_NODES={}\".format(num_nodes), \"--alpha={}\".format(alpha)])\n",
    "        with mr_job4.make_runner() as runner:\n",
    "            runner.run()\n",
    "        count += 1\n",
    "        !old_path=$(hdfs dfs -ls /user/root/graph_output/PageRankTest/iterations | tail -2 | awk '{print $8}' | sort -V | head -1); hdfs dfs -rm -r $old_path\n",
    "        !old_path=$(hdfs dfs -ls /user/root/graph_output/PageRankTest/iterations | tail -2 | awk '{print $8}' | sort -V | head -1); hdfs dfs -rm -r $old_path"
   ]
  },
  {
   "cell_type": "markdown",
   "metadata": {},
   "source": [
    "### Output from Testing Toy Dataset"
   ]
  },
  {
   "cell_type": "code",
   "execution_count": 35,
   "metadata": {
    "collapsed": false
   },
   "outputs": [
    {
     "name": "stdout",
     "output_type": "stream",
     "text": [
      "\"A\"\t[0.034697872551767678, \"|\", {}]\r\n",
      "\"B\"\t[0.30521537835416657, \"|\", {\"C\": 1}]\r\n",
      "\"C\"\t[0.35015459573989893, \"|\", {\"B\": 1}]\r\n",
      "\"D\"\t[0.045182104389835859, \"|\", {\"A\": 1, \"B\": 1}]\r\n",
      "\"E\"\t[0.086853476529040421, \"|\", {\"B\": 1, \"D\": 1, \"F\": 1}]\r\n",
      "\"F\"\t[0.045182104389835859, \"|\", {\"B\": 1, \"E\": 1}]\r\n",
      "\"G\"\t[0.01582774090909091, \"|\", {\"B\": 1, \"E\": 1}]\r\n",
      "\"H\"\t[0.01582774090909091, \"|\", {\"B\": 1, \"E\": 1}]\r\n",
      "\"I\"\t[0.01582774090909091, \"|\", {\"B\": 1, \"E\": 1}]\r\n",
      "\"J\"\t[0.01582774090909091, \"|\", {\"E\": 1}]\r\n",
      "\"K\"\t[0.01582774090909091, \"|\", {\"E\": 1}]\r\n"
     ]
    }
   ],
   "source": [
    "!hdfs dfs -cat /user/root/graph_output/PageRankTest/iterations/iteration5/part-*"
   ]
  },
  {
   "cell_type": "markdown",
   "metadata": {},
   "source": [
    "### HW 9.1 Analysis"
   ]
  },
  {
   "cell_type": "markdown",
   "metadata": {},
   "source": [
    "Comparing our output to the actual values we see that we are pretty close. This was with four iterations of the PageRank algorithm with teleportation factor of 0.15 and accounting for dangling mass values. Instead of specifying 4 iterations, we could have looked at the output of the nodes, compared it to the actual values, and rerun the algorithm until we had reached a certain accuraccy. Or if we did not know the true answer we could have iterated over the PageRank algorithm until the results of the algorithm change by a very small amount between iterations."
   ]
  },
  {
   "cell_type": "markdown",
   "metadata": {},
   "source": [
    "## HW9.2: Exploring PageRank teleportation and network plots\n",
    "\n",
    "\n",
    "* In order to overcome  problems such as disconnected components, the damping factor (a typical value for d is 0.85) can be varied. \n",
    "* Using the graph in HW9.1, plot the test graph (using networkx, https://networkx.github.io/) for several values of the damping factor, so that each nodes radius is proportional to its PageRank score. \n",
    "* In particular you should do this for the following damping factors: [0,0.25,0.5,0.75, 0.85, 1]. \n",
    "* Note your plots should look like the following: https://en.wikipedia.org/wiki/PageRank#/media/File:PageRanks-Example.svg"
   ]
  },
  {
   "cell_type": "markdown",
   "metadata": {},
   "source": [
    "### HW 9.2 Implementation"
   ]
  },
  {
   "cell_type": "markdown",
   "metadata": {},
   "source": [
    "### Graph with d = 0.85"
   ]
  },
  {
   "cell_type": "code",
   "execution_count": 109,
   "metadata": {
    "collapsed": false
   },
   "outputs": [
    {
     "data": {
      "image/png": "[encoded data removed]",
      "text/plain": [
       "<matplotlib.figure.Figure at 0x7f3481a9a9d0>"
      ]
     },
     "metadata": {},
     "output_type": "display_data"
    }
   ],
   "source": [
    "import networkx as nx\n",
    "import re\n",
    "import json\n",
    "import matplotlib.pyplot as plt\n",
    "\n",
    "\n",
    "DG=nx.DiGraph()\n",
    "\n",
    "nodes = [\"A\",\"B\",\"C\",\"D\",\"E\",\"F\",\"G\",\"H\",\"I\",\"J\",\"K\"]\n",
    "node_weight = []\n",
    "\n",
    "for node in nodes:\n",
    "    DG.add_node(node)\n",
    "\n",
    "with open(\"toy_pagerank_output\", \"r\") as file:\n",
    "    for line in file:\n",
    "        line = line.strip()\n",
    "        node, data = line.split(\"\\t\")\n",
    "        node = re.findall(\"[A-Z]\", node)[0]\n",
    "        \n",
    "        data = data.strip(\"[]\")\n",
    "        data = data.split('\"|\"')\n",
    "        \n",
    "        PR = re.findall('\\d+\\.?\\d*', data[0])[0]\n",
    "        PR = float(PR)\n",
    "        node_weight.append((PR*20000))\n",
    "        edges = re.findall('{.*}', data[1])[0]\n",
    "        edges = edges.replace(\"'\", \"\\\"\")\n",
    "        edges = json.loads(edges)\n",
    "        if edges != {}:\n",
    "            for edge in edges.keys():      \n",
    "                DG.add_edge(node,str(edge))\n",
    "\n",
    "                \n",
    "node_labels = [\"A\",\"B\",\"C\",\"D\",\"E\",\"F\",\"G\",\"H\",\"I\",\"J\",\"K\"]\n",
    "pos = nx.fruchterman_reingold_layout(DG)   \n",
    "nx.draw_networkx(DG, pos, node_size=node_weight, node_color=range(11))\n",
    "# plt.figure(figsize=(1000,1000))\n",
    "plt.show()\n",
    "        \n",
    "fig = plt.gcf()\n",
    "fig.set_size_inches(12, 8)\n",
    "fig.savefig('test2png.png', dpi=100)      \n"
   ]
  },
  {
   "cell_type": "code",
   "execution_count": null,
   "metadata": {
    "collapsed": true
   },
   "outputs": [],
   "source": [
    "import networkx as nx\n",
    "import re\n",
    "import json\n",
    "import matplotlib.pyplot as plt\n",
    "\n",
    "\n",
    "DG=nx.DiGraph()\n",
    "\n",
    "nodes = [\"A\",\"B\",\"C\",\"D\",\"E\",\"F\",\"G\",\"H\",\"I\",\"J\",\"K\"]\n",
    "node_weight = []\n",
    "\n",
    "for node in nodes:\n",
    "    DG.add_node(node)\n",
    "\n",
    "with open(\"toy_pagerank_output\", \"r\") as file:\n",
    "    for line in file:\n",
    "        line = line.strip()\n",
    "        node, data = line.split(\"\\t\")\n",
    "        node = re.findall(\"[A-Z]\", node)[0]\n",
    "        \n",
    "        data = data.strip(\"[]\")\n",
    "        data = data.split('\"|\"')\n",
    "        \n",
    "        PR = re.findall('\\d+\\.?\\d*', data[0])[0]\n",
    "        PR = float(PR)\n",
    "        node_weight.append((PR*20000))\n",
    "        edges = re.findall('{.*}', data[1])[0]\n",
    "        edges = edges.replace(\"'\", \"\\\"\")\n",
    "        edges = json.loads(edges)\n",
    "        if edges != {}:\n",
    "            for edge in edges.keys():      \n",
    "                DG.add_edge(node,str(edge))\n",
    "\n",
    "                \n",
    "node_labels = [\"A\",\"B\",\"C\",\"D\",\"E\",\"F\",\"G\",\"H\",\"I\",\"J\",\"K\"]\n",
    "pos = nx.fruchterman_reingold_layout(DG)   \n",
    "nx.draw_networkx(DG, pos, node_size=node_weight, node_color=range(11))\n",
    "# plt.figure(figsize=(1000,1000))\n",
    "plt.show()\n",
    "        \n",
    "fig = plt.gcf()\n",
    "fig.set_size_inches(12, 8)\n",
    "fig.savefig('test2png.png', dpi=100) "
   ]
  },
  {
   "cell_type": "code",
   "execution_count": 71,
   "metadata": {
    "collapsed": false
   },
   "outputs": [
    {
     "data": {
      "image/png": "[encoded data removed]",
      "text/plain": [
       "<matplotlib.figure.Figure at 0x7f3481ac0150>"
      ]
     },
     "metadata": {},
     "output_type": "display_data"
    }
   ],
   "source": [
    "# ! /opt/anaconda/bin/python \n",
    "# -*- coding: utf-8 -*-\n",
    "\n",
    "import matplotlib.pyplot as plt\n",
    "import networkx as nx\n",
    "\n",
    "G = nx.cycle_graph(24)\n",
    "pos = nx.spring_layout(G, iterations=200)\n",
    "nx.draw(G, pos, node_color=range(24), node_size=800, cmap=plt.cm.Blues)\n",
    "plt.show()"
   ]
  },
  {
   "cell_type": "markdown",
   "metadata": {},
   "source": [
    "### HW 9.2 Analysis"
   ]
  },
  {
   "cell_type": "markdown",
   "metadata": {},
   "source": []
  },
  {
   "cell_type": "markdown",
   "metadata": {},
   "source": [
    "## HW9.3: Applying PageRank to the Wikipedia hyperlinks network\n",
    "\n",
    "* Run your PageRank implementation on the Wikipedia dataset for 5 iterations, and display the top 100 ranked nodes (with damping factor = 0.85).\n",
    "* Run your PageRank implementation on the Wikipedia dataset for 10 iterations, and display the top 100 ranked nodes (with teleportation (random jump) factor alpha of 0.15).\n",
    "* Have the top 100 ranked pages changed? Comment on your findings. \n",
    "* Plot the pagerank values for the top 100 pages resulting from the 5 iterations run. Then plot the pagerank values for the same 100 pages that resulted from the 10 iterations run.  \n"
   ]
  },
  {
   "cell_type": "markdown",
   "metadata": {},
   "source": [
    "### HW 9.3 Implementation"
   ]
  },
  {
   "cell_type": "code",
   "execution_count": 3,
   "metadata": {
    "collapsed": true
   },
   "outputs": [],
   "source": [
    "from PageRankInit1 import PageRankInit1\n",
    "from PageRankInit2 import PageRankInit2\n",
    "from PageRankIterate1 import PageRankIterate1\n",
    "from PageRankIterate2 import PageRankIterate2\n",
    "\n",
    "!hdfs dfs -rm -r /user/dskarbrevik/graph_output/wikipedia_PR\n",
    "!hdfs dfs -mkdir /user/dskarbrevik/graph_output/wikipedia_PR\n",
    "!hdfs dfs -mkdir /user/dskarbrevik/graph_output/wikipedia_PR/iterations\n",
    "#!hdfs dfs -copyFromLocal /media/notebooks/PageRank-test.txt /user/root/graph_output/PageRankTest/PageRank-test.txt\n",
    "\n",
    "count = 0\n",
    "#set the number of iterations to perform\n",
    "total_iterations = 7\n",
    "alpha = 0.15\n",
    "\n",
    "while(count < total_iterations):\n",
    "    # initialize the priority queue for the graph data\n",
    "    if count == 0:\n",
    "        \n",
    "        # get the total nodes in the graph\n",
    "        mr_job1 = PageRankInit1(args=['-r', 'hadoop', 'hdfs:///user/andrewlam/HW7/Data/wikipedia/all-pages-indexed-out.txt'])    \n",
    "        with mr_job1.make_runner() as runner:\n",
    "            runner.run()\n",
    "            num_nodes = (runner.counters()[0]['reducer']['total nodes'])        \n",
    "        count += 1\n",
    "        \n",
    "    elif count == 1:\n",
    "        \n",
    "        # initialize PR on all nodes\n",
    "        mr_job2 = PageRankInit2(args=['-r', 'hadoop', 'hdfs:///user/andrewlam/HW7/Data/wikipedia/all-pages-indexed-out.txt', \n",
    "                                      '--output-dir', '/user/dskarbrevik/graph_output/wikipedia_PR/iterations/iteration1/', \n",
    "                                      \"--numNodes={}\".format(num_nodes)])\n",
    "        with mr_job2.make_runner() as runner:\n",
    "            runner.run()     \n",
    "        count += 1\n",
    "    else:\n",
    "        mr_job3 = PageRankIterate1(args=['-r', 'hadoop', 'hdfs:///user/dskarbrevik/wikipedia_PR/iterations/iteration{}/part-*'.format(count-1), \n",
    "                              '--output-dir', '/user/dskarbrevik/graph_output/wikipedia_PR/iterations/iteration{}_1'.format(count-1)])\n",
    "        with mr_job3.make_runner() as runner:\n",
    "            runner.run()     \n",
    "            dangling_mass = (runner.counters()[0]['mapper']['PR_TOTAL'])\n",
    "\n",
    "        mr_job4 = PageRankIterate2(args=['-r', 'hadoop', 'hdfs:///user/dskarbrevik/graph_output/wikipedia_PR/iterations/iteration{}_1/part-*'.format(count-1), \n",
    "                      '--output-dir', '/user/dskarbrevik/graph_output/wikipedia_PR/iterations/iteration{}'.format(count), \n",
    "                      \"--danglingMass={}\".format(dangling_mass), \"--TOTAL_NODES={}\".format(num_nodes), \"--alpha={}\".format(alpha)])\n",
    "        with mr_job4.make_runner() as runner:\n",
    "            runner.run()\n",
    "        count += 1\n",
    "        !old_path=$(hdfs dfs -ls /user/dskarbrevik/graph_output/wikipedia_PR/iterations | tail -2 | awk '{print $8}' | sort -V | head -1); hdfs dfs -rm -r $old_path\n",
    "        !old_path=$(hdfs dfs -ls /user/dskarbrevik/graph_output/wikipedia_PR/iterations | tail -2 | awk '{print $8}' | sort -V | head -1); hdfs dfs -rm -r $old_path"
   ]
  },
  {
   "cell_type": "markdown",
   "metadata": {},
   "source": [
    "### HW 9.3 Analysis"
   ]
  },
  {
   "cell_type": "markdown",
   "metadata": {},
   "source": []
  },
  {
   "cell_type": "markdown",
   "metadata": {},
   "source": [
    "## HW9.4: Topic-specific PageRank implementation using MRJob <a name=\"1.4\"></a>\n",
    "[Back to Table of Contents](#TOC)\n",
    "\n",
    "Modify your PageRank implementation to produce a topic specific PageRank implementation, as described in:\n",
    "\n",
    "http://www-cs-students.stanford.edu/~taherh/papers/topic-sensitive-pagerank.pdf\n",
    "\n",
    "Note in this article that there is a special caveat to ensure that the transition matrix is irreducible.   \n",
    "This caveat lies in footnote 3 on page 3:\n",
    "```\n",
    "\tA minor caveat: to ensure that M is irreducible when p\n",
    "\tcontains any 0 entries, nodes not reachable from nonzero\n",
    "\tnodes in p should be removed. In practice this is not problematic.\n",
    "```\n",
    "and must be adhered to for convergence to be guaranteed.   \n",
    "\n",
    "Run topic specific PageRank on the following randomly generated network of 100 nodes:\n",
    "\n",
    "> s3://ucb-mids-mls-networks/randNet.txt (also available on Dropbox)   \n",
    "> `wget http://ucb-mids-mls-networks.s3.amazonaws.com/randNet.txt`\n",
    "\n",
    "which are organized into ten topics, as described in the file:\n",
    "\n",
    "> s3://ucb-mids-mls-networks/randNet_topics.txt  (also available on Dropbox)   \n",
    "> `wget http://ucb-mids-mls-networks.s3.amazonaws.com/randNet_topics.txt`\n",
    "\n",
    "Since there are 10 topics, your result should be 11 PageRank vectors (one for the vanilla PageRank implementation in 9.1, and one for each topic with the topic specific implementation). Print out the top ten ranking nodes and their topics for each of the 11 versions, and comment on your result. Assume a teleportation factor of 0.15 in all your analyses.\n",
    "\n",
    "One final and important comment here:  please consider the requirements for irreducibility with topic-specific PageRank. In particular, the literature ensures irreducibility by requiring that nodes not reachable from in-topic nodes be removed from the network.\n",
    "\n",
    "This is not a small task, especially as it it must be performed separately for each of the (10) topics.\n",
    "\n",
    "So, instead of using this method for irreducibility, please comment on why the literature's method is difficult to implement, and what what extra computation it will require.   \n",
    "\n",
    "Then for your code, please use the alternative, non-uniform damping vector:\n",
    "\n",
    "```\n",
    "vji = beta*(1/|Tj|); if node i lies in topic Tj\n",
    "\n",
    "vji = (1-beta)*(1/(N - |Tj|)); if node i lies outside of topic Tj\n",
    "```\n",
    "for beta in (0,1) close to 1. \n",
    "\n",
    "With this approach, you will not have to delete any nodes. If beta > 0.5, PageRank is topic-sensitive, and if beta < 0.5, the PageRank is anti-topic-sensitive. For any value of beta irreducibility should hold, so please try beta=0.99, and perhaps some other values locally, on the smaller networks."
   ]
  },
  {
   "cell_type": "markdown",
   "metadata": {},
   "source": [
    "### HW 9.4 Implementation"
   ]
  },
  {
   "cell_type": "markdown",
   "metadata": {},
   "source": [
    "### New PageRank Redistribution Class for  Topic Specific PageRank"
   ]
  },
  {
   "cell_type": "code",
   "execution_count": 3,
   "metadata": {
    "collapsed": false
   },
   "outputs": [
    {
     "name": "stdout",
     "output_type": "stream",
     "text": [
      "Overwriting PageRankIterateTopic.py\n"
     ]
    }
   ],
   "source": [
    "%%writefile PageRankIterateTopic.py\n",
    "# ! /opt/anaconda/bin/python \n",
    "# -*- coding: utf-8 -*-\n",
    "from __future__ import division\n",
    "import mrjob\n",
    "from mrjob.job import MRJob\n",
    "from mrjob.step import MRStep\n",
    "import json\n",
    "import ast\n",
    "import re\n",
    "#import numpy as np\n",
    "\n",
    "class PageRankIterateTopic(MRJob):\n",
    "    \n",
    "    def configure_options(self):\n",
    "        super(PageRankIterateTopic, self).configure_options()\n",
    "        self.add_passthrough_option(\n",
    "            '--danglingMass', type='float', default='0', help='Dangling Mass for Redistribution')\n",
    "        self.add_passthrough_option(\n",
    "            '--alpha', type='float', default='0', help='teleporation correction')\n",
    "        self.add_passthrough_option(\n",
    "            '--beta', type='float', default='0', help='0 node correction.')\n",
    "        self.add_passthrough_option(\n",
    "            '--Category', type='str', default='1', help='The category of interest.')\n",
    "        self.add_passthrough_option(\n",
    "            '--Category_Total', type='int', default='1', help='Number of nodes in category if interest.')\n",
    "        self.add_passthrough_option(\n",
    "            '--TOTAL_NODES', type='int', default='1', help='total nodes in the graph')\n",
    "        self.add_passthrough_option(\n",
    "            '--Nodes_In_Category', type='str', default='1', help='total nodes in the graph')\n",
    "        \n",
    "    def mapper_init(self):\n",
    "        #self.alpha = float(self.options.alpha)\n",
    "        #self.total_nodes = int(self.options.TOTAL_NODES)\n",
    "        self.danglingMass = 1-(self.options.danglingMass/1000000)\n",
    "        #self.nodes_in_category = self.options.Nodes_In_Category.split(\",\")\n",
    "        self.nodes_in_category = re.findall('\\d+', self.nodes_in_category)\n",
    "        \n",
    "\n",
    "    def mapper(self, _, line):\n",
    "\n",
    "        line = line.strip()\n",
    "        node, data = line.split(\"\\t\")\n",
    "        node = re.findall(\"[A-Z]|[\\d+]\", node)[0]\n",
    "        \n",
    "        \n",
    "        data = data.strip(\"[]\")\n",
    "        data = data.split('\"|\"')\n",
    "        \n",
    "        PR = re.findall('\\d+\\.?\\d*', data[0])[0]\n",
    "        PR = float(PR)\n",
    "\n",
    "        if node in self.nodes_in_category:\n",
    "            redist_PR = self.options.beta*self.options.alpha*(1/self.options.Category_Total)+(1-self.options.alpha)*((self.danglingMass/self.options.TOTAL_NODES)+PR)\n",
    "        else:\n",
    "            redist_PR = (1-self.options.beta)*(self.options.alpha)*(1/(self.options.TOTAL_NODES-self.options.Category_total))+(1-self.options.alpha)*((self.danglingMass/self.options.TOTAL_NODES)+PR)\n",
    "\n",
    "        edges = re.findall('{.*}', data[1])[0]\n",
    "        edges = edges.replace(\"'\", \"\\\"\")\n",
    "        edges = json.loads(edges)       \n",
    "\n",
    "        yield node, (redist_PR, edges)\n",
    "        \n",
    "    \n",
    "    def reducer(self, key, values):\n",
    "\n",
    "        for value in values:\n",
    "            edges = value[1]\n",
    "            PR = value[0]\n",
    "            \n",
    "        yield key, (PR, \"|\", edges)\n",
    "        \n",
    "            \n",
    "if __name__ == '__main__':\n",
    "    PageRankIterateTopic.run()"
   ]
  },
  {
   "cell_type": "markdown",
   "metadata": {},
   "source": [
    "### Driver Code for Topic Specific PageRank (on randNet dataset)"
   ]
  },
  {
   "cell_type": "code",
   "execution_count": 1,
   "metadata": {
    "collapsed": false
   },
   "outputs": [
    {
     "name": "stdout",
     "output_type": "stream",
     "text": [
      "(<type 'str'>, '1')\n",
      "(<type 'str'>, '2')\n",
      "(<type 'str'>, '3')\n",
      "(<type 'str'>, '4')\n",
      "(<type 'str'>, '5')\n",
      "(<type 'str'>, '6')\n",
      "(<type 'str'>, '7')\n",
      "(<type 'str'>, '8')\n",
      "(<type 'str'>, '9')\n",
      "(<type 'str'>, '10')\n",
      "(<type 'str'>, '11')\n",
      "(<type 'str'>, '12')\n",
      "(<type 'str'>, '13')\n",
      "(<type 'str'>, '14')\n",
      "(<type 'str'>, '15')\n",
      "(<type 'str'>, '16')\n",
      "(<type 'str'>, '17')\n",
      "(<type 'str'>, '18')\n",
      "(<type 'str'>, '19')\n",
      "(<type 'str'>, '20')\n",
      "(<type 'str'>, '21')\n",
      "(<type 'str'>, '22')\n",
      "(<type 'str'>, '23')\n",
      "(<type 'str'>, '24')\n",
      "(<type 'str'>, '25')\n",
      "(<type 'str'>, '26')\n",
      "(<type 'str'>, '27')\n",
      "(<type 'str'>, '28')\n",
      "(<type 'str'>, '29')\n",
      "(<type 'str'>, '30')\n",
      "(<type 'str'>, '31')\n",
      "(<type 'str'>, '32')\n",
      "(<type 'str'>, '33')\n",
      "(<type 'str'>, '34')\n",
      "(<type 'str'>, '35')\n",
      "(<type 'str'>, '36')\n",
      "(<type 'str'>, '37')\n",
      "(<type 'str'>, '38')\n",
      "(<type 'str'>, '39')\n",
      "(<type 'str'>, '40')\n",
      "(<type 'str'>, '41')\n",
      "(<type 'str'>, '42')\n",
      "(<type 'str'>, '43')\n",
      "(<type 'str'>, '44')\n",
      "(<type 'str'>, '45')\n",
      "(<type 'str'>, '46')\n",
      "(<type 'str'>, '47')\n",
      "(<type 'str'>, '48')\n",
      "(<type 'str'>, '49')\n",
      "(<type 'str'>, '50')\n",
      "(<type 'str'>, '51')\n",
      "(<type 'str'>, '52')\n",
      "(<type 'str'>, '53')\n",
      "(<type 'str'>, '54')\n",
      "(<type 'str'>, '55')\n",
      "(<type 'str'>, '56')\n",
      "(<type 'str'>, '57')\n",
      "(<type 'str'>, '58')\n",
      "(<type 'str'>, '59')\n",
      "(<type 'str'>, '60')\n",
      "(<type 'str'>, '61')\n",
      "(<type 'str'>, '62')\n",
      "(<type 'str'>, '63')\n",
      "(<type 'str'>, '64')\n",
      "(<type 'str'>, '65')\n",
      "(<type 'str'>, '66')\n",
      "(<type 'str'>, '67')\n",
      "(<type 'str'>, '68')\n",
      "(<type 'str'>, '69')\n",
      "(<type 'str'>, '70')\n",
      "(<type 'str'>, '71')\n",
      "(<type 'str'>, '72')\n",
      "(<type 'str'>, '73')\n",
      "(<type 'str'>, '74')\n",
      "(<type 'str'>, '75')\n",
      "(<type 'str'>, '76')\n",
      "(<type 'str'>, '77')\n",
      "(<type 'str'>, '78')\n",
      "(<type 'str'>, '79')\n",
      "(<type 'str'>, '80')\n",
      "(<type 'str'>, '81')\n",
      "(<type 'str'>, '82')\n",
      "(<type 'str'>, '83')\n",
      "(<type 'str'>, '84')\n",
      "(<type 'str'>, '85')\n",
      "(<type 'str'>, '86')\n",
      "(<type 'str'>, '87')\n",
      "(<type 'str'>, '88')\n",
      "(<type 'str'>, '89')\n",
      "(<type 'str'>, '90')\n",
      "(<type 'str'>, '91')\n",
      "(<type 'str'>, '92')\n",
      "(<type 'str'>, '93')\n",
      "(<type 'str'>, '94')\n",
      "(<type 'str'>, '95')\n",
      "(<type 'str'>, '96')\n",
      "(<type 'str'>, '97')\n",
      "(<type 'str'>, '98')\n",
      "(<type 'str'>, '99')\n",
      "(<type 'str'>, '100')\n",
      "['10', '16', '19', '26', '27', '29', '32', '33', '36', '44', '46', '52', '67', '77', '81', '92', '98']\n",
      "17\n",
      "defaultdict(<type 'int'>, {'10': 12, '1': 17, '3': 9, '2': 8, '5': 9, '4': 13, '7': 10, '6': 6, '9': 7, '8': 9})\n"
     ]
    }
   ],
   "source": [
    "from collections import defaultdict\n",
    "import re\n",
    "\n",
    "category = \"1\"\n",
    "category_counts = defaultdict(int)\n",
    "nodes_in_category = []\n",
    "\n",
    "with open(\"randNet_topics.txt\",\"r\") as file:\n",
    "    for line in file:\n",
    "        node, data = line.strip().split(\"\\t\")\n",
    "        print(type(node), node)\n",
    "#         node = re.findall(\"[A-Z]|[\\d+]\", node)[0]\n",
    "#         data = re.findall(\"[A-Z]|[\\d+]\", data)[0]\n",
    "        \n",
    "        # total nodes in each category\n",
    "        category_counts[data]+=1\n",
    "        \n",
    "        if data == category:\n",
    "            nodes_in_category.append(node)\n",
    "print(nodes_in_category)\n",
    "print(len(nodes_in_category))\n",
    "print(category_counts)"
   ]
  },
  {
   "cell_type": "code",
   "execution_count": 13,
   "metadata": {
    "collapsed": false
   },
   "outputs": [
    {
     "name": "stdout",
     "output_type": "stream",
     "text": [
      "['1', '2', '3', '4']\n"
     ]
    }
   ],
   "source": [
    "import re\n",
    "\n",
    "test = '[1,2,3,4]'\n",
    "test = re.findall('\\d+', test)\n",
    "print(test)\n"
   ]
  },
  {
   "cell_type": "code",
   "execution_count": 2,
   "metadata": {
    "collapsed": false
   },
   "outputs": [
    {
     "name": "stdout",
     "output_type": "stream",
     "text": [
      "Deleted /user/root/graph_output/randNet\r\n"
     ]
    },
    {
     "name": "stderr",
     "output_type": "stream",
     "text": [
      "No handlers could be found for logger \"mrjob.hadoop\"\n"
     ]
    },
    {
     "ename": "StepFailedException",
     "evalue": "Step 1 of 1 failed: Command '['/usr/bin/hadoop', 'jar', '/usr/lib/hadoop-mapreduce/hadoop-streaming.jar', '-files', 'hdfs:///user/root/tmp/mrjob/PageRankIterateTopic.root.20170718.054719.494537/files/PageRankIterateTopic.py#PageRankIterateTopic.py,hdfs:///user/root/tmp/mrjob/PageRankIterateTopic.root.20170718.054719.494537/files/mrjob.zip#mrjob.zip,hdfs:///user/root/tmp/mrjob/PageRankIterateTopic.root.20170718.054719.494537/files/randNet_topics.txt#randNet_topics.txt,hdfs:///user/root/tmp/mrjob/PageRankIterateTopic.root.20170718.054719.494537/files/setup-wrapper.sh#setup-wrapper.sh', '-input', 'hdfs:///user/root/graph_output/randNet/iterations/iteration1_1/part-*', '-output', 'hdfs:///user/root/graph_output/randNet/iterations/iteration2', '-mapper', 'sh -ex setup-wrapper.sh python PageRankIterateTopic.py --step-num=0 --mapper --Category 1 --Category_Total 17 --Nodes_In_Category \\'[\\'\"\\'\"\\'10\\'\"\\'\"\\', \\'\"\\'\"\\'16\\'\"\\'\"\\', \\'\"\\'\"\\'19\\'\"\\'\"\\', \\'\"\\'\"\\'26\\'\"\\'\"\\', \\'\"\\'\"\\'27\\'\"\\'\"\\', \\'\"\\'\"\\'29\\'\"\\'\"\\', \\'\"\\'\"\\'32\\'\"\\'\"\\', \\'\"\\'\"\\'33\\'\"\\'\"\\', \\'\"\\'\"\\'36\\'\"\\'\"\\', \\'\"\\'\"\\'44\\'\"\\'\"\\', \\'\"\\'\"\\'46\\'\"\\'\"\\', \\'\"\\'\"\\'52\\'\"\\'\"\\', \\'\"\\'\"\\'67\\'\"\\'\"\\', \\'\"\\'\"\\'77\\'\"\\'\"\\', \\'\"\\'\"\\'81\\'\"\\'\"\\', \\'\"\\'\"\\'92\\'\"\\'\"\\', \\'\"\\'\"\\'98\\'\"\\'\"\\']\\' --TOTAL_NODES 100 --alpha 0.15 --beta 0.99 --danglingMass 1000000', '-reducer', 'sh -ex setup-wrapper.sh python PageRankIterateTopic.py --step-num=0 --reducer --Category 1 --Category_Total 17 --Nodes_In_Category \\'[\\'\"\\'\"\\'10\\'\"\\'\"\\', \\'\"\\'\"\\'16\\'\"\\'\"\\', \\'\"\\'\"\\'19\\'\"\\'\"\\', \\'\"\\'\"\\'26\\'\"\\'\"\\', \\'\"\\'\"\\'27\\'\"\\'\"\\', \\'\"\\'\"\\'29\\'\"\\'\"\\', \\'\"\\'\"\\'32\\'\"\\'\"\\', \\'\"\\'\"\\'33\\'\"\\'\"\\', \\'\"\\'\"\\'36\\'\"\\'\"\\', \\'\"\\'\"\\'44\\'\"\\'\"\\', \\'\"\\'\"\\'46\\'\"\\'\"\\', \\'\"\\'\"\\'52\\'\"\\'\"\\', \\'\"\\'\"\\'67\\'\"\\'\"\\', \\'\"\\'\"\\'77\\'\"\\'\"\\', \\'\"\\'\"\\'81\\'\"\\'\"\\', \\'\"\\'\"\\'92\\'\"\\'\"\\', \\'\"\\'\"\\'98\\'\"\\'\"\\']\\' --TOTAL_NODES 100 --alpha 0.15 --beta 0.99 --danglingMass 1000000']' returned non-zero exit status 256",
     "output_type": "error",
     "traceback": [
      "\u001b[0;31m\u001b[0m",
      "\u001b[0;31mStepFailedException\u001b[0mTraceback (most recent call last)",
      "\u001b[0;32m<ipython-input-2-04685d0b672b>\u001b[0m in \u001b[0;36m<module>\u001b[0;34m()\u001b[0m\n\u001b[1;32m     69\u001b[0m                         \"--beta={}\".format(beta), \"--Nodes_In_Category={}\".format(str(nodes_in_category))])\n\u001b[1;32m     70\u001b[0m         \u001b[0;32mwith\u001b[0m \u001b[0mmr_job4\u001b[0m\u001b[0;34m.\u001b[0m\u001b[0mmake_runner\u001b[0m\u001b[0;34m(\u001b[0m\u001b[0;34m)\u001b[0m \u001b[0;32mas\u001b[0m \u001b[0mrunner\u001b[0m\u001b[0;34m:\u001b[0m\u001b[0;34m\u001b[0m\u001b[0m\n\u001b[0;32m---> 71\u001b[0;31m             \u001b[0mrunner\u001b[0m\u001b[0;34m.\u001b[0m\u001b[0mrun\u001b[0m\u001b[0;34m(\u001b[0m\u001b[0;34m)\u001b[0m\u001b[0;34m\u001b[0m\u001b[0m\n\u001b[0m\u001b[1;32m     72\u001b[0m         \u001b[0mcount\u001b[0m \u001b[0;34m+=\u001b[0m \u001b[0;36m1\u001b[0m\u001b[0;34m\u001b[0m\u001b[0m\n\u001b[1;32m     73\u001b[0m         \u001b[0mget_ipython\u001b[0m\u001b[0;34m(\u001b[0m\u001b[0;34m)\u001b[0m\u001b[0;34m.\u001b[0m\u001b[0msystem\u001b[0m\u001b[0;34m(\u001b[0m\u001b[0;34mu\"old_path=$(hdfs dfs -ls /user/root/graph_output/randNet/iterations | tail -2 | awk '{print $8}' | sort -V | head -1); hdfs dfs -rm -r $old_path\"\u001b[0m\u001b[0;34m)\u001b[0m\u001b[0;34m\u001b[0m\u001b[0m\n",
      "\u001b[0;32m/opt/anaconda/lib/python2.7/site-packages/mrjob/runner.pyc\u001b[0m in \u001b[0;36mrun\u001b[0;34m(self)\u001b[0m\n\u001b[1;32m    414\u001b[0m                         ' encoding issues\\n')\n\u001b[1;32m    415\u001b[0m \u001b[0;34m\u001b[0m\u001b[0m\n\u001b[0;32m--> 416\u001b[0;31m         \u001b[0mself\u001b[0m\u001b[0;34m.\u001b[0m\u001b[0m_run\u001b[0m\u001b[0;34m(\u001b[0m\u001b[0;34m)\u001b[0m\u001b[0;34m\u001b[0m\u001b[0m\n\u001b[0m\u001b[1;32m    417\u001b[0m         \u001b[0mself\u001b[0m\u001b[0;34m.\u001b[0m\u001b[0m_ran_job\u001b[0m \u001b[0;34m=\u001b[0m \u001b[0mTrue\u001b[0m\u001b[0;34m\u001b[0m\u001b[0m\n\u001b[1;32m    418\u001b[0m \u001b[0;34m\u001b[0m\u001b[0m\n",
      "\u001b[0;32m/opt/anaconda/lib/python2.7/site-packages/mrjob/hadoop.pyc\u001b[0m in \u001b[0;36m_run\u001b[0;34m(self)\u001b[0m\n\u001b[1;32m    354\u001b[0m         \u001b[0mself\u001b[0m\u001b[0;34m.\u001b[0m\u001b[0m_add_job_files_for_upload\u001b[0m\u001b[0;34m(\u001b[0m\u001b[0;34m)\u001b[0m\u001b[0;34m\u001b[0m\u001b[0m\n\u001b[1;32m    355\u001b[0m         \u001b[0mself\u001b[0m\u001b[0;34m.\u001b[0m\u001b[0m_upload_local_files_to_hdfs\u001b[0m\u001b[0;34m(\u001b[0m\u001b[0;34m)\u001b[0m\u001b[0;34m\u001b[0m\u001b[0m\n\u001b[0;32m--> 356\u001b[0;31m         \u001b[0mself\u001b[0m\u001b[0;34m.\u001b[0m\u001b[0m_run_job_in_hadoop\u001b[0m\u001b[0;34m(\u001b[0m\u001b[0;34m)\u001b[0m\u001b[0;34m\u001b[0m\u001b[0m\n\u001b[0m\u001b[1;32m    357\u001b[0m \u001b[0;34m\u001b[0m\u001b[0m\n\u001b[1;32m    358\u001b[0m     \u001b[0;32mdef\u001b[0m \u001b[0m_find_binaries_and_jars\u001b[0m\u001b[0;34m(\u001b[0m\u001b[0mself\u001b[0m\u001b[0;34m)\u001b[0m\u001b[0;34m:\u001b[0m\u001b[0;34m\u001b[0m\u001b[0m\n",
      "\u001b[0;32m/opt/anaconda/lib/python2.7/site-packages/mrjob/hadoop.pyc\u001b[0m in \u001b[0;36m_run_job_in_hadoop\u001b[0;34m(self)\u001b[0m\n\u001b[1;32m    502\u001b[0m                 raise StepFailedException(\n\u001b[1;32m    503\u001b[0m                     \u001b[0mreason\u001b[0m\u001b[0;34m=\u001b[0m\u001b[0mreason\u001b[0m\u001b[0;34m,\u001b[0m \u001b[0mstep_num\u001b[0m\u001b[0;34m=\u001b[0m\u001b[0mstep_num\u001b[0m\u001b[0;34m,\u001b[0m\u001b[0;34m\u001b[0m\u001b[0m\n\u001b[0;32m--> 504\u001b[0;31m                     num_steps=self._num_steps())\n\u001b[0m\u001b[1;32m    505\u001b[0m \u001b[0;34m\u001b[0m\u001b[0m\n\u001b[1;32m    506\u001b[0m     \u001b[0;32mdef\u001b[0m \u001b[0m_warn_about_spark_archives\u001b[0m\u001b[0;34m(\u001b[0m\u001b[0mself\u001b[0m\u001b[0;34m,\u001b[0m \u001b[0mstep\u001b[0m\u001b[0;34m)\u001b[0m\u001b[0;34m:\u001b[0m\u001b[0;34m\u001b[0m\u001b[0m\n",
      "\u001b[0;31mStepFailedException\u001b[0m: Step 1 of 1 failed: Command '['/usr/bin/hadoop', 'jar', '/usr/lib/hadoop-mapreduce/hadoop-streaming.jar', '-files', 'hdfs:///user/root/tmp/mrjob/PageRankIterateTopic.root.20170718.054719.494537/files/PageRankIterateTopic.py#PageRankIterateTopic.py,hdfs:///user/root/tmp/mrjob/PageRankIterateTopic.root.20170718.054719.494537/files/mrjob.zip#mrjob.zip,hdfs:///user/root/tmp/mrjob/PageRankIterateTopic.root.20170718.054719.494537/files/randNet_topics.txt#randNet_topics.txt,hdfs:///user/root/tmp/mrjob/PageRankIterateTopic.root.20170718.054719.494537/files/setup-wrapper.sh#setup-wrapper.sh', '-input', 'hdfs:///user/root/graph_output/randNet/iterations/iteration1_1/part-*', '-output', 'hdfs:///user/root/graph_output/randNet/iterations/iteration2', '-mapper', 'sh -ex setup-wrapper.sh python PageRankIterateTopic.py --step-num=0 --mapper --Category 1 --Category_Total 17 --Nodes_In_Category \\'[\\'\"\\'\"\\'10\\'\"\\'\"\\', \\'\"\\'\"\\'16\\'\"\\'\"\\', \\'\"\\'\"\\'19\\'\"\\'\"\\', \\'\"\\'\"\\'26\\'\"\\'\"\\', \\'\"\\'\"\\'27\\'\"\\'\"\\', \\'\"\\'\"\\'29\\'\"\\'\"\\', \\'\"\\'\"\\'32\\'\"\\'\"\\', \\'\"\\'\"\\'33\\'\"\\'\"\\', \\'\"\\'\"\\'36\\'\"\\'\"\\', \\'\"\\'\"\\'44\\'\"\\'\"\\', \\'\"\\'\"\\'46\\'\"\\'\"\\', \\'\"\\'\"\\'52\\'\"\\'\"\\', \\'\"\\'\"\\'67\\'\"\\'\"\\', \\'\"\\'\"\\'77\\'\"\\'\"\\', \\'\"\\'\"\\'81\\'\"\\'\"\\', \\'\"\\'\"\\'92\\'\"\\'\"\\', \\'\"\\'\"\\'98\\'\"\\'\"\\']\\' --TOTAL_NODES 100 --alpha 0.15 --beta 0.99 --danglingMass 1000000', '-reducer', 'sh -ex setup-wrapper.sh python PageRankIterateTopic.py --step-num=0 --reducer --Category 1 --Category_Total 17 --Nodes_In_Category \\'[\\'\"\\'\"\\'10\\'\"\\'\"\\', \\'\"\\'\"\\'16\\'\"\\'\"\\', \\'\"\\'\"\\'19\\'\"\\'\"\\', \\'\"\\'\"\\'26\\'\"\\'\"\\', \\'\"\\'\"\\'27\\'\"\\'\"\\', \\'\"\\'\"\\'29\\'\"\\'\"\\', \\'\"\\'\"\\'32\\'\"\\'\"\\', \\'\"\\'\"\\'33\\'\"\\'\"\\', \\'\"\\'\"\\'36\\'\"\\'\"\\', \\'\"\\'\"\\'44\\'\"\\'\"\\', \\'\"\\'\"\\'46\\'\"\\'\"\\', \\'\"\\'\"\\'52\\'\"\\'\"\\', \\'\"\\'\"\\'67\\'\"\\'\"\\', \\'\"\\'\"\\'77\\'\"\\'\"\\', \\'\"\\'\"\\'81\\'\"\\'\"\\', \\'\"\\'\"\\'92\\'\"\\'\"\\', \\'\"\\'\"\\'98\\'\"\\'\"\\']\\' --TOTAL_NODES 100 --alpha 0.15 --beta 0.99 --danglingMass 1000000']' returned non-zero exit status 256"
     ]
    }
   ],
   "source": [
    "from PageRankInit1 import PageRankInit1\n",
    "from PageRankInit2 import PageRankInit2\n",
    "from PageRankIterate1 import PageRankIterate1\n",
    "from PageRankIterateTopic import PageRankIterateTopic\n",
    "from collections import defaultdict\n",
    "import re\n",
    "\n",
    "!hdfs dfs -rm -r /user/root/graph_output/randNet\n",
    "!hdfs dfs -mkdir /user/root/graph_output/randNet\n",
    "!hdfs dfs -mkdir /user/root/graph_output/randNet/iterations\n",
    "!hdfs dfs -copyFromLocal /media/notebooks/randNet.txt /user/root/graph_output/randNet/randNet.txt\n",
    "!hdfs dfs -copyFromLocal /media/notebooks/randNet_topics.txt /user/root/graph_output/randNet/randNet_topics.txt\n",
    "\n",
    "category_counts = defaultdict(int)\n",
    "categories = []\n",
    "\n",
    "\n",
    "\n",
    "count = 0\n",
    "#set the number of iterations to perform (set this to 2 higher than the number of iterations you actually want)\n",
    "total_iterations = 7\n",
    "alpha = .15\n",
    "beta = .99\n",
    "category = \"1\"\n",
    "nodes_in_category=[]\n",
    "\n",
    "with open(\"randNet_topics.txt\",\"r\") as file:\n",
    "    for line in file:\n",
    "        node, data = line.strip().split(\"\\t\")\n",
    "        \n",
    "        # total nodes in each category\n",
    "        category_counts[data]+=1\n",
    "        \n",
    "        if data == category:\n",
    "            nodes_in_category.append(node)\n",
    "\n",
    "\n",
    "while(count < total_iterations):\n",
    "    # initialize the priority queue for the graph data\n",
    "    if count == 0:\n",
    "        \n",
    "        # get the total nodes in the graph\n",
    "        mr_job1 = PageRankInit1(args=['-r', 'hadoop', 'hdfs:///user/root/graph_output/randNet/randNet.txt/'])    \n",
    "        with mr_job1.make_runner() as runner:\n",
    "            runner.run()\n",
    "            num_nodes = (runner.counters()[0]['reducer']['total nodes'])        \n",
    "        count += 1\n",
    "        \n",
    "    elif count == 1:\n",
    "        \n",
    "        # initialize PR on all nodes\n",
    "        mr_job2 = PageRankInit2(args=['-r', 'hadoop', 'hdfs:///user/root/graph_output/randNet/randNet.txt', \n",
    "                                      '--output-dir', '/user/root/graph_output/randNet/iterations/iteration1/', \n",
    "                                      \"--numNodes={}\".format(num_nodes)])\n",
    "        with mr_job2.make_runner() as runner:\n",
    "            runner.run()     \n",
    "        count += 1\n",
    "    else:\n",
    "        mr_job3 = PageRankIterate1(args=['-r', 'hadoop', 'hdfs:///user/root/graph_output/randNet/iterations/iteration{}/part-*'.format(count-1), \n",
    "                              '--output-dir', '/user/root/graph_output/randNet/iterations/iteration{}_1'.format(count-1)])\n",
    "        with mr_job3.make_runner() as runner:\n",
    "            runner.run()     \n",
    "            dangling_mass = (runner.counters()[0]['mapper']['PR_TOTAL'])\n",
    "            \n",
    "        mr_job4 = PageRankIterateTopic(args=['-r', 'hadoop', 'hdfs:///user/root/graph_output/randNet/iterations/iteration{}_1/part-*'.format(count-1), \n",
    "                        '--output-dir', '/user/root/graph_output/randNet/iterations/iteration{}'.format(count), \n",
    "                        '--file', 'randNet_topics.txt',\"--danglingMass={}\".format(dangling_mass), \"--TOTAL_NODES={}\".format(num_nodes), \n",
    "                        \"--alpha={}\".format(alpha), \"--Category={}\".format(category), \"--Category_Total={}\".format(category_counts[category]),\n",
    "                        \"--beta={}\".format(beta), \"--Nodes_In_Category={}\".format(str(nodes_in_category))])\n",
    "        with mr_job4.make_runner() as runner:\n",
    "            runner.run()     \n",
    "        count += 1\n",
    "        !old_path=$(hdfs dfs -ls /user/root/graph_output/randNet/iterations | tail -2 | awk '{print $8}' | sort -V | head -1); hdfs dfs -rm -r $old_path\n",
    "        !old_path=$(hdfs dfs -ls /user/root/graph_output/randNet/iterations | tail -2 | awk '{print $8}' | sort -V | head -1); hdfs dfs -rm -r $old_path\n"
   ]
  },
  {
   "cell_type": "code",
   "execution_count": 112,
   "metadata": {
    "collapsed": false
   },
   "outputs": [
    {
     "name": "stdout",
     "output_type": "stream",
     "text": [
      "MIDS-W261-HW-05-PHASE2-MASTER.ipynb    W261+Troubleshooting (1).ipynb\r\n",
      "MIDS-W261-HW-05-PHASE2-TEMPLATE.ipynb  directed_toy_graph.txt\r\n",
      "MIDS-W261-HW-07-MASTER.ipynb\t       directed_toy_graph3.txt\r\n",
      "MIDS-W261-HW-07-Skarbrevik (5).ipynb   graph_results\r\n",
      "MIDS-W261-HW-07-Skarbrevik.ipynb       initial_graph\r\n",
      "MIDS-W261-HW-07_1-Skarbrevik.ipynb     initial_graph2\r\n",
      "MIDS-W261-HW-09-Skarbrevik.ipynb       initial_graph3\r\n",
      "PageRank-test.txt\t\t       initial_graph4\r\n",
      "PageRankInit1.py\t\t       iteration1_directed\r\n",
      "PageRankInit1.pyc\t\t       iteration2_directed\r\n",
      "PageRankInit2.py\t\t       iteration3_directed\r\n",
      "PageRankInit2.pyc\t\t       iteration4_directed\r\n",
      "PageRankIterate.py\t\t       iteration5_directed\r\n",
      "PageRankIterate1.py\t\t       iteration6_directed\r\n",
      "PageRankIterate1.pyc\t\t       randNet.txt\r\n",
      "PageRankIterate2.py\t\t       randNet_topics.txt\r\n",
      "PageRankIterate2.pyc\t\t       synNet.txt\r\n",
      "Power Iteration Method.ipynb\t       test2png.png\r\n",
      "ReducerSideJoins.ipynb\t\t       test_out_init1\r\n",
      "ShortestPathExpand.py\t\t       toy_pagerank_output_0_85\r\n",
      "ShortestPathExpand.pyc\t\t       undirected_toy_graph.txt\r\n",
      "ShortestPathInitialize.py\t       undirected_weighted_toy_graph.txt\r\n",
      "ShortestPathInitialize.pyc\r\n"
     ]
    }
   ],
   "source": [
    "!ls"
   ]
  },
  {
   "cell_type": "markdown",
   "metadata": {},
   "source": [
    "### HW 9.4 Analysis"
   ]
  },
  {
   "cell_type": "markdown",
   "metadata": {},
   "source": []
  },
  {
   "cell_type": "markdown",
   "metadata": {},
   "source": [
    "# ---------  OPTIONAL QUESTIONS SECTION --------"
   ]
  },
  {
   "cell_type": "markdown",
   "metadata": {},
   "source": [
    "## HW9.5: (OPTIONAL) Applying topic-specific PageRank to Wikipedia\n",
    "\n",
    "Here you will apply your topic-specific PageRank implementation to Wikipedia, defining topics (very arbitrarily) for each page by the length (number of characters) of the name of the article mod 10, so that there are 10 topics. \n",
    "\n",
    "* Once again, print out the top ten ranking nodes and their topics for each of the 11 versions, and comment on your result. Assume a teleportation factor of 0.15 in all your analyses. Run for 10 iterations.\n",
    "* Plot the pagerank values for the top 100 pages resulting from the 5 iterations run in HW 9.3. \n",
    "* Then plot the pagerank values for the same 100 pages that result from the topic specific pagerank after 10 iterations run. \n",
    "* Comment on your findings. "
   ]
  },
  {
   "cell_type": "markdown",
   "metadata": {},
   "source": [
    "### HW 9.5 Implementation"
   ]
  },
  {
   "cell_type": "code",
   "execution_count": 5,
   "metadata": {
    "collapsed": true
   },
   "outputs": [],
   "source": [
    "# START STUDENT CODE 9.5\n",
    "# (ADD CELLS AS NEEDED)\n",
    "\n",
    "# END STUDENT CODE 9.5"
   ]
  },
  {
   "cell_type": "markdown",
   "metadata": {},
   "source": [
    "### HW 9.5 Analysis"
   ]
  },
  {
   "cell_type": "markdown",
   "metadata": {},
   "source": []
  },
  {
   "cell_type": "markdown",
   "metadata": {},
   "source": [
    "## HW9.6:  (OPTIONAL) TextRank\n",
    "\n",
    "* What is TextRank? Describe the main steps in the algorithm. Why does TextRank work?\n",
    "* Implement TextRank in MrJob for keyword phrases (not just unigrams) extraction using co-occurrence based similarity measure with with sizes of N = 2 and 3. And evaluate your code using the following example using precision, recall, and FBeta (Beta=1):\n",
    "```\n",
    "\"Compatibility of systems of linear constraints over the set of natural numbers\n",
    "Criteria of compatibility of a system of linear Diophantine equations, strict \n",
    "inequations, and nonstrict inequations are considered. Upper bounds for\n",
    "components of a minimal set of solutions and algorithms of construction of \n",
    "minimal generating sets of solutions for all types of systems are given. \n",
    "These criteria and the corresponding algorithms for constructing a minimal \n",
    "supporting set of solutions can be used in solving all the considered types of \n",
    "systems and systems of mixed types.\" \n",
    "```\n",
    "* The extracted keywords should be in the following set:\n",
    "```\n",
    "linear constraints, linear diophantine equations, natural numbers, non-strict inequations, strict inequations, upper bounds\n",
    "```"
   ]
  },
  {
   "cell_type": "markdown",
   "metadata": {},
   "source": [
    "### HW 9.6 Implementation"
   ]
  },
  {
   "cell_type": "code",
   "execution_count": 7,
   "metadata": {
    "collapsed": true
   },
   "outputs": [],
   "source": [
    "# START STUDENT CODE 9.6\n",
    "# (ADD CELLS AS NEEDED)\n",
    "\n",
    "# END STUDENT CODE 9.6"
   ]
  },
  {
   "cell_type": "markdown",
   "metadata": {},
   "source": [
    "### HW 9.6 Analysis"
   ]
  },
  {
   "cell_type": "markdown",
   "metadata": {},
   "source": []
  },
  {
   "cell_type": "markdown",
   "metadata": {},
   "source": [
    "<center><div class='jumbotron'>-------  END OF HWK 9 --------</div></center>"
   ]
  }
 ],
 "metadata": {
  "anaconda-cloud": {},
  "kernelspec": {
   "display_name": "Python 2",
   "language": "python",
   "name": "python2"
  },
  "language_info": {
   "codemirror_mode": {
    "name": "ipython",
    "version": 2
   },
   "file_extension": ".py",
   "mimetype": "text/x-python",
   "name": "python",
   "nbconvert_exporter": "python",
   "pygments_lexer": "ipython2",
   "version": "2.7.13"
  },
  "toc": {
   "colors": {
    "hover_highlight": "#DAA520",
    "running_highlight": "#FF0000",
    "selected_highlight": "#FFD700"
   },
   "moveMenuLeft": true,
   "nav_menu": {
    "height": "512px",
    "width": "252px"
   },
   "navigate_menu": true,
   "number_sections": true,
   "sideBar": false,
   "threshold": 4,
   "toc_cell": true,
   "toc_section_display": "block",
   "toc_window_display": true
  }
 },
 "nbformat": 4,
 "nbformat_minor": 0
}
