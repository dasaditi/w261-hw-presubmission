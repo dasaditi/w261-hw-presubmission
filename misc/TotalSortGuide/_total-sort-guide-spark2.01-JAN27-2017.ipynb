{
 "cells": [
  {
   "cell_type": "markdown",
   "metadata": {},
   "source": [
    "<a name=\"top\">&nbsp;</a>\n",
    "<h1>A Comprehensive Guide to the Total Order Sort <br>\n",
    "design pattern in MapReduce</h1>\n",
    "<h2>With Hadoop Streaming, MRJob, and Spark</h2>\n",
    "<hr>\n",
    "__by James G. Shanahan, Kyle Hamilton, Yiran Sheng__\n",
    "\n",
    "University of California, Berkeley\n",
    "\n",
    "__Email__: jimi@ischool.berkeley.edu, kylehamilton@ischool.berkeley.edu, yiran@ischool.berkeley.edu\n",
    "\n",
    "\n"
   ]
  },
  {
   "cell_type": "code",
   "execution_count": 7,
   "metadata": {
    "collapsed": true
   },
   "outputs": [],
   "source": [
    "from IPython.display import Image, HTML"
   ]
  },
  {
   "cell_type": "code",
   "execution_count": 8,
   "metadata": {
    "collapsed": false
   },
   "outputs": [
    {
     "data": {
      "text/html": [
       "<style>@import 'https://fonts.googleapis.com/css?family=Source+Sans+Pro';\n",
       "\n",
       ".toc-item {\n",
       "  margin: 0!important;\n",
       "  margin-top: 36px!important;\n",
       "  list-style: none;\n",
       "}\n",
       ".toc-item li {\n",
       "  color: #b0dbd9;\n",
       "  margin: 5px 0 5px 10px;\n",
       "  text-shadow: 0 1px 0 white;\n",
       "  list-style: none;\n",
       "}\n",
       ".toc-item li:before {\n",
       "  content: '\\25ca';\n",
       "  display: inline-block;\n",
       "  color: #242433;\n",
       "  padding: 2px;\n",
       "  border-radius: .5px;\n",
       "  float: left;\n",
       "  clear: left;\n",
       "  margin-left: -10px;\n",
       "  margin-top: -3px;\n",
       "  padding: 2px 10px 0 0;\n",
       "}\n",
       "/* jupyter auto add name attributes to H* tags \n",
       " * we will use classNames to simulate title tags */ \n",
       ".toc-heading {\n",
       "  font-size: 18px;\n",
       "}\n",
       "\n",
       "main {\n",
       "  min-width: 320px;\n",
       "  /*max-width: 800px;\n",
       "  padding: 50px;*/\n",
       "  margin: 0 auto;\n",
       "  background: #fff;\n",
       "}\n",
       "a, a:hover, a:link, a:visited{\n",
       "  color:#0b349b;\n",
       "}\n",
       "\n",
       "h2 a, h3 a, h4 a,\n",
       "h2 a:hover,   h3 a:hover,   h4 a:hover,\n",
       "h2 a:link,    h3 a:link,    h4 a:link,\n",
       "h2 a:visited, h3 a:visited, h4 a:visited {\n",
       "  color:#031355;\n",
       "}\n",
       "\n",
       ".color-start{\n",
       "  background-color: #bdd971;\n",
       "}\n",
       ".color-middle{\n",
       "  background-color: #ffe474;\n",
       "}\n",
       ".color-end{\n",
       "  background-color: #abe1f5;\n",
       "}\n",
       "ul.toc-item > li{\n",
       "  list-style: none;\n",
       "}\n",
       "section.tab {\n",
       "  display: none;\n",
       "  padding: 20px 0 0;\n",
       "  border-top: 1px solid #ddd;\n",
       "}\n",
       "\n",
       "input.tab-state {\n",
       "  display: none;\n",
       "}\n",
       "\n",
       "label {\n",
       "  display: inline-block;\n",
       "  margin: 0 0 -1px;\n",
       "  padding: 15px 25px;\n",
       "  font-weight: 600;\n",
       "  text-align: center;\n",
       "  color: #787878;;\n",
       "  border: 1px solid transparent;\n",
       "}\n",
       "\n",
       "label:hover {\n",
       "  color: #888;\n",
       "  cursor: pointer;\n",
       "}\n",
       "\n",
       "input:checked + label {\n",
       "  color: #010b35;\n",
       "  border: 1px solid #ddd;\n",
       "  border-top:3px solid #f93933;\n",
       "  border-bottom: 1px solid #fff;\n",
       "}\n",
       "\n",
       "#tab1:checked ~ #content1,\n",
       "#tab2:checked ~ #content2,\n",
       "#tab3:checked ~ #content3,\n",
       "#tab4:checked ~ #content4,\n",
       "#tab5:checked ~ #content5,\n",
       "#tab6:checked ~ #content6,\n",
       "#tab7:checked ~ #content7,\n",
       "#tab8:checked ~ #content8,\n",
       "#tab9:checked ~ #content9,\n",
       "#tab10:checked ~ #content10,\n",
       "#tab11:checked ~ #content11,\n",
       "#tab12:checked ~ #content12,\n",
       "#tab13:checked ~ #content13,\n",
       "#tab_protocol_1:checked ~ #content_protocol_1, \n",
       "#tab_protocol_2:checked ~ #content_protocol_2, \n",
       "#tab_protocol_3:checked ~ #content_protocol_3,\n",
       "#tab_protocol_4:checked ~ #content_protocol_4\n",
       "{\n",
       "  display: block;\n",
       "}\n",
       "\n",
       "@media screen and (max-width: 650px) {\n",
       "  label {\n",
       "    font-size: 0;\n",
       "  }\n",
       "  label:before {\n",
       "    margin: 0;\n",
       "    font-size: 18px;\n",
       "  }\n",
       "}\n",
       "\n",
       "@media screen and (max-width: 400px) {\n",
       "  label {\n",
       "    padding: 15px;\n",
       "  }\n",
       "}\n",
       "\n",
       "section.tab pre {\n",
       "  background: #f6f6f6;\n",
       "  padding: 6px 12px;\n",
       "  margin: 0;\n",
       "  border-radius: 2px;\n",
       "  border: 1px solid #ccc;\n",
       "  color: #010b35;\n",
       "}\n",
       "section.tab pre code {\n",
       "  font-family: 'Source Sans Pro', sans-serif;\n",
       "  background: none;\n",
       "  color: #010b35;\n",
       "}\n",
       "section.tab table{width:100%;}\n",
       "section.tab table pre{\n",
       "    background: none;\n",
       "    padding: 6px 12px;\n",
       "    margin: 0;\n",
       "    border: 0;\n",
       "    border-radius: 0;\n",
       "}\n",
       "/* Notebook overrides */\n",
       ".rendered_html table {\n",
       "    margin-left: auto;\n",
       "    margin-right: auto;\n",
       "    border: 1px solid #ccc; \n",
       "    border-collapse: collapse;\n",
       "}\n",
       "\n",
       ".rendered_html td, .rendered_html th {\n",
       "    vertical-align: top;\n",
       "    padding: 10px;\n",
       "}\n",
       ".rendered_html tr, .rendered_html th, .rendered_html td {\n",
       "  border: 1px solid #ccc;\n",
       "  border-collapse: collapse;\n",
       "  margin: 1em 2em;\n",
       "}\n",
       "\n",
       ".rendered_html blockquote, .rendered_html pre {\n",
       "    margin: 2em 0;\n",
       "}\n",
       "\n",
       ".rendered_html code, .rendered_html pre {\n",
       "    color: #010b35;\n",
       "}\n",
       "\n",
       ".rendered_html h1, \n",
       ".rendered_html h2,\n",
       ".rendered_html h3,\n",
       ".rendered_html h4{\n",
       "  color:#010b35;\n",
       "}\n",
       "div.output_area img, \n",
       "div.output_area svg,\n",
       "div.output_subarea {\n",
       "    max-width: 100%;\n",
       "}\n",
       "\n",
       "#toc .rendered_html * + ol {\n",
       "    margin-top: 0;\n",
       "    margin-bottom: 1em;\n",
       "}\n",
       "</style>"
      ],
      "text/plain": [
       "<IPython.core.display.HTML object>"
      ]
     },
     "execution_count": 8,
     "metadata": {},
     "output_type": "execute_result"
    }
   ],
   "source": [
    "with open(\"code-tab.css\",'r') as style:\n",
    "    code_tab_style = \"<style>{}</style>\".format(style.read())\n",
    "\n",
    "HTML(code_tab_style)"
   ]
  },
  {
   "cell_type": "markdown",
   "metadata": {},
   "source": [
    "<h1>Table of Contents</h1>\n",
    " <ul class=\"toc-item\">\n",
    "    <li><strong class=\"toc-heading\"><a href=\"#Abstract\">Abstract</a></strong></li>\n",
    "    <li><strong class=\"toc-heading\"><a href=\"#introduction\">Introduction</a></strong></li>\n",
    "    <li><strong class=\"toc-heading\"><a href=\"#Terminology\">Terminology</a></strong>\n",
    "       <ul>\n",
    "          <li><a href=\"#Hadoop\">Hadoop</a></li>\n",
    "          <li><a href=\"#Hadoop-Streaming\">Hadoop Streaming</a></li>\n",
    "          <li><a href=\"#MRJob\">MRJob</a></li>\n",
    "          <li><a href=\"#Partial-Sort\">Partial Sort</a></li>\n",
    "          <li><a href=\"#Total-Sort-(Unorderd-Partitions)\">Total Sort (Unorderd Partitions)</a></li>\n",
    "          <li><a href=\"#Total-Sort-(Ordered-Partitions)\">Total Sort (Ordered Partitions)</a></li>\n",
    "          <li><a href=\"#Secondary-Sorting\">Secondary Sorting</a></li>\n",
    "       </ul>\n",
    "    </li>\n",
    "    <li><strong class=\"toc-heading\"><a href=\"#Examples-of-Different-Sort-Types-(in-context-of-Hadoop-and-HDFS)\">Examples of Different Sort Types</a></strong></li>\n",
    "    <li><strong class=\"toc-heading\"><a href=\"#Anatomy-of-a-MapReduce-Job\">Anatomy of a MapReduce Job</a></strong>   \n",
    "    <li><strong class=\"toc-heading\"><a href=\"#Prepare-Dataset\">Prepare Dataset</a></strong>\n",
    "    <li><strong class=\"toc-heading\"><a href=\"#Section1\">Section 1 - Understanding Linux Sort</a></strong>\n",
    "        <ul>\n",
    "            <li><a href=\"#importance-of-unix-sort\">Importance of Unix Sort</a></li>\n",
    "            <li><a href=\"#unix-sort-overview\">Unix Sort Overview</a></li>\n",
    "            <li><a href=\"#--sort-examples-\">Sort Examples</a></li>\n",
    "        </ul>\n",
    "    </li>        \n",
    "    <li><strong class=\"toc-heading\"><a href=\"#Section2\">Section 2 - Hadoop Streaming</a></strong>\n",
    "        <ul>\n",
    "            <li><a href=\"#II.A.-Hadoop's-Default-Sorting-Behavior\">II.A. Hadoop's Default Sorting Behavior</a></li>\n",
    "            <li><a href=\"#Hadoop-streaming-parameters\">II.B. Hadoop Streaming parameters</a></li>\n",
    "            <ol>\n",
    "              <li><a href=\"#Configure-Hadoop-Streaming-0\"> Configure Hadoop Streaming: Prerequisites</a></li>\n",
    "              <li><a href=\"#Configure-Hadoop-Streaming-1\"> Configure Hadoop Streaming: Step 1</a></li>\n",
    "              <li><a href=\"#Configure-Hadoop-Streaming-2\"> Configure Hadoop Streaming: Step 2</a></li>\n",
    "              <li><a href=\"#Configure-Hadoop-Streaming-3\">Configure Hadoop Streaming: Step 3</a></li>\n",
    "              <li><a href=\"#Summary-of-Common-Practices\">Summary of Common Practices of Sorting Related Configuration</a></li>\n",
    "              <li><a href=\"#Side-by-side-Examples\">Side-by-side Examples: unix sort vs. hadoop streaming</a></li>\n",
    "            </ol>\n",
    "            </li>\n",
    "            <li>\n",
    "              <a href=\"#Hadoop-streaming-implementation\">II.C. Hadoop Streaming implementation</a>\n",
    "              <ol>\n",
    "                <li><a href=\"#single-reducer-hadoop-streaming\">II.C.1. Hadoop Streaming Implementation - single reducer</a></li>\n",
    "                <li><a href=\"#multiple-reducer-hadoop-streaming\">II.C.2. Hadoop Streaming Implementation - multiple reducers</a>\n",
    "                <ul>\n",
    "                    <li><a href=\"#What's-new:-\">What's New</a></li>\n",
    "                    <li><a href=\"#Multiple-Reducer-Overview\">Multiple Reducer Overview</a></li>\n",
    "                    <li><a href=\"#Introductory-Example:\">Introductory Example</a></li>\n",
    "                    <li><a href=\"#Implementation-Walkthrough\">Implementation Walkthrough</a></li>\n",
    "                </ul>\n",
    "                </li>\n",
    "              </ol>\n",
    "            </li>\n",
    "        </ul>\n",
    "   </li>\n",
    "   <li><strong class=\"toc-heading\"><a href=\"#Section3\">Section 3 - MRJob</a></strong>\n",
    "       <ul>\n",
    "          <li><a href=\"#MRJob-modes\">MRJob modes - Local, Hadoop, EMR</a></li>\n",
    "          <li><a href=\"#MRJob-Protocols\">MRJob Protocols</a>\n",
    "              <ol>\n",
    "                  <li><a href=\"#MRJob-Protocols-role\">Types of Built-in Protocols</a></li>\n",
    "                  <li><a href=\"#Importance-of-RawProtocols\"> Importance of RawProtocols in Context of Total Sorting</a></li>\n",
    "              </ol>\n",
    "          </li>\n",
    "          <li><a href=\"#MRJob-partitioning\">Partitioning in MRJob</a></li>\n",
    "          <li><a href=\"#illustration\">Illustration</a></li>\n",
    "          <li><a href=\"#MRJOB-implementation\">MRJob implementation</a>\n",
    "              <ol>\n",
    "                <li><a href=\"#III.D.1\">III.D.1 MRJob implementation - single reducer - local mode</a></li>\n",
    "                <li><a href=\"#III.D.2\">III.D.2. MRJob implementation - single reducer - hadoop mode</a></li>\n",
    "                <li><a href=\"#III.D.3\">III.D.3. MRJob Multiple Reducers - With Un-Ordered Partitons</a></li>\n",
    "                <li><a href=\"#III.D.4\">III.D.4. MRJob Multiple Reducers - With Ordered Partitons</a></li>\n",
    "              </ol>\n",
    "          </li>    \n",
    "        </ul>\n",
    "    </li>\n",
    "    <li><strong class=\"toc-heading\"><a href=\"#Section4\">Section 4 - Sampling</a></strong>\n",
    "        <ul>\n",
    "            <li><a href=\"#randomsampling\">Random Sampling</a></li>\n",
    "            <li><a href=\"#reservoirsampling\">Reservoir Sampling</a></li>\n",
    "        </ul>\n",
    "    </li>\n",
    "    <li><strong class=\"toc-heading\"><a href=\"#Section5\">Section 5 - Spark</a></strong>\n",
    "    </li>\n",
    "    <li><strong class=\"toc-heading\"><a href=\"#Final-Remarks\">Final Remarks</a></strong></li>\n",
    "    <li><strong class=\"toc-heading\"><a href=\"#Reference\">Reference</a></strong></li>\n",
    " </ul>\n"
   ]
  },
  {
   "cell_type": "markdown",
   "metadata": {},
   "source": [
    "<h2><a name=\"Abstract\">Abstract</a></h2>\n",
    "<a href=\"#top\">Back to top</a>\n",
    "\n",
    "Sorting refers to arranging data in a particular format. A sorting algorithm specifies the way to arrange data in a particular order. Most common orders are numerical or lexicographical order. One important application of sorting lies in the fact that information search can be optimized to a very high level if data is stored in a sorted manner. Sorting is also used to represent data in more readable formats. Some of the examples of sorting in real life scenarios are the following.\n",
    "* Telephone Directory – A telephone directory keeps telephone numbers of people sorted on their names so that names can be searched.\n",
    "* Dictionary – A dictionary keeps words in alphabetical order so that searching of any word becomes easy.   \n",
    "\n",
    "Sorting at scale can be accomplished via MapReduce frameworks such as Hadoop, Hadoop Streaming, MRJob and Spark all of which generally operate on data records consisting of key-value pairs. These frameworks, when run in default mode (by specifying either a mapper, a reducer, or both depending on what needs to be accomplished), will generate a partial order sort, whereby the reducer output will be a lot of (partition) files each of which contains key-value records that are sorted within each partition file based on the key. But there is no sort order between records in different partition files (see Figure 3). This is the default behavior for MapReduce frameworks such as Hadoop, Hadoop Streaming and MrJob; Spark works a little differently and will be discussed separately later. Sometimes it is desirable to have all data records sorted by a specified key (i.e., different to a partial order sort), across partition boundaries (see Figure 2). This can be accomplished relatively easily using these MapReduce frameworks. But to do so one needs to be familiar with some core concepts and design patterns. This paper introduces the building blocks for total sorting in the following MapReduce frameworks: Hadoop Streaming, MrJob, and Spark. Numerous complete working examples are also provided to demonstrate the key design patterns in total order sorts. Python is used as the language for driving all three MapReduce frameworks.   \n",
    "\n",
    "<em>Keywords: total order sort at scale, sorting in Hadoop, MapReduce, Spark</em>\n"
   ]
  },
  {
   "cell_type": "markdown",
   "metadata": {},
   "source": [
    "<h2><a name=\"introduction\">INTRODUCTION</a></h2>\n",
    "<a href=\"#top\">Back to top</a>\n",
    "\n",
    "In this notebook we are going to demonstrate how to achieve Total Order Sort via three MapReduce frameworks: Hadoop Streaming, MRJob, and Spark. Hadoop Streaming and MRJob borrow heavily in terms of syntax and semantics from the Unix sort and cut commands, whereby they treat the output of the mapper as series of records, where each record can be interpreted as a collection of fields/tokens that are tab delimited by default. In this way, fields can be specified for the purposes of partitioning (routing), sometimes referred to as the primary key. The primary key is used for partitioning, and the combination of the primary and secondary keys (also specified by the programmer) is used for sorting.   \n",
    "\n",
    "We'll start by describing the Linux/Unix sort command (syntax and semantics) and build on that understanding to explain Total Order Sort in Hadoop Streaming and MRJob. Partitioning is not just matter of specifying the fields to be used for routing the records to the reducers. We also need to consider how best to partition the data that has skewed distributions. To that end, we'll demonstrate how to partition the data via sampling and assigning custom keys.   \n",
    "\n",
    "Lastly, we'll provide a Spark version of Total Order Sort.   \n",
    "\n",
    "At each step we are going to build on the previous steps, so it's important to view this notebook in order. For example, we'll cover key points for sorting with a single reducer in the Hadoop Streaming implementation, and these concepts will apply to the subsequent MRJob implementation.\n"
   ]
  },
  {
   "cell_type": "markdown",
   "metadata": {},
   "source": [
    "<h1><a name=\"asdf\">Anatomy of a MapReduce Job</a></h1>\n",
    "<a href=\"#top\">Back to top</a>\n",
    "\n",
    "When tackling large scale data problems with modern computing frameworks such as MapReduce (Hadoop), one generally uses a divide-and-conquer strategy to divide these large problems into chunks of key-value records that can be processed by individual compute nodes (via mapper/reducer procedures). Upon importing the data into the Hadoop Distributed File System (HDFS), it is chunked in the following way: typically, there is a chunk for each input file. If the input file is too big (bigger than the HDFS block size) then we have two or more map chunks/splits associated to the same input file. (Please refer to the method getSplits() of the FileInputFormat class in Hadoop for more details.)   \n",
    "\n",
    "Once the data has been uploaded to HDFS, MapReduce jobs can be run on the data. First we’ll focus on a basic MapReduce/Hadoop job. The programmer provides map and reduce functions and, subsequently, the Application Master will launch one MapTask for each map split/chunk.   \n",
    "\n",
    "\n",
    "map(key1, value1) → list(key2, value2)\n",
    "\n",
    "reduce(key2, list(value2)) → list(key3, value3)\n",
    "\n",
    "First, the map() function receives a key-value pair input, (key1, value1). Then it outputs any number of key-value pairs, (key2, value2). Next, the reduce() function receives as input another key-value pair, (key2, list(value2)), and outputs any number of (key3, value3) pairs.   \n",
    "\n",
    "Now consider the following key-value pair, (key2, list(value2)), as an input for a reducer:\n",
    "\n",
    "list(value2) = (V1, V2, ..., Vn)\n",
    "\n",
    "where there is no ordering between reducer values (V1, V2, ..., Vn).\n",
    "\n",
    "The MapReduce framework performs the important tasks of routing, collating records with the same key, and transporting these records from the mapper to the reducer. These tasks are commonly referred to as the shuffle phase of a MapReduce job and are typically run in default mode (whereby the programmer does not customize the phase).   \n",
    "\n",
    "So, for completeness, a typical MapReduce job consists of three phases (that are similar in style for all MapReduce frameworks):\n",
    "\n",
    "\n",
    "__def MapReduceJob(Mapper, Shuffler, Reducer):__\n",
    "\n",
    "* Mapper (programmer writes)\n",
    "  * Mapper Init (setups a state for the mapper if required)\n",
    "  * map(key1, value1) → list(key2, value2)\n",
    "  * Mapper Final phase (tears down the map and outputs the mapper state to the stream if required)\n",
    " \n",
    "* Shuffle Phase(Partitioner=Key, Sort=(Key, alphanumeric increasing), Combiner=None)\n",
    "  * Where the default behaviors for the shuffle are as follows:\n",
    "    * Partitioner=Key, \n",
    "    * Sort=(Key, alphanumeric increasing), \n",
    "    * Combiner=None \n",
    "  * Partitioner: specify key (or subset of fields) used for routing each record to the reducer\n",
    "  * Sort specification: set of fields that make up the keys and the order required\n",
    "  * Combiner: DEFAULT: no combiner\n",
    "\n",
    "* Write the Reducer (programmer writes)\n",
    "  * Reducer Init phase (setups a state for the reducer if required)\n",
    "  * reduce(key2, list(value2)) → list(key3, value3)\n",
    "  * Reducer Final phase (tears down the reduce task and outputs the reduce state to HDFS if required)\n",
    "\n",
    "To perform a total order sort, one needs to override the default shuffle behavior by providing a custom partitioner, a custom sort specification (e.g., numeric/alphanumeric increasing/decreasing), and a combiner. Note that a combiner is not required for a total order sort but makes the MapReduce job more efficient."
   ]
  },
  {
   "cell_type": "code",
   "execution_count": 6,
   "metadata": {
    "collapsed": false
   },
   "outputs": [
    {
     "data": {
      "image/png": "[encoded data removed]",
      "text/plain": [
       "<IPython.core.display.Image object>"
      ]
     },
     "execution_count": 6,
     "metadata": {},
     "output_type": "execute_result"
    }
   ],
   "source": [
    "Image('anatomy-of-MR.png')"
   ]
  },
  {
   "cell_type": "markdown",
   "metadata": {},
   "source": [
    "<em>Figure 1: Anatomy of a MapReduce Job from input data to output data via map, shuffle, and reduce steps.\n",
    "</em>"
   ]
  },
  {
   "cell_type": "markdown",
   "metadata": {},
   "source": [
    "<hr>\n",
    "<h2><a name=\"Terminology\">Terminology</a></h2>\n",
    "<a href=\"#top\">Back to top</a>\n",
    "\n",
    "\n",
    "<a name=\"Hadoop\"><strong>Apache Hadoop</strong></a> is a framework for running applications on large clusters built of commodity hardware. The Hadoop framework transparently provides applications both reliability and data motion. Hadoop implements a computational paradigm named Map/Reduce, where the application is divided into many small fragments of work, each of which may be executed or re-executed on any node in the cluster. In addition, it provides a distributed file system (HDFS) that stores data on the compute nodes, providing very high aggregate bandwidth across the cluster. Both MapReduce and the Hadoop Distributed File System are designed so that node failures are automatically handled by the Hadoop framework. \n",
    "http://wiki.apache.org/hadoop/\n",
    "\n",
    "<a name=\"MRJob\"><strong>MRJob</strong></a> is a Python library developed by Yelp to simplify writing Map/Reduce programs. It allows developers to test their code locally without installing Hadoop or run it on a cluster of choice. It also has extensive integration with Amazon Elastic Map Reduce. More information is available at  http://mrjob.readthedocs.io/en/latest/index.html\n",
    "\n",
    "<a name=\"Partial-Sort\"><strong>Partial Sort</strong></a> - The reducer output will be lot of (partition) files, each of which contains key-value records that are sorted within each partition file based on the key. This is the default behavior for MapReduce frameworks such as Hadoop, Hadoop Streaming and MRJob.   \n",
    "\n",
    "<a name=\"Total-Sort-(Unorderd-Partitions)\"><strong>Total Sort (Unordered partitions)</strong></a> - Total sort refers to an ordering of all key-value pairs based upon a specified key. This total ordering will run across all output partition files unlike the partial sort described above. One caveat here is that partition files will need to be re-stacked to generate a total ordering (a small post-processing step that is required after the map-reduce job finishes).\n",
    "\n",
    "<a name=\"Total-Sort-(Ordered-Partitions)\"><strong>Total Sort (Ordered partitions)</strong></a> - Total sort where the partition file names are also assigned in order.\n",
    "\n",
    "<a name=\"Secondary-Sorting\"><strong>Secondary Sort</strong></a> - Secondary sorting refers to controlling the ordering of records based on the key and also using the values (or part of the value). That is, sorting can be done on two or more field values.\n"
   ]
  },
  {
   "cell_type": "markdown",
   "metadata": {},
   "source": [
    "<h2><a name=\"HadoopStreaming\">Hadoop Streaming</a></h2>\n",
    "<a href=\"#top\">Back to top</a>\n",
    "\n",
    "<a name=\"Hadoop-Streaming\"><strong>[Hadoop Streaming](http://hadoop.apache.org/docs/stable1/streaming.html#Hadoop+Streaming)</strong></a> is a utility that comes with the Hadoop distribution. The utility allows a user to create and run Map-Reduce jobs with any executable or script as the mapper and/or the reducer.\n",
    "\n"
   ]
  },
  {
   "cell_type": "code",
   "execution_count": null,
   "metadata": {
    "collapsed": true
   },
   "outputs": [],
   "source": [
    "$HADOOP_HOME/bin/hadoop  jar $HADOOP_HOME/hadoop-streaming.jar \\\n",
    "    -input myInputDirs \\\n",
    "    -output myOutputDir \\\n",
    "    -mapper /bin/cat \\\n",
    "    -reducer /bin/wc"
   ]
  },
  {
   "cell_type": "markdown",
   "metadata": {},
   "source": [
    "In the above example, both the mapper and the reducer are executables that read the input from stdin (line by line) and emit the output to stdout. The utility will create a MapReduce job, submit the job to an appropriate cluster, and monitor the progress of the job until it completes. When an executable is specified for mappers, each mapper task will launch the executable as a separate process when the mapper is initialized.    \n",
    "\n",
    "As the mapper task runs, it converts its inputs into lines and feeds the lines to the stdin of the process. In the meantime, the mapper collects the line oriented outputs from the stdout of the process and converts each line into a key/value pair, which is collected as the output of the mapper. By default, the prefix of a line up to the first tab character is the key and the rest of the line (excluding the tab character) is the value. If there is no tab character in the line, then the entire line is considered the key and the value is null. However, this can be customized, as discussed later.   \n",
    "\n",
    "When an executable is specified for reducers, each reducer task launches the executable as a separate process, and then the reducer is initialized. As the reducer task runs, it converts its input key/values pairs into lines and feeds the lines to the stdin of the process. In the meantime, the reducer collects the line-oriented outputs from the stdout of the process, converts each line into a key/value pair, which is collected as the output of the reducer. By default, the prefix of a line up to the first tab character is the key and the rest of the line (excluding the tab character) is the value. However, this can be customized, as discussed later.   \n",
    "\n",
    "This is the basis for the communication protocol between the MapReduce framework and the streaming mapper/reducer."
   ]
  },
  {
   "cell_type": "markdown",
   "metadata": {},
   "source": [
    "<h2><a name=\"Examples\">Examples of Different Sort Types (in context of Hadoop and HDFS)</a></h2>\n",
    "<a href=\"#top\">Back to top</a>\n",
    "\n",
    "\n",
    "Demonstrated below is an example dataset in text format on HDFS. It includes three partitions in an HDFS directory. Each partition stores records in the format of `{Integer} [TAB] {English Word}`.\n",
    "\n",
    "<pre>\n",
    "files in hdfs directory\n",
    "2016-07-20 22:04:56          0 _SUCCESS\n",
    "2016-07-20 22:04:45    2392650 part-00000\n",
    "2016-07-20 22:04:44    2368850 part-00001\n",
    "2016-07-20 22:04:45    2304038 part-00002\n",
    "</pre>\n",
    "<hr />\n",
    "\n",
    "\n",
    "<main>\n",
    "  \n",
    "  <input class=\"tab-state\" id=\"tab4\" type=\"radio\" name=\"sortExamples\" checked>\n",
    "  <label for=\"tab4\">Partial Sort</label>\n",
    "    \n",
    "  <input class=\"tab-state\" id=\"tab5\" type=\"radio\" name=\"sortExamples\">\n",
    "  <label for=\"tab5\">Total Sort (Unorderd Partitions)</label>\n",
    "    \n",
    "  <input class=\"tab-state\" id=\"tab6\" type=\"radio\" name=\"sortExamples\">\n",
    "  <label for=\"tab6\">Total Sort (Ordered Partitions)</label>\n",
    "    \n",
    "  <section id=\"content4\" class=\"tab\">\n",
    "\n",
    "<h3>Partial Sort</h3>\n",
    "<table>\n",
    "<tr>\n",
    "<td><pre>file: part-00000</pre></td>\n",
    "<td><pre>file: part-00001</pre></td>\n",
    "<td><pre>file: part-00002</pre></td>\n",
    "</tr>\n",
    "<tr>\n",
    "<td>\n",
    "<pre>\n",
    "<span style=\"color:red\">27</span>   driver\n",
    "<span style=\"color:red\">27</span>   creating\n",
    "<span style=\"color:red\">27</span>   experiements\n",
    "<span style=\"color:red\">19</span>   consists\n",
    "<span style=\"color:red\">19</span>   evaluate\n",
    "<span style=\"color:red\">17</span>   drivers\n",
    "<span style=\"color:red\">10</span>   clustering\n",
    " <span style=\"color:red\">9</span>   during\n",
    " <span style=\"color:red\">9</span>   change\n",
    " <span style=\"color:red\">7</span>   contour\n",
    "</pre>\n",
    "</td>\n",
    "<td>\n",
    "<pre>\n",
    "<span style=\"color:red\">30</span>   do\n",
    "<span style=\"color:red\">28</span>   dataset\n",
    "<span style=\"color:red\">15</span>   computing\n",
    "<span style=\"color:red\">15</span>   document\n",
    "<span style=\"color:red\">15</span>   computational\n",
    "<span style=\"color:red\">14</span>   center\n",
    " <span style=\"color:red\">5</span>   distributed\n",
    " <span style=\"color:red\">4</span>   develop\n",
    " <span style=\"color:red\">3</span>   different\n",
    " <span style=\"color:red\">2</span>   cluster\n",
    "</pre>\n",
    "</td>\n",
    "<td>\n",
    "<pre>\n",
    "<span style=\"color:red\">26</span>   descent\n",
    "<span style=\"color:red\">26</span>   def\n",
    "<span style=\"color:red\">25</span>   compute\n",
    "<span style=\"color:red\">24</span>   done\n",
    "<span style=\"color:red\">24</span>   code\n",
    "<span style=\"color:red\">23</span>   descent\n",
    "<span style=\"color:red\">22</span>   corresponding\n",
    "<span style=\"color:red\">13</span>   efficient\n",
    " <span style=\"color:red\">1</span>   cell\n",
    " <span style=\"color:red\">0</span>   current\n",
    "</pre>\n",
    "</td>\n",
    "</tr>\n",
    "<caption align='bottom'>Keys are assigned to buckets without any ordering. Keys are sorted within each bucket (the key is the the number in the first column rendered in red).</caption>\n",
    "</table>\n",
    "\n",
    "</section>\n",
    "<section id=\"content5\" class=\"tab\">\n",
    "\n",
    "\n",
    "<h3>Total Sort (Unorderd Partitions)</h3>\n",
    "<table>\n",
    "<tr>\n",
    "<td><pre>file: part-00000</pre></td>\n",
    "<td><pre>file: part-00001</pre></td>\n",
    "<td><pre>file: part-00002</pre></td>\n",
    "</tr>\n",
    "<tr>\n",
    "<td>\n",
    "<pre>\n",
    "<span style=\"color:red\">19</span> \tconsists\n",
    "<span style=\"color:red\">19</span> \tevaluate\n",
    "<span style=\"color:red\">17</span> \tdrivers\n",
    "<span style=\"color:red\">15</span> \tcomputing\n",
    "<span style=\"color:red\">15</span> \tdocument\n",
    "<span style=\"color:red\">15</span> \tcomputational\n",
    "<span style=\"color:red\">14</span> \tcenter\n",
    "<span style=\"color:red\">13</span> \tefficient\n",
    "</pre>\n",
    "</td>\n",
    "<td>\n",
    "<pre>\n",
    "<span style=\"color:red\">10</span>  clustering\n",
    "<span style=\"color:red\">9</span>   during\n",
    "<span style=\"color:red\">9</span>   change\n",
    "<span style=\"color:red\">7</span>   contour\n",
    "<span style=\"color:red\">5</span>   distributed\n",
    "<span style=\"color:red\">4</span>   develop\n",
    "<span style=\"color:red\">3</span>   different\n",
    "<span style=\"color:red\">2</span>   cluster\n",
    "<span style=\"color:red\">1</span>   cell\n",
    "<span style=\"color:red\">0</span>   current\n",
    "</pre>\n",
    "</td>\n",
    "<td>\n",
    "<pre>\n",
    "<span style=\"color:red\">30</span> \tdo\n",
    "<span style=\"color:red\">28</span> \tdataset\n",
    "<span style=\"color:red\">27</span> \tdriver\n",
    "<span style=\"color:red\">27</span> \tcreating\n",
    "<span style=\"color:red\">27</span> \texperiements\n",
    "<span style=\"color:red\">26</span> \tdescent\n",
    "<span style=\"color:red\">26</span> \tdef\n",
    "<span style=\"color:red\">25</span> \tcompute\n",
    "<span style=\"color:red\">24</span> \tdone\n",
    "<span style=\"color:red\">24</span> \tcode\n",
    "<span style=\"color:red\">23</span> \tdescent\n",
    "<span style=\"color:red\">22</span> \tcorresponding\n",
    "</pre>\n",
    "</td>\n",
    "</tr>\n",
    "<caption align='bottom'>Keys are assigned to buckets according to their numeric value. The result is that all keys between 20-30 end up in one bucket, keys between 10-20 end up in another bucket, and keys 0-10 end up in another bucket. Keys are sorted within each bucket. Partitions are not assigned in sorted order.</caption>\n",
    "</table>\n",
    "\n",
    "</section>\n",
    "<section id=\"content6\" class=\"tab\">\n",
    "\n",
    "<h3>Total Sort (Ordered Partitions)</h3>\n",
    "<table>\n",
    "<tr>\n",
    "<td><pre>file: part-00000</pre></td>\n",
    "<td><pre>file: part-00001</pre></td>\n",
    "<td><pre>file: part-00002</pre></td>\n",
    "</tr>\n",
    "<tr>\n",
    "<td>\n",
    "<pre>\n",
    "<span style=\"color:red\">30</span> \tdo\n",
    "<span style=\"color:red\">28</span> \tdataset\n",
    "<span style=\"color:red\">27</span> \tcreating\n",
    "<span style=\"color:red\">27</span> \tdriver\n",
    "<span style=\"color:red\">27</span> \texperiements\n",
    "<span style=\"color:red\">26</span> \tdef\n",
    "<span style=\"color:red\">26</span> \tdescent\n",
    "<span style=\"color:red\">25</span> \tcompute\n",
    "<span style=\"color:red\">24</span> \tcode\n",
    "<span style=\"color:red\">24</span> \tdone\n",
    "<span style=\"color:red\">23</span> \tdescent\n",
    "<span style=\"color:red\">22</span> \tcorresponding\n",
    "</pre>\n",
    "</td>\n",
    "<td>\n",
    "<pre>\n",
    "<span style=\"color:red\">19</span> \tevaluate\n",
    "<span style=\"color:red\">19</span> \tconsists\n",
    "<span style=\"color:red\">17</span> \tdrivers\n",
    "<span style=\"color:red\">15</span> \tdocument\n",
    "<span style=\"color:red\">15</span> \tcomputing\n",
    "<span style=\"color:red\">15</span> \tcomputational\n",
    "<span style=\"color:red\">14</span> \tcenter\n",
    "<span style=\"color:red\">13</span> \tefficient\n",
    "<span style=\"color:red\">10</span> \tclustering\n",
    "</pre>\n",
    "</td>\n",
    "<td>\n",
    "<pre>\n",
    "<span style=\"color:red\">9</span> \tduring\n",
    "<span style=\"color:red\">9</span> \tchange\n",
    "<span style=\"color:red\">7</span> \tcontour\n",
    "<span style=\"color:red\">5</span> \tdistributed\n",
    "<span style=\"color:red\">4</span> \tdevelop\n",
    "<span style=\"color:red\">3</span> \tdifferent\n",
    "<span style=\"color:red\">2</span> \tcluster\n",
    "<span style=\"color:red\">1</span> \tcell\n",
    "<span style=\"color:red\">0</span> \tcurrent\n",
    "</pre>\n",
    "</td>\n",
    "</tr>\n",
    "<caption align='bottom'>Keys are assigned to buckets according to their numeric value. The result is that all keys between 20-30 end up in one bucket, keys between 10-20 end up in another bucket, and keys 0-10 end up in another bucket. Keys are sorted within each bucket. Here, partitions are assigned in sorted order, such that keys between 20-30 end up in the first bucket, keys between 10-20 end up in the second bucket, and keys 0-10 end up in the third bucket. We use the term buckets and partitions interchageably.</caption>\n",
    "</table>\n",
    "</section>\n",
    "</main>"
   ]
  },
  {
   "cell_type": "markdown",
   "metadata": {},
   "source": [
    "# Prepare Dataset\n",
    "<a href=\"#top\">Back to top</a>\n",
    "\n",
    "Here we generate the data which we will use throughout the rest of this notebook. This is a toy dataset with 30 records, and consists of two fields in each record, separated by a tab character. The first field contains random integers between 1 and 30 (a hypothetical word count), and the second field contains English words. <strong>The goal is to sort the data by word count from highest to lowest.\n",
    "</strong>"
   ]
  },
  {
   "cell_type": "code",
   "execution_count": 147,
   "metadata": {
    "collapsed": false
   },
   "outputs": [
    {
     "name": "stdout",
     "output_type": "stream",
     "text": [
      "Overwriting generate_numbers.py\n"
     ]
    }
   ],
   "source": [
    "%%writefile generate_numbers.py\n",
    "#!/usr/bin/python\n",
    "words = [\"cell\",\"center\",\"change\",\"cluster\",\"clustering\",\"code\",\"computational\",\"compute\",\"computing\",\"consists\",\\\n",
    "         \"contour\",\"corresponding\",\"creating\",\"current\",\"dataset\",\"def\",\"descent\",\"descent\",\"develop\",\"different\",\\\n",
    "         \"distributed\",\"do\",\"document\",\"done\",\"driver\",\"drivers\",\"during\",\"efficient\",\"evaluate\",\"experiements\"]\n",
    "import random\n",
    "N = 30\n",
    "for n in range(N):\n",
    "    print random.randint(0,N),\"\\t\",words[n]"
   ]
  },
  {
   "cell_type": "code",
   "execution_count": 5,
   "metadata": {
    "collapsed": false
   },
   "outputs": [
    {
     "name": "stdout",
     "output_type": "stream",
     "text": [
      "      30 generate_numbers.output\r\n"
     ]
    }
   ],
   "source": [
    "# give the python file exacutable permissions, write the file, and inspect number of lines\n",
    "!chmod +x generate_numbers.py;\n",
    "!./generate_numbers.py > generate_numbers.output\n",
    "!wc -l generate_numbers.output"
   ]
  },
  {
   "cell_type": "code",
   "execution_count": 24,
   "metadata": {
    "collapsed": false
   },
   "outputs": [
    {
     "name": "stdout",
     "output_type": "stream",
     "text": [
      "1\tcell\r\n",
      "14\tcenter\r\n",
      "9\tchange\r\n",
      "2\tcluster\r\n",
      "10\tclustering\r\n",
      "24\tcode\r\n",
      "15\tcomputational\r\n",
      "25\tcompute\r\n",
      "15\tcomputing\r\n",
      "19\tconsists\r\n",
      "7\tcontour\r\n",
      "22\tcorresponding\r\n",
      "27\tcreating\r\n",
      "0\tcurrent\r\n",
      "28\tdataset\r\n",
      "26\tdef\r\n",
      "26\tdescent\r\n",
      "23\tdescent\r\n",
      "4\tdevelop\r\n",
      "3\tdifferent\r\n",
      "5\tdistributed\r\n",
      "30\tdo\r\n",
      "15\tdocument\r\n",
      "24\tdone\r\n",
      "27\tdriver\r\n",
      "17\tdrivers\r\n",
      "9\tduring\r\n",
      "13\tefficient\r\n",
      "19\tevaluate\r\n",
      "27\texperiements\r\n"
     ]
    }
   ],
   "source": [
    "# view the raw dataset\n",
    "!cat generate_numbers.output"
   ]
  },
  {
   "cell_type": "markdown",
   "metadata": {},
   "source": [
    "<h1><a name=\"Section1\">Section I - Understanding Unix Sort</a></h1>\n",
    "<a href=\"#top\">Back to top</a>"
   ]
  },
  {
   "cell_type": "markdown",
   "metadata": {},
   "source": [
    "<h2><a name=\"importance-of-unix-sort\">Importance of Unix Sort</a></h2>\n",
    "<a href=\"#top\">Back to top</a>  | <a href=\"#Section1\">Back to Section I</a>   \n",
    "\n",
    "Sort is a simple and very useful command found in Unix systems. It rearranges lines of text numerically and/or alphabetically. Hadoop Streaming's KeyBasedComparator is modeled after Unix sort, and utilizes command line options which are the same as Unix sort command line options."
   ]
  },
  {
   "cell_type": "markdown",
   "metadata": {},
   "source": [
    "<h3><a name=\"unix-sort-overview\">Unix Sort Overview</a></h3>\n",
    "<a href=\"#top\">Back to top</a>  | <a href=\"#Section1\">Back to Section I</a>\n",
    "\n",
    "```\n",
    "# sort syntax\n",
    "sort [OPTION]... [FILE]...\n",
    "```\n",
    "\n",
    "Sort treats a single line of text as a single datum to be sorted. It operates on fields (by default, the whole line is considered a field). It uses tabs as the delimiter by default (which can be configured with -t option), and splits a (non-empty) line into one or more parts, whereby each part is considered a field. Each field is identified by its index (POS).   \n",
    "\n",
    "The most important configuration option is perhaps -k or --key.\n",
    "Start a key at POS1 (origin 1), end it at POS2 (default end of line):\n",
    "\n",
    "```\n",
    "-k, --key=POS1[,POS2]\n",
    "```\n",
    "\n",
    "For example, -k1 (without ending POS), produces a key that is the whole line, and -k1,1 produces a key that is the first field. Multiple -k options can be supplied, and applied left to right. Sort keys can be tricky sometimes, and should be treated with care. For example:\n",
    "\n",
    "\n",
    "```\n",
    "sort –k1 –k2,2n\n",
    "``` \n",
    "\n",
    "Will not work properly, as -k1 uses the whole line as key, and trumps -k2,2n.   \n",
    "\n",
    "Another example:\n",
    "\n",
    "```\n",
    "sort -k2 -k3\n",
    "```\n",
    "\n",
    "This is redundant: it's equivalent to sort -k2.   \n",
    "\n",
    "A good practice for supplying multiple sort keys is to make sure they are non-overlapping. \n",
    "\n",
    "Other commonly used flags/options are: -n, which sorts the keys numerically, and -r which reverses the sort order.\n",
    "\n"
   ]
  },
  {
   "cell_type": "markdown",
   "metadata": {},
   "source": [
    "<h2><a name=\"sort-examples\">  <span style=\"font-weight:normal;\">`sort`</span> examples </a></h2>\n",
    "<a href=\"#top\">Back to top</a>  | <a href=\"#Section1\">Back to Section I</a>\n",
    "\n",
    "(Source: http://www.theunixschool.com/2012/08/linux-sort-command-examples.html)"
   ]
  },
  {
   "cell_type": "code",
   "execution_count": 3,
   "metadata": {
    "collapsed": false
   },
   "outputs": [
    {
     "name": "stdout",
     "output_type": "stream",
     "text": [
      "Overwriting unix-sort-example.txt\n"
     ]
    }
   ],
   "source": [
    "%%writefile unix-sort-example.txt\n",
    "Unix,30\n",
    "Solaris,10\n",
    "Linux,25\n",
    "Linux,20\n",
    "HPUX,100\n",
    "AIX,25"
   ]
  },
  {
   "cell_type": "markdown",
   "metadata": {},
   "source": [
    "<main>\n",
    "  \n",
    "  <input class=\"tab-state\" id=\"tab7\" type=\"radio\" name=\"moreSortExamples\" checked>\n",
    "  <label for=\"tab7\">sort -t\",\" -k1,1</label>\n",
    "    \n",
    "  <input class=\"tab-state\" id=\"tab8\" type=\"radio\" name=\"moreSortExamples\">\n",
    "  <label for=\"tab8\">sort -t\",\" -k2,2nr</label>\n",
    "    \n",
    "  <input class=\"tab-state\" id=\"tab9\" type=\"radio\" name=\"moreSortExamples\">\n",
    "  <label for=\"tab9\">sort -t\",\" -k1,1 -k2,2nr</label>\n",
    "    \n",
    "  <section id=\"content7\" class=\"tab\">\n",
    "\n",
    "\n",
    "Sort by field 1 (default alphabetically), deliminator \",\"    \n",
    "\n",
    "\n",
    "<table>\n",
    "<tr>\n",
    "<td><pre>cat unix-sort-example.txt</pre></td>\n",
    "<td><pre>sort -t\",\" -k1,1 unix-sort-example.txt</pre></td>\n",
    "</tr>\n",
    "<tr>\n",
    "<td><pre>\n",
    "Unix,30\n",
    "Solaris,10\n",
    "Linux,25\n",
    "Linux,20\n",
    "HPUX,100\n",
    "AIX,25\n",
    "</pre></td>\n",
    "<td><pre>\n",
    "AIX,25\n",
    "HPUX,100\n",
    "Linux,20\n",
    "Linux,25\n",
    "Solaris,10\n",
    "Unix,30\n",
    "</pre></td>\n",
    "</tr>\n",
    "</table>\n",
    "\n",
    "</section>\n",
    "<section id=\"content8\" class=\"tab\">\n",
    "\n",
    "Sort by field 2 numerically reverse, deliminator \",\"   \n",
    "\n",
    "<table>\n",
    "<tr>\n",
    "<td><pre>cat unix-sort-example.txt</pre></td>\n",
    "<td><pre>sort -t\",\" -k2,2nr  unix-sort-example.txt</pre></td>\n",
    "</tr>\n",
    "<tr>\n",
    "<td><pre>\n",
    "Unix,30\n",
    "Solaris,10\n",
    "Linux,25\n",
    "Linux,20\n",
    "HPUX,100\n",
    "AIX,25\n",
    "</pre></td>\n",
    "<td><pre>\n",
    "HPUX,100\n",
    "Unix,30\n",
    "AIX,25\n",
    "Linux,25\n",
    "Linux,20\n",
    "Solaris,10\n",
    "</pre></td>\n",
    "</tr>\n",
    "</table>\n",
    "\n",
    "</section>\n",
    "<section id=\"content9\" class=\"tab\">\n",
    "\n",
    "Sort by field 1 alphabetically first, then by field 2 numeric reverse   \n",
    "\n",
    "<table>\n",
    "<tr>\n",
    "<td><pre>cat unix-sort-example.txt</pre></td>\n",
    "<td><pre>sort -t\",\" -k1,1 -k2,2nr  unix-sort-example.txt</pre></td>\n",
    "</tr>\n",
    "<tr>\n",
    "<td><pre>\n",
    "Unix,30\n",
    "Solaris,10\n",
    "Linux,25\n",
    "Linux,20\n",
    "HPUX,100\n",
    "AIX,25\n",
    "</pre></td>\n",
    "<td><pre>\n",
    "AIX,25\n",
    "HPUX,100\n",
    "Linux,25\n",
    "Linux,20\n",
    "Solaris,10\n",
    "Unix,30\n",
    "</pre></td>\n",
    "</tr>\n",
    "</table>\n",
    "\n",
    "</section>\n",
    "</main>"
   ]
  },
  {
   "cell_type": "markdown",
   "metadata": {},
   "source": [
    "<h1><a name=\"Section2\">Section II - Hadoop Streaming</a></h1>\n",
    "<a href=\"#top\">Back to top</a>   \n",
    "<ul class=\"toc-item\">\n",
    "    <li><a href=\"#II.A.-Hadoop's-Default-Sorting-Behavior\">II.A. Hadoop's Default Sorting Behavior</a></li>\n",
    "    <li><a href=\"#Hadoop-streaming-parameters\">II.B. Hadoop Streaming parameters</a></li>\n",
    "    <ul>\n",
    "      <li><a href=\"#Configure-Hadoop-Streaming-0\"> Configure Hadoop Streaming: Prerequisites</a></li>\n",
    "      <li><a href=\"#Configure-Hadoop-Streaming-1\"> Configure Hadoop Streaming: Step 1</a></li>\n",
    "      <li><a href=\"#Configure-Hadoop-Streaming-2\"> Configure Hadoop Streaming: Step 2</a></li>\n",
    "      <li><a href=\"#Configure-Hadoop-Streaming-3\">Configure Hadoop Streaming: Step 3</a></li>\n",
    "      <li><a href=\"#Summary-of-Common-Practices\">Summary of Common Practices of Sorting Related Configuration</a></li>\n",
    "      <li><a href=\"#Side-by-side-Examples\">Side-by-side Examples: unix sort vs. hadoop streaming</a></li>\n",
    "    </ul>\n",
    "    </li>\n",
    "    <li>\n",
    "      <a href=\"#Hadoop-streaming-implementation\">II.C. Hadoop Streaming implementation</a>\n",
    "      <ul>\n",
    "        <li><a href=\"#single-reducer-hadoop-streaming\">II.C.1. Hadoop Streaming Implementation - single reducer</a></li>\n",
    "        <li><a href=\"#multiple-reducer-hadoop-streaming\">II.C.2. Hadoop Streaming Implementation - multiple reducers</a>\n",
    "          <ul>\n",
    "            <li><a href=\"#What's-new:-\">What's New</a></li>\n",
    "            <li><a href=\"#Multiple-Reducer-Overview\">Multiple Reducer Overview</a></li>\n",
    "            <li><a href=\"#Introductory-Example:\">Introductory Example</a></li>\n",
    "            <li><a href=\"#Implementation-Walkthrough\">Implementation Walkthrough</a></li>\n",
    "            \n",
    "          </ul>\n",
    "        </li>\n",
    "      </ul>\n",
    "    </li>\n",
    "</ul>"
   ]
  },
  {
   "cell_type": "markdown",
   "metadata": {},
   "source": [
    "<h2><a name=\"Hadoop's-Default-Sorting-Behavior\">II.A. Hadoop's Default Sorting Behavior</a></h2>\n",
    "<a href=\"#top\">Back to top</a> | <a href=\"#Section2\">Back to Section II</a> \n",
    "<h4>Key points:</h4> \n",
    "<ul>\n",
    "<li>By default, Hadoop performs a partial sort on mapper output keys, i.e. within each partition keys are sorted.\n",
    "</li>\n",
    "<li>By default, keys are sorted as strings.\n",
    "    <ul>\n",
    "        <li>When processing a mapper output record, first the partitioner decides which partition the record should be sent to.</li>\n",
    "        <li>In shuffle and sort stage, keys within a partition are sorted. </li>\n",
    "        </ul>\n",
    "</li>\n",
    "<li>If there is only one partition, mapper output keys will be sorted in total order</li>\n",
    "<li>The partition index of a given key from mapper outputs is determined by the partitioner, the  default partitioner is HashPartitioner which relies on Java’s hashCode function to compute an integer hash for the key. The partition index is derived next by hash modulo number of reducers.\n",
    "</li>\n",
    "</ul>"
   ]
  },
  {
   "cell_type": "markdown",
   "metadata": {},
   "source": [
    "<h2><a name=\"Hadoop-streaming-parameters\">II.B. Hadoop Streaming parameters</a></h2>\n",
    "<a href=\"#top\">Back to top</a> | <a href=\"#Section2\">Back to Section II</a> \n",
    "\n",
    "Hadoop streaming can be further fine-grain controlled through the command line options below. Through these, we can fine-tune the Hadoop framework to better understand line-oriented record structure, and achieve the versatility of single-machine Unix sort, but in a distributed and efficient manner.\n",
    "\n",
    "\n",
    "```\n",
    "stream.num.map.output.key.fields\n",
    "stream.map.output.field.separator\n",
    "mapreduce.partition.keypartitioner.options\n",
    "KeyFieldBasedComparator\n",
    "keycomparator.options\n",
    "partitioner org.apache.hadoop.mapred.lib.KeyFieldBasedPartitioner\n",
    "```\n",
    "In a sorting task, Hadoop Streaming provides the same interface as Unix sort. Both consume a stream of lines of text, and produce a permutation of input records, based on one or more sort keys extracted from each line of input. Without customizing its sorting and partitioning, Hadoop Streaming treats implicitly each input line as a record consisting of a single key and value, separated by a \"tab\" character.   \n",
    "\n",
    "Just like the various options Unix sort offers, Hadoop Streaming can be customized to use multiple fields for sorting, sort records by numeric order or keys and sort in reverse order.   \n",
    "\n",
    "The following table provides an overview of relationships between Hadoop Streaming sorting and Unix sort:\n",
    "\n",
    "<table width=\"100%\">\n",
    "<tr>\n",
    "    <th></th>\n",
    "    <th>Unix `sort`   </th>\n",
    "    <th>Hadoop streaming</th>\n",
    "</tr>\n",
    "<tr>\n",
    "    <td>Key Field Separator</td>\n",
    "    <td>`-t`</td>\n",
    "    <td>`-D stream.map.output.field.separator`</td>\n",
    "</tr>\n",
    "<tr>\n",
    "    <td>Number of Key Fields</td>\n",
    "    <td>Not Required</td>\n",
    "    <td>`-D stream.num.map.output.key.fields`</td>\n",
    "</tr>\n",
    "<tr>\n",
    "    <td>Key Range</td>\n",
    "    <td>`-k, --key=POS1[,POS2]`</td>\n",
    "    <td>`-D mapreduce.partition.keycomparator.options`   (same syntax as unix sort)</td>\n",
    "</tr>\n",
    "<tr>\n",
    "    <td>Numeric Sort</td>\n",
    "    <td>`-n, --numeric-sort`</td>\n",
    "    <td>`-D mapreduce.partition.keycomparator.options`   (same syntax as unix sort)</td>\n",
    "</tr>\n",
    "<tr>\n",
    "    <td>Reverse Order</td>\n",
    "    <td>`-r --reverse`</td>\n",
    "    <td>`-D mapreduce.partition.keycomparator.options`   (same syntax as unix sort)</td>\n",
    "</tr>\n",
    "<tr>\n",
    "    <td>Partitioner Class</td>\n",
    "    <td>Not Applicable</td>\n",
    "    <td>`-partitioner org.apache.hadoop.mapred.lib.KeyFieldBasedPartitioner`</td>\n",
    "</tr>\n",
    "<tr>\n",
    "    <td>Comparator Class</td>\n",
    "    <td>Not Applicable</td>\n",
    "    <td>`-D mapreduce.job.output.key.comparator.class`</td>\n",
    "</tr>\n",
    "<tr>\n",
    "    <td>Partition Key Fields</td>\n",
    "    <td>Not Applicable</td>\n",
    "    <td>`-D mapreduce.partition.keypartitioner.options`</td>\n",
    "</tr>\n",
    "</table>\n",
    "\n",
    "\n",
    "Therefore, given a distributed sorting problem, it is always helpful to start with a non-scalable solution that can be provided by Unix sort and work out the required Hadoop Streaming configurations from there.\n",
    "\n",
    "\n",
    "<h3><a name=\"Configure-Hadoop-Streaming-0\"> Configure Hadoop Streaming: Prerequisites</a></h3>\n",
    "<a href=\"#top\">Back to top</a> | <a href=\"#Section2\">Back to Section II</a>    \n",
    "\n",
    "```\n",
    "  -D mapreduce.job.output.key.comparator.class=org.apache.hadoop.mapreduce.lib.partition.KeyFieldBasedComparator \\\n",
    "  -partitioner org.apache.hadoop.mapred.lib.KeyFieldBasedPartitioner        \n",
    "```\n",
    "\n",
    "These two options instruct Hadoop Streaming to use two specific Hadoop Java library classes: KeyFieldBasedComparator and KeyFieldBasedPartitioner. They come in standard Hadoop distribution, and provide the required machinery.\n",
    "\n",
    "\n",
    "<h3><a name=\"Configure-Hadoop-Streaming-1\"> Configure Hadoop Streaming: Step 1</a></h3>\n",
    "<a href=\"#top\">Back to top</a> | <a href=\"#Section2\">Back to Section II</a>     \n",
    "\n",
    "Specify number of key fields and key field separator\n",
    "\n",
    "```\n",
    "  -D stream.num.map.output.key.fields=4 \\\n",
    "  -D mapreduce.map.output.key.field.separator=.\n",
    "```\n",
    "\n",
    "In Unix sort when input lines use a non-tab delimiter, we need to supply the -t separator option. Similarly in Hadoop Streaming, we need to specify the character to use as key separators. Common options include: comma\",\", period \".\", and space \" \".   \n",
    "\n",
    "One additional hint to Hadoop is the number of key fields, which is not required for Unix sort. This helps Hadoop Streaming to only parse the relevant parts of input lines, as in the end only keys are sorted (not values) – therefore, Hadoop can avoid performing expensive parsing and sorting on value parts of input line records.\n",
    "\n",
    "\n",
    "<h3><a name=\"Configure-Hadoop-Streaming-2\">Configure Hadoop Streaming: Step 2</a></h3>\n",
    "<a href=\"#top\">Back to top</a> | <a href=\"#Section2\">Back to Section II</a>     \n",
    "\n",
    "Specify sorting options\n",
    "\n",
    "```\n",
    "  -D mapreduce.partition.keycomparator.options=-k2,2nr \n",
    "```\n",
    "\n",
    "This part is very straightforward. Whatever one would do with Unix sort (eg. -k1,1 -k3,4nr), just mirror it for Hadoop Streaming. However it is crucial to remember that Hadoop only uses KeyFieldBasedComparator to sort records within partitions. Therefore, this step only helps achieve partial sort.\n",
    "\n",
    "<h3><a name=\"Configure-Hadoop-Streaming-3\">Configure Hadoop Streaming: Step 3</a></h3>\n",
    "<a href=\"#top\">Back to top</a> | <a href=\"#Section2\">Back to Section II</a>     \n",
    "\n",
    "\n",
    "Specify partition key field\n",
    "\n",
    "```\n",
    "  -D mapreduce.partition.keypartitioner.options=-k1,1\n",
    "```\n",
    "\n",
    "In this step, we need to specify which key field to use for partitioning. There's no equivalent in Unix sort. One critical detail to keep in mind is that, even though Hadoop Streaming uses Unix sort --key option's syntax for mapreduce.partition.keypartitioner.options., no sorting will actually be performed. It only uses expressions such as -k2,2nr for key extraction; the nr flags will be ignored.   \n",
    "\n",
    "In later sections (Partitioning in MRJob), we will discuss in detail how to incorporate sorting into the partitioner by custom partition key construction.\n"
   ]
  },
  {
   "cell_type": "markdown",
   "metadata": {},
   "source": [
    "<h2><a name=\"Summary-of-Common-Practices\">Summary of Common Practices for Sorting Related Configuration</a></h2>\n",
    "<a href=\"#top\">Back to top</a> | <a href=\"#Section2\">Back to Section II</a>    \n",
    "\n",
    "<!-- HTML generated using hilite.me --><div style=\"background: #ffffff; overflow:auto;width:auto;border:0;border-width:.0;padding:.0;\"><pre style=\"margin: 0; line-height: 125%\">  -partitioner org.apache.hadoop.mapred.lib.KeyFieldBasedPartitioner\n",
    "  -D mapreduce.job.output.key.comparator.class=org.apache.hadoop.mapreduce.lib.partition.KeyFieldBasedComparator \\\n",
    "  -D stream.num.map.output.key.fields=<span style=\"color: #0000FF\">4</span> \\\n",
    "  -D map.output.key.field.separator=. \\\n",
    "  -D mapreduce.partition.keypartitioner.options=<span style=\"color: #0000FF\">-k1,2</span> \\\n",
    "  -D mapreduce.job.reduces=<span style=\"color: #0000FF\">12</span> \\\n",
    "</pre></div>\n",
    "\n",
    "\n",
    "At bare minimum, we typically need to specify:\n",
    "\n",
    "1. Use KeyFieldBasedPartitioner\n",
    "2. Use KeyFieldBasedComparator\n",
    "3. Key field separator (can be omitted if TAB is used as separator)\n",
    "4. Number of key fields\n",
    "5. Key field separator again for mapper (under a different config option)\n",
    "6. Partitioner options (Unix sort syntax)\n",
    "7. Number of reducer jobs\n",
    "\n",
    "See [hadoop streaming official documentation](https://hadoop.apache.org/docs/r2.7.2/hadoop-streaming/HadoopStreaming.html) for more information (hadoop version = 2.7.2).\n",
    "\n",
    "\n",
    "<h3><a name=\"Side-by-side-Examples\">Side-by-side Examples: Unix sort vs. Hadoop Streaming</a></h3>\n",
    "<a href=\"#top\">Back to top</a> | <a href=\"#Section2\">Back to Section II</a> \n",
    "\n",
    "<table width=\"100%\">\n",
    "<tbody>\n",
    "\n",
    "<tr>\n",
    "    <td width=\"20%\">Unix sort</td>\n",
    "    <td>Hadoop Streaming</td>\n",
    "</tr>\n",
    "\n",
    "\n",
    "<tr>\n",
    "<td>\n",
    "`sort -t\",\" -k1,1`\n",
    "</td>\n",
    "<td>\n",
    "```\n",
    "-D mapreduce.job.output.key.comparator.class=\\\n",
    "  org.apache.hadoop.mapreduce.lib.partition.KeyFieldBasedComparator \\\n",
    "-D stream.num.map.output.key.fields=2 \\\n",
    "-D stream.map.output.field.separator=\",\" \\\n",
    "-D mapreduce.partition.keypartitioner.options=-k1,1\\\n",
    "-partitioner org.apache.hadoop.mapred.lib.KeyFieldBasedPartitioner\\\n",
    "-D mapreduce.job.reduces=1\n",
    "```\n",
    "</td>\n",
    "</tr>\n",
    "\n",
    "<tr>\n",
    "<td>\n",
    "`sort -k1,1 -k2,3nr`\n",
    "</td>\n",
    "<td>\n",
    "```\n",
    "-D mapreduce.job.output.key.comparator.class=\\\n",
    "  org.apache.hadoop.mapreduce.lib.partition.KeyFieldBasedComparator \\\n",
    "-D stream.num.map.output.key.fields=3 \\\n",
    "-D mapreduce.partition.keypartitioner.options=\"-k1,1 -k2,3nr\"\\\n",
    "-partitioner org.apache.hadoop.mapred.lib.KeyFieldBasedPartitioner\\\n",
    "-D mapreduce.job.reduces=1\n",
    "```\n",
    "</td>\n",
    "</tr>\n",
    "\n",
    "\n",
    "</tbody>\n",
    "</table>\n",
    "\n",
    "Note: in both examples we use only a single reduce job, which makes hadoop's partial sort equivalent to a total sort."
   ]
  },
  {
   "cell_type": "markdown",
   "metadata": {},
   "source": [
    "<h2><a name=\"Hadoop-streaming-implementation\">II.C. Hadoop Streaming implementation</a></h2>\n",
    "<a href=\"#top\">Back to top</a> | <a href=\"#Section2\">Back to Section II</a> \n",
    "\n",
    "You will need to install, configure, and start Hadoop. Brief instructions follow, but detailed instructions are beyond the scope of this notebook.\n"
   ]
  },
  {
   "cell_type": "markdown",
   "metadata": {
    "collapsed": false
   },
   "source": [
    "<h3><a name=\"StartHadoop\">Start Hadoop</a></h3>\n",
    "<a href=\"#top\">Back to top</a> | <a href=\"#Section2\">Back to Section II</a> \n",
    "\n",
    "\n",
    "To run the examples in this notebook you must download and configure hadoop on your local computer. Go to http://hadoop.apache.org/ for the latest downloads. \n",
    "\n",
    "Everything you need to get up and running can be found on this page: https://hadoop.apache.org/docs/r2.7.2/hadoop-project-dist/hadoop-common/SingleCluster.html. There are also many websites with specialized instructions.\n",
    "\n",
    "Once all components have been downloaded and installed, you can check that everything is running by running the `jps` command in your terminal. You should see output like this:\n",
    "```\n",
    "localhost:~ $ jps\n",
    "83360 NodeManager\n",
    "82724 DataNode\n",
    "82488 NameNode\n",
    "82984 SecondaryNameNode\n",
    "83651 Jps\n",
    "83118 ResourceManager\n",
    "83420 JobHistoryServer\n",
    "```\n",
    "\n",
    "This notebook runs on the following setup:\n",
    "```\n",
    "Mac OX Yosemite 10.10.5\n",
    "Java version \"1.7.0_51\"\n",
    "Hadoop version 2.7.2\n",
    "```\n"
   ]
  },
  {
   "cell_type": "code",
   "execution_count": 26,
   "metadata": {
    "collapsed": false
   },
   "outputs": [
    {
     "name": "stdout",
     "output_type": "stream",
     "text": [
      "16/08/20 19:24:29 INFO fs.TrashPolicyDefault: Namenode trash configuration: Deletion interval = 0 minutes, Emptier interval = 0 minutes.\r\n",
      "Deleted /user/koza/sort\r\n"
     ]
    }
   ],
   "source": [
    "# should you need to regenerate the file and put it in hdfs a second time, make sure to delete the existing file first:\n",
    "!hdfs dfs -rm -r /user/koza/sort"
   ]
  },
  {
   "cell_type": "code",
   "execution_count": 27,
   "metadata": {
    "collapsed": false
   },
   "outputs": [],
   "source": [
    "# put the file in hdfs:\n",
    "!hdfs dfs -mkdir /user/koza/sort\n",
    "!hdfs dfs -mkdir /user/koza/sort/output\n",
    "!hdfs dfs -put generate_numbers.output /user/koza/sort"
   ]
  },
  {
   "cell_type": "code",
   "execution_count": 18,
   "metadata": {
    "collapsed": false
   },
   "outputs": [
    {
     "name": "stdout",
     "output_type": "stream",
     "text": [
      "-rw-r--r--   1 koza supergroup        486 2016-08-20 19:17 /user/koza/sort/generate_numbers.output\r\n"
     ]
    }
   ],
   "source": [
    "# make sure it's really there:\n",
    "!hdfs dfs -ls /user/koza/sort/generate_numbers.output"
   ]
  },
  {
   "cell_type": "markdown",
   "metadata": {},
   "source": [
    "<h2><a name=\"single-reducer-hadoop-streaming\">II.C.1. Hadoop Streaming Implementation - single reducer</a></h2>\n",
    "<a href=\"#top\">Back to top</a> | <a href=\"#Section2\">Back to Section II</a> \n",
    "\n",
    "<h3>Key points:</h3> \n",
    "<ul>\n",
    "    <li>Single reducer guarantees a single partition</li>\n",
    "    <li>Partial sort becomes total sort</li>\n",
    "    <li>No need for secondary sorting </li>\n",
    "    <li>Single Reducer becomes scalibility bottleneck</li>\n",
    "</ul>\n",
    "<h3>Steps</h3>\n",
    "\n",
    "In the mapper shuffle sort phase, the data is sorted by the primary key, and sent to a single reducer. By specifying `/bin/cat/` for the mapper and reducer, we are telling Hadoop Streaming to use the identity mapper and reducer which simply output the input (Key,Value) pairs.\n",
    "\n",
    "<h4>Setup:</h4>\n",
    "```\n",
    "-D stream.num.map.output.key.fields=2 \n",
    "-D stream.map.output.field.separator=\"\\t\" \n",
    "-D mapreduce.partition.keycomparator.options=\"-k1,1nr -k2,2\" \n",
    "```\n",
    "First we'll specify the number of keys, in our case, 2. The count and the word are primary and secondary keys, respectively. Next we'll tell Hadoop Streaming that our field separator is a tab character. Lastly we'll use the keycompartor options to specify which keys to use for sorting. Here, -n specifies that the sorting is numerical for the primary key, and -r specifies that the result should be reversed, followed by k2 which will sort the words alphabetically to break ties. Refer to the Unix sort section above.\n",
    "\n",
    "<span style=\"color:red\"><strong>IMPORTANT:</strong></span> Hadoop Streaming is particular about the order in which options are specified.  \n",
    "\n",
    "(For more information, see the docs here: https://hadoop.apache.org/docs/r1.2.1/streaming.html#Hadoop+Comparator+Class)"
   ]
  },
  {
   "cell_type": "code",
   "execution_count": 6,
   "metadata": {
    "collapsed": false
   },
   "outputs": [],
   "source": [
    "!hdfs dfs -rm -r /user/koza/sort/output\n",
    "!hadoop jar /usr/local/Cellar/hadoop/2.7.2/libexec/share/hadoop/tools/lib/hadoop-streaming-2.7.2.jar \\\n",
    "-D stream.num.map.output.key.fields=2 \\\n",
    "-D stream.map.output.field.separator=\"\\t\" \\\n",
    "-D mapreduce.partition.keypartitioner.options=-k1,1 \\\n",
    "-D mapreduce.job.output.key.comparator.class=org.apache.hadoop.mapred.lib.KeyFieldBasedComparator \\\n",
    "-D mapreduce.partition.keycomparator.options=\"-k1,1nr -k2,2\" \\\n",
    "-mapper /bin/cat \\\n",
    "-reducer /bin/cat \\\n",
    "-input /user/koza/sort/generate_numbers.output \\\n",
    "-output /user/koza/sort/output \\\n"
   ]
  },
  {
   "cell_type": "code",
   "execution_count": 4,
   "metadata": {
    "collapsed": false,
    "scrolled": true
   },
   "outputs": [
    {
     "name": "stdout",
     "output_type": "stream",
     "text": [
      "Found 2 items\r\n",
      "-rw-r--r--   1 koza supergroup          0 2017-01-27 11:19 /user/koza/sort/output/_SUCCESS\r\n",
      "-rw-r--r--   1 koza supergroup        363 2017-01-27 11:19 /user/koza/sort/output/part-00000\r\n"
     ]
    }
   ],
   "source": [
    "# Check to see that we have indeed generated a single output file\n",
    "!hdfs dfs -ls /user/koza/sort/output"
   ]
  },
  {
   "cell_type": "code",
   "execution_count": 5,
   "metadata": {
    "collapsed": false
   },
   "outputs": [
    {
     "name": "stdout",
     "output_type": "stream",
     "text": [
      "====================================================================================================\n",
      "Single Reducer Sorted Output - Hadoop Streaming\n",
      "====================================================================================================\n",
      "30\tdo\t\n",
      "28\tdataset\t\n",
      "27\tcreating\t\n",
      "27\tdriver\t\n",
      "27\texperiements\t\n",
      "26\tdef\t\n",
      "26\tdescent\t\n",
      "25\tcompute\t\n",
      "24\tcode\t\n",
      "24\tdone\t\n",
      "23\tdescent\t\n",
      "22\tcorresponding\t\n",
      "19\tconsists\t\n",
      "19\tevaluate\t\n",
      "17\tdrivers\t\n",
      "15\tcomputational\t\n",
      "15\tcomputing\t\n",
      "15\tdocument\t\n",
      "14\tcenter\t\n",
      "13\tefficient\t\n",
      "10\tclustering\t\n",
      "9\tchange\t\n",
      "9\tduring\t\n",
      "7\tcontour\t\n",
      "5\tdistributed\t\n",
      "4\tdevelop\t\n",
      "3\tdifferent\t\n",
      "2\tcluster\t\n",
      "1\tcell\t\n",
      "0\tcurrent\t\n"
     ]
    }
   ],
   "source": [
    "# Print the results\n",
    "print \"=\"*100\n",
    "print \"Single Reducer Sorted Output - Hadoop Streaming\"\n",
    "print \"=\"*100\n",
    "!hdfs dfs -cat /user/koza/sort/output/part-00000"
   ]
  },
  {
   "cell_type": "markdown",
   "metadata": {},
   "source": [
    "<h2><a name=\"multiple-reducer-hadoop-streaming\">II.C.2. Hadoop Streaming Implementation - multiple reducers</a></h2>\n",
    "<a href=\"#top\">Back to top</a> | <a href=\"#Section2\">Back to Section II</a> \n"
   ]
  },
  {
   "cell_type": "markdown",
   "metadata": {},
   "source": [
    "<h3>Key points:</h3> \n",
    "<ul>\n",
    "    <li>Need to guarantee that every key in a single reducer is to be \"pre-sorted\" against all other reducers</li>\n",
    "    <li>Requires knowledge of the distribution of values to be sorted - more about this later in the sampling section</li>\n",
    "    <li>Uses secondary sort to order keys within each partition</li>\n",
    "</ul>\n",
    "\n",
    "\n",
    "<h3><strong>What's new</strong>: </h3>  \n",
    "\n",
    "Now the mapper needs to emit an additional key for each record by which to partition. We partition by this new 'primary' key and sort by secondary and tertiary keys to break ties. Here, the partition key is the primary key.   \n",
    "\n",
    "The following diagram illustrates the steps required to perform total sort in a multi-reducer setting:\n"
   ]
  },
  {
   "cell_type": "code",
   "execution_count": 92,
   "metadata": {
    "collapsed": false
   },
   "outputs": [
    {
     "data": {
      "image/png": "[encoded data removed]",
      "text/plain": [
       "<IPython.core.display.Image object>"
      ]
     },
     "execution_count": 92,
     "metadata": {},
     "output_type": "execute_result"
    }
   ],
   "source": [
    "Image(\"TotalSortSteps2.png\")"
   ]
  },
  {
   "cell_type": "markdown",
   "metadata": {},
   "source": [
    "<em>Figure 2. Total Order sort with multiple reducers</em>"
   ]
  },
  {
   "cell_type": "markdown",
   "metadata": {},
   "source": [
    "<h3>Multiple Reducer Overview</h3>\n",
    "<a href=\"#top\">Back to top</a> | <a href=\"#Section2\">Back to Section II</a> \n",
    "   \n",
    "<p></p>\n",
    "After the Map phase and before the beginning of the Reduce phase there is a handoff process, known as shuffle and sort. Output from the mapper tasks is prepared and moved to the nodes where the reducer tasks will be run. To improve overall efficiency, records from mapper output are sent to the physical node that a reducer will be running on as they are being produced - to avoid flooding the network when all mapper tasks are complete.   \n",
    "\n",
    "What this means is that when we have more than one reducer in a MapReduce job, Hadoop no longer sorts the keys globally (total sort). Instead mapper outputs are partitioned while they're being produced, and before the reduce phase starts, records are sorted by the key within each partition. In other words, Hadoop's architecture only guarantees partial sort.   \n",
    "\n",
    "Therefore, to achieve total sort, a programmer needs to incorporate additional steps and supply the Hadoop framework additional aid during the shuffle and sort phase. Particularly, a partition file or partition function is required.\n",
    "\n",
    "<h4>Modification 1: Include a partition file or partition function inside mappers</h4>\n",
    "\n",
    "Recall that we can use an identity mapper in single-reducer step up, which just echos back the (key, value) pair from input data. In a multi-reducer setup, we will need to add an additional \"partition key\" to instruct Hadoop how to partition records, and pass through the original (key, value) pair.   \n",
    "\n",
    "The partition key is derived from the input key, with the help of either a partition file (more on this in the sampling section) or a user-specified partition function, which takes a key as input, and produces a partition key. Different input keys can result in same partition key.\n",
    "\n",
    "<h4>Modification 2: Drop internal partition key inside reducers</h4>\n",
    "\n",
    "Now we have two keys (as opposed to just one), and one is used for partitioning, the other is used for sorting. The reducer needs to drop the partition key which is used internally to aid total sort, and recover the original (key, value) pairs.\n",
    "\n",
    "<h4>Modification 3: Post-processing step to order partitions</h4>\n",
    "\n",
    "The MapReduce job output is written to HDFS, with the output from each partition in a separate file (usually named something such as: part-00000). These file names are indexed and ordered. However, Hadoop makes no attempt to sort partition keys – the mapping between partition key and partition index is not order-preserving. Therefore, while partition keys key_1, key_2 and key_1 < key_2, it's possible that the output of partition with key_1 could be written to file part-00006 and the output of partition with key_2 written to file part-00003.   \n",
    "\n",
    "Therefore, a post-processing step is required to finish total sort. We will need to take one record from every (non-empty) partition output, sort them, and construct the appropriate ordering among partitions.\n",
    "\n",
    "\n",
    "<h3>Introductory Example:</h3>\n",
    "<a href=\"#top\">Back to top</a> | <a href=\"#Section2\">Back to Section II</a> \n",
    "\n",
    "Consider the task of sorting English words alphabetically, for example, four words from our example dataset:\n",
    "\n",
    "<pre style=\"color: #BA2121\">\n",
    "experiements\t\n",
    "def\t\n",
    "descent\t\n",
    "compute\t\n",
    "</pre>\n",
    "\n",
    "The expected sorted output is:\n",
    "<pre style=\"color: #BA2121\">\n",
    "compute\t\n",
    "def\t\n",
    "descent\t\n",
    "experiements\t\n",
    "</pre>\n",
    "\n",
    "We can use the first character from each word as a partition key. The input data could potentially have billions of words, but we will never have more than 26 unique partition keys (assuming all words are lower-cased). In addition, a word starting with \"a\" will always have a lower alphabetical ordering compared to a word which starts with \"z\". Therefore, all words belonging to partition \"a\" will be \"pre-sorted\" against all words from partition \"z\". The technique described here is equivalent to the following partition function:\n",
    "\n",
    "<!-- HTML generated using hilite.me --><div style=\"background: #f8f8f8; overflow:auto;width:auto;border:0;border-width:.0;padding:.0;\"><pre style=\"margin: 0; line-height: 125%\"><span style=\"color: #008000; font-weight: bold\">def</span> <span style=\"color: #0000FF\">partition_function</span>(word):\n",
    "    <span style=\"color: #008000; font-weight: bold\">assert</span> <span style=\"color: #008000\">len</span>(word) <span style=\"color: #666666\">&gt;</span> <span style=\"color: #666666\">0</span>\n",
    "    <span style=\"color: #008000; font-weight: bold\">return</span> word[<span style=\"color: #666666\">0</span>]\n",
    "</pre></div>\n",
    "\n",
    "It is important to note that a partition function must preserve sort order, i.e. all partitions need to be sorted against each other. For instance, the following partition function is not valid (in sorting words in alphabetical order):\n",
    "\n",
    "<!-- HTML generated using hilite.me --><div style=\"background: #f8f8f8; overflow:auto;width:auto;border:0;border-width:.0;padding:.0;\"><pre style=\"margin: 0; line-height: 125%\"><span style=\"color: #008000; font-weight: bold\">def</span> <span style=\"color: #0000FF\">partition_function</span>(word):\n",
    "    <span style=\"color: #008000; font-weight: bold\">assert</span> <span style=\"color: #008000\">len</span>(word) <span style=\"color: #666666\">&gt;</span> <span style=\"color: #666666\">0</span>\n",
    "    <span style=\"color: #008000; font-weight: bold\">return</span> word[<span style=\"color: #666666\">-1</span>]\n",
    "</pre></div>\n",
    "\n",
    "\n",
    "\n",
    "The mapper output or the four words with this partition scheme is:\n",
    "<pre style=\"color: #BA2121\">\n",
    "e    experiements\t\n",
    "d    def\t\n",
    "d    descent\t\n",
    "c    compute\t\n",
    "</pre>\n",
    "\n",
    "The following diagram outlines the flow of data with this example:"
   ]
  },
  {
   "cell_type": "code",
   "execution_count": 45,
   "metadata": {
    "collapsed": false
   },
   "outputs": [
    {
     "data": {
      "image/png": "[encoded data removed]",
      "text/plain": [
       "<IPython.core.display.Image object>"
      ]
     },
     "execution_count": 45,
     "metadata": {},
     "output_type": "execute_result"
    }
   ],
   "source": [
    "Image(filename=\"Partition2.png\")"
   ]
  },
  {
   "cell_type": "markdown",
   "metadata": {},
   "source": [
    "<em>Figure 3. Partial Order Sort</em>\n",
    "\n",
    "Note that partition key \"e\" maps to partition 0, even if it is \"greater than\" key \"d\" and \"c\". This illustrates that the mapping between partition key and partition indices are not order preserving. In addition, sorting within partitions is based on the original key (word itself).\n"
   ]
  },
  {
   "cell_type": "markdown",
   "metadata": {},
   "source": [
    "<h3>Implementation Walkthrough</h3>\n",
    "<a href=\"#top\">Back to top</a> | <a href=\"#Section2\">Back to Section II</a> \n",
    "\n",
    "Coming back to our original dataset, here we will sort and print the output in two steps. Step one will partition and sort the data, and step two will arrange the partitions in the appropriate order. In the MRJob implementation that follows, we'll build on this and demonstrate how to ensure that the partitions are created in the appropriate order to begin with.\n",
    "\n",
    "<ol>\n",
    "    <li>Run the Hadoop command that prepends an alphabetic key to each row such that they end up in the appropriate partition, shuffle, and sort. </li>\n",
    "    <li>Combine the secondary sort output files in the appropriate order</li>\n",
    "</ol>\n",
    "\n",
    "<h4>Setup</h4>\n",
    "\n",
    "The following options comprise the Hadoop Streaming configuration for the sort job. Notice the addition of the keypartitioner option, which tells Hadoop Streaming to partition by the primary key. Remember that the order of the options is important.\n",
    "\n",
    "```\n",
    "-D stream.num.map.output.key.fields=3 \\\n",
    "-D stream.map.output.field.separator=\"\\t\" \\\n",
    "-D mapreduce.partition.keypartitioner.options=-k1,1 \\\n",
    "-D mapreduce.job.output.key.comparator.class=org.apache.hadoop.mapred.lib.KeyFieldBasedComparator \\\n",
    "-D mapreduce.partition.keycomparator.options=\"-k1,1 -k2,2nr -k3,3\" \\\n",
    "```\n",
    "\n",
    "Here, \"-k1,1 -k2,2nr -k3,3\" performs secondary sorting. Our three key fields are:\n",
    "\n",
    "* `-k1,1`: partition key, one of $\\{A, B, C\\}$ (this part is optional, since each partition will contain the same partition key)\n",
    "* `-k2,2nr`: input key (number/count), and we specify `nr` flags to sort them numerically reverse \n",
    "* `-k3,3`  : input value (word), if two records have same count, we break the tie by comparing the words alphabetically"
   ]
  },
  {
   "cell_type": "markdown",
   "metadata": {
    "collapsed": true
   },
   "source": [
    "### Function to prepend an alphabetic key to each row such that they end up in the appropriate partition\n",
    "\n",
    "The following mapper is an identity mapper with a partition function included, it prepends an alphabetic key as partition key to input records."
   ]
  },
  {
   "cell_type": "code",
   "execution_count": 4,
   "metadata": {
    "collapsed": false
   },
   "outputs": [
    {
     "name": "stdout",
     "output_type": "stream",
     "text": [
      "Overwriting prependPartitionKeyMapper.py\n"
     ]
    }
   ],
   "source": [
    "%%writefile prependPartitionKeyMapper.py\n",
    "#!/usr/bin/env python\n",
    "import sys\n",
    "for line in sys.stdin:\n",
    "    line = line.strip()\n",
    "    key, value = line.split(\"\\t\")\n",
    "    if int(key) < 10:\n",
    "        print \"%s\\t%s\\t%s\" % (\"A\", key, value)   \n",
    "    elif int(key) < 20:\n",
    "        print \"%s\\t%s\\t%s\" % (\"B\", key, value)   \n",
    "    else:\n",
    "        print \"%s\\t%s\\t%s\" % (\"C\", key, value)    "
   ]
  },
  {
   "cell_type": "markdown",
   "metadata": {},
   "source": [
    "### __Step 1 - run the hadoop command specifying 3 reducers, the partition key, and the sort keys__"
   ]
  },
  {
   "cell_type": "code",
   "execution_count": 132,
   "metadata": {
    "collapsed": false
   },
   "outputs": [],
   "source": [
    "!hdfs dfs -rm -r /user/koza/sort/secondary_sort_output\n",
    "!hadoop jar /usr/local/Cellar/hadoop/2.7.2/libexec/share/hadoop/tools/lib/hadoop-streaming-2.7.2.jar \\\n",
    "    -D stream.num.map.output.key.fields=3 \\\n",
    "    -D stream.map.output.field.separator=\"\\t\" \\\n",
    "    -D mapreduce.partition.keypartitioner.options=-k1,1 \\\n",
    "    -D mapreduce.job.output.key.comparator.class=org.apache.hadoop.mapred.lib.KeyFieldBasedComparator \\\n",
    "    -D mapreduce.partition.keycomparator.options=\"-k1,1 -k2,2nr -k3,3\" \\\n",
    "    -mapper prependPartitionKeyMapper.py \\\n",
    "    -reducer /bin/cat \\\n",
    "    -file prependPartitionKeyMapper.py -input /user/koza/sort/generate_numbers.output \\\n",
    "    -output /user/koza/sort/secondary_sort_output \\\n",
    "    -numReduceTasks 3 \\\n",
    "    -partitioner org.apache.hadoop.mapred.lib.KeyFieldBasedPartitioner "
   ]
  },
  {
   "cell_type": "markdown",
   "metadata": {},
   "source": [
    "<h3> Check the output </h3>"
   ]
  },
  {
   "cell_type": "code",
   "execution_count": 29,
   "metadata": {
    "collapsed": false
   },
   "outputs": [
    {
     "name": "stdout",
     "output_type": "stream",
     "text": [
      "Found 4 items\n",
      "-rw-r--r--   1 koza supergroup          0 2016-08-20 19:25 /user/koza/sort/secondary_sort_output/_SUCCESS\n",
      "-rw-r--r--   1 koza supergroup        141 2016-08-20 19:25 /user/koza/sort/secondary_sort_output/part-00000\n",
      "-rw-r--r--   1 koza supergroup        164 2016-08-20 19:25 /user/koza/sort/secondary_sort_output/part-00001\n",
      "-rw-r--r--   1 koza supergroup        118 2016-08-20 19:25 /user/koza/sort/secondary_sort_output/part-00002\n",
      "====================================================================================================\n",
      "/part-00000\n",
      "====================================================================================================\n",
      "B\t19\tconsists\t\n",
      "B\t19\tevaluate\t\n",
      "B\t17\tdrivers\t\n",
      "B\t15\tcomputational\t\n",
      "B\t15\tcomputing\t\n",
      "B\t15\tdocument\t\n",
      "B\t14\tcenter\t\n",
      "B\t13\tefficient\t\n",
      "B\t10\tclustering\t\n",
      "====================================================================================================\n",
      "/part-00001\n",
      "====================================================================================================\n",
      "C\t30\tdo\t\n",
      "C\t28\tdataset\t\n",
      "C\t27\tcreating\t\n",
      "C\t27\tdriver\t\n",
      "C\t27\texperiements\t\n",
      "C\t26\tdef\t\n",
      "C\t26\tdescent\t\n",
      "C\t25\tcompute\t\n",
      "C\t24\tcode\t\n",
      "C\t24\tdone\t\n",
      "C\t23\tdescent\t\n",
      "C\t22\tcorresponding\t\n",
      "====================================================================================================\n",
      "/part-00002\n",
      "====================================================================================================\n",
      "A\t9\tchange\t\n",
      "A\t9\tduring\t\n",
      "A\t7\tcontour\t\n",
      "A\t5\tdistributed\t\n",
      "A\t4\tdevelop\t\n",
      "A\t3\tdifferent\t\n",
      "A\t2\tcluster\t\n",
      "A\t1\tcell\t\n",
      "A\t0\tcurrent\t\n"
     ]
    }
   ],
   "source": [
    "!hdfs dfs -ls /user/koza/sort/secondary_sort_output\n",
    "print \"=\"*100\n",
    "print \"/part-00000\"\n",
    "print \"=\"*100\n",
    "!hdfs dfs -cat /user/koza/sort/secondary_sort_output/part-00000\n",
    "print \"=\"*100\n",
    "print \"/part-00001\"\n",
    "print \"=\"*100\n",
    "!hdfs dfs -cat /user/koza/sort/secondary_sort_output/part-00001\n",
    "print \"=\"*100\n",
    "print \"/part-00002\"\n",
    "print \"=\"*100\n",
    "!hdfs dfs -cat /user/koza/sort/secondary_sort_output/part-00002"
   ]
  },
  {
   "cell_type": "markdown",
   "metadata": {},
   "source": [
    "### Step 2 - Combine the sorted output files in the appropriate order\n",
    "The following code block peaks at the first line of each partition file to determine the order of partitions, and prints the contents of each partition in order, from largest to smallest. Notice that, while the files are arranged in total order, the partition file names are not ordered. We’ll tackle this issue in the MRJob implementation.\n"
   ]
  },
  {
   "cell_type": "code",
   "execution_count": 3,
   "metadata": {
    "collapsed": false
   },
   "outputs": [
    {
     "name": "stdout",
     "output_type": "stream",
     "text": [
      "part is 0, key is 19, /user/koza/sort/secondary_sort_output/part-00000\n",
      "part is 1, key is 30, /user/koza/sort/secondary_sort_output/part-00001\n",
      "part is 2, key is 9, /user/koza/sort/secondary_sort_output/part-00002\n",
      "====================================================================================================\n",
      "30:/user/koza/sort/secondary_sort_output/part-00001\n",
      "====================================================================================================\n",
      "C\t30\tdo\n",
      "C\t28\tdataset\n",
      "C\t27\tcreating\n",
      "C\t27\tdriver\n",
      "C\t27\texperiements\n",
      "C\t26\tdef\n",
      "C\t26\tdescent\n",
      "C\t25\tcompute\n",
      "C\t24\tcode\n",
      "C\t24\tdone\n",
      "C\t23\tdescent\n",
      "C\t22\tcorresponding\n",
      "====================================================================================================\n",
      "19:/user/koza/sort/secondary_sort_output/part-00000\n",
      "====================================================================================================\n",
      "B\t19\tconsists\n",
      "B\t19\tevaluate\n",
      "B\t17\tdrivers\n",
      "B\t15\tcomputational\n",
      "B\t15\tcomputing\n",
      "B\t15\tdocument\n",
      "B\t14\tcenter\n",
      "B\t13\tefficient\n",
      "B\t10\tclustering\n",
      "====================================================================================================\n",
      "9:/user/koza/sort/secondary_sort_output/part-00002\n",
      "====================================================================================================\n",
      "A\t9\tchange\n",
      "A\t9\tduring\n",
      "A\t7\tcontour\n",
      "A\t5\tdistributed\n",
      "A\t4\tdevelop\n",
      "A\t3\tdifferent\n",
      "A\t2\tcluster\n",
      "A\t1\tcell\n",
      "A\t0\tcurrent\n"
     ]
    }
   ],
   "source": [
    "# The subprocess module allows you to spawn new (system) processes, connect to their input/output/error pipes, \n",
    "# and obtain their return codes. Ref: https://docs.python.org/2/library/subprocess.html\n",
    "import subprocess \n",
    "import re\n",
    "\n",
    "\n",
    "\n",
    "'''\n",
    "subprocess.Popen()\n",
    "Opens a new subprocess and executes the unix command in the args array, passing the output to STDOUT.\n",
    "This is the equivalent of typing: \n",
    "hdfs dfs -ls /user/koza/sort/secondary_sort_output/part-*\n",
    "in the unix shell prompt\n",
    "Even though we cannot see this output it would look like this:\n",
    "-rw-r--r--   1 koza supergroup        141 2016-08-20 19:25 /user/koza/sort/secondary_sort_output/part-00000\n",
    "-rw-r--r--   1 koza supergroup        164 2016-08-20 19:25 /user/koza/sort/secondary_sort_output/part-00001\n",
    "-rw-r--r--   1 koza supergroup        118 2016-08-20 19:25 /user/koza/sort/secondary_sort_output/part-00002\n",
    "'''\n",
    "\n",
    "p = subprocess.Popen([\"hdfs\", \"dfs\", \"-ls\", \"/user/koza/sort/secondary_sort_output/part-*\" ],  \n",
    "                     stdout=subprocess.PIPE, stderr=subprocess.STDOUT)\n",
    "\n",
    "\n",
    "'''\n",
    "Save the output of the above command to the 'lines' string variable by reading each line and appending it to the 'lines' string.\n",
    "The resulting lines string should look like this:\n",
    "\n",
    "'-rw-r--r--   1 koza supergroup        141 2016-08-20 19:25 /user/koza/sort/secondary_sort_output/part-00000\\n-rw-r--r--   1 koza supergroup        164 2016-08-20 19:25 /user/koza/sort/secondary_sort_output/part-00001\\n-rw-r--r--   1 koza supergroup        118 2016-08-20 19:25 /user/koza/sort/secondary_sort_output/part-00002\\n'\n",
    "\n",
    "'''\n",
    "lines=\"\"\n",
    "for line in p.stdout.readlines():\n",
    "    lines = lines + line\n",
    "\n",
    "    \n",
    "'''\n",
    "The following regular expresion extracts the paths from 'lines', and appends each path to the outputPARTFiles list.\n",
    "The resulting outputPARTFiles list should look like this:\n",
    "\n",
    "['/user/koza/sort/secondary_sort_output/part-00000',\n",
    " '/user/koza/sort/secondary_sort_output/part-00001',\n",
    " '/user/koza/sort/secondary_sort_output/part-00002']\n",
    "\n",
    "'''    \n",
    "regex = re.compile('(\\/user\\/koza\\/sort\\/secondary_sort_output\\/part-\\d*)')\n",
    "it = re.finditer(regex, lines)\n",
    "\n",
    "outputPARTFiles=[]\n",
    "for match in it:\n",
    "    outputPARTFiles.append(match.group(0))\n",
    "\n",
    "'''\n",
    "Next is where we peek at the first line of each file and extract the key. The resulting partKeys list should look like this:\n",
    "[19, 30, 9]\n",
    "\n",
    "For each file f in outputPARTFiles\n",
    "    int(...)                            <-- this will convert the key returned by the commands that follow to an integer\n",
    "    [\"hdfs\", \"dfs\", \"-cat\", f]          <-- cat the file \n",
    "    stdout=subprocess.PIPE              <-- to STDOUT\n",
    "    stdout.read()                       <-- read the STDOUT into memory\n",
    "    splitlines()[0]                     <-- split that output into lines, and return the first line (at index 0)\n",
    "    split('\\t')[1]                      <-- split that first line by tab character, and return the item at index 1 - this is the 'key'\n",
    "    strip()                             <-- remove trailing and leading spaces so output is clean\n",
    "\n",
    "'''    \n",
    "partKeys=[]\n",
    "for f in outputPARTFiles:\n",
    "    partKeys.append(int(subprocess.Popen([\"hdfs\", \"dfs\", \"-cat\", f], \n",
    "                             stdout=subprocess.PIPE).stdout.read().splitlines()[0].split('\\t')[1].strip()))\n",
    "\n",
    "    \n",
    "'''\n",
    "create a dict d assoicating each key with its corresponding file path. The resulting d dict should look like this:\n",
    "\n",
    "{9: '/user/koza/sort/secondary_sort_output/part-00002',\n",
    " 19: '/user/koza/sort/secondary_sort_output/part-00000',\n",
    " 30: '/user/koza/sort/secondary_sort_output/part-00001'}\n",
    " \n",
    " ^^ we now know that the largest key lives in part-00001, and we will display that file content first\n",
    "\n",
    "'''    \n",
    "d={}\n",
    "for i in range(len(outputPARTFiles)):\n",
    "    print \"part is %d, key is %d, %s\" %(i, partKeys[i], outputPARTFiles[i])\n",
    "    d[partKeys[i]] = outputPARTFiles[i]\n",
    "\n",
    "'''\n",
    "Print the contents of each file in total sorted order, by sorting the d dict by key in reverse:\n",
    "\n",
    "    sorted(d.items(), key=lambda x: x[0], reverse=True)   <-- sorts d dict by key x[0], in reverse\n",
    "    print \"%d:%s\"%(k[0], k[1])                            <-- print the key k[0] and the path k[1]\n",
    "    \n",
    "    use a subprocess to read the contents of each file listed in d (k[1]) (see explanation above for subprocess)\n",
    "    and print each line omitting leading and trailing spaces\n",
    "'''\n",
    "    \n",
    "#TOTAL Sort in decreasing order\n",
    "for k in sorted(d.items(), key=lambda x: x[0], reverse=True):\n",
    "    print \"=\"*100\n",
    "    print \"%d:%s\"%(k[0], k[1])\n",
    "    print \"=\"*100\n",
    "    p = subprocess.Popen([\"hdfs\", \"dfs\", \"-cat\", k[1]],  stdout=subprocess.PIPE, stderr=subprocess.STDOUT)\n",
    "    for line in p.stdout.readlines():\n",
    "        print line.strip()\n"
   ]
  },
  {
   "cell_type": "markdown",
   "metadata": {},
   "source": [
    "<h1><a name=\"Section3\">Section III - MRJob</a></h1>\n",
    "<a href=\"#top\">Back to top</a>  \n",
    "\n",
    "For this section you will need the MRJob Python  library. For installation instructions, go to: https://github.com/Yelp/mrjob   \n",
    "\n",
    "We'll first discuss a couple of key aspects of MRJob such as modes, protocols, and partitioning, before diving into the implementation. We'll also provide an illustrated example of partitioning.\n",
    "\n",
    "<ul class=\"toc-item\">\n",
    "  \n",
    "  <li><a href=\"#MRJob-modes\">MRJob modes - Local, Hadoop, EMR</a></li>\n",
    "  <li><a href=\"#MRJob-Protocols\">MRJob Protocols</a>\n",
    "      <ul>\n",
    "          <li><a href=\"#MRJob-Protocols-role\">Types of Built-in Protocols</a></li>\n",
    "          <li><a href=\"#Importance-of-RawProtocols\"> Importance of RawProtocols in Context of Total Sorting</a></li>\n",
    "      </ul>\n",
    "  </li>\n",
    "  <li><a href=\"#MRJob-partitioning\">Partitioning in MRJob</a></li>\n",
    "  \n",
    "  <li><a href=\"#illustration\">Illustration</a></li>\n",
    "\n",
    "  <li><a href=\"#MRJOB-implementation\">MRJob implementation</a>\n",
    "      <ul>\n",
    "        <li><a href=\"#III.D.1\">III.D.1 MRJob implementation - single reducer - local mode</a></li>\n",
    "        <li><a href=\"#III.D.2\">III.D.2. MRJob implementation - single reducer - hadoop mode</a></li>\n",
    "        <li><a href=\"#III.D.3\">III.D.3. MRJob Multiple Reducers - With Un-Ordered Partitons</a></li>\n",
    "        <li><a href=\"#III.D.4\">III.D.4. MRJob Multiple Reducers - With Ordered Partitons</a></li>\n",
    "      </ul>\n",
    "  </li>    \n",
    "</ul>"
   ]
  },
  {
   "cell_type": "markdown",
   "metadata": {},
   "source": [
    "<h2><a name=\"MRJob-modes\">III.A. MRJob Modes</a></h2>\n",
    "<a href=\"#top\">Back to top</a> | <a href=\"#Section3\">Back to Section 3</a>  \n",
    "\n",
    "MRJob has three modes that correspond to different Hadoop environments.\n",
    "\n",
    "<h3>Local mode</h3>\n",
    "Local mode simulates Hadoop Streaming, but does not require an actual Hadoop installation. This is great for testing out small jobs. However, local mode does not support '-k2,2nr' type of sorting, i.e. sorting by numeric value, as it is not capable of Hadoop .jar library files (such as KeyBasedComparator). A workaround is to make sure numbers are converted to strings with a fixed length, and sorted by reverse order of their values. For positive integers, this can be done by:   sys.maxint – value.  We include Local Mode implementation for completeness (see below).\n",
    "\n",
    "```\n",
    "sys.maxint - value\n",
    "```   \n",
    "\n",
    "We include Local Mode implementation for completeness (see below). \n",
    "\n",
    "<h3>Hadoop mode</h3>\n",
    "\n",
    "MRJob is capable of dispatching runners in a environment where Hadoop is installed. User-authored MRJob Python  files are treated as shell scripts, and submitted to Hadoop Streaming as MapReduce jobs. MRJob allows users to specify configurations supported by Hadoop Streaming via the jobconf dictionary, either as part of MRStep or MRJob itself (which will be applied to all steps). The Python  dictionary is serialized into command line arguments, and passed to the Hadoop Streaming .jar file. (See https://python hosted.org/mrjob/guides/configs-hadoopy-runners.html for further documentation of Hadoop mode).\n",
    "\n",
    "<h3>EMR/Dataproc mode</h3>\n",
    "\n",
    "In addition, MRJob supports running MapReduce jobs on a vendor-provided Hadoop runtime environment such as AWS Elastic MapReduce or Google Dataproc. The configuration and setup is very similar to Hadoop mode (-r hadoop) with the following key differences:\n",
    "\n",
    "1. Vendor specific credentials (such as AWS key and secret)\n",
    "2. Vendor specific bootstrap process (for instance, configure python version, and install third party libraries upon initialization)\n",
    "3. Use platform's native \"step\" management process (e.g. [AWS Steps](http://docs.aws.amazon.com/ElasticMapReduce/latest/DeveloperGuide/emr-steps.html).\n",
    "4. Use vendor provided data storage and transportation (e.g. use S3 for input/output on EMR)\n",
    "\n",
    "The api surface for `-r emr` and `-r hadoop` are almost identical, but the performance profiles can be drastically different."
   ]
  },
  {
   "cell_type": "markdown",
   "metadata": {},
   "source": [
    "<h2><a name=\"MRJob-Protocols\">III.B. MRJob Protocols</a></h2>\n",
    "<a href=\"#top\">Back to top</a> | <a href=\"#Section3\">Back to Section 3</a>  \n",
    "\n",
    "At a high level, a Protocol is a gateway between the Hadoop Streaming world, and the MRJob/Python world. It translates raw bytes (text) into (key, value) pairs as some Python  data structure, and vice versa. An MRJob protocol has the following interface: it is a class with a pair of functions read (which converts raw bytes to (key, value) pairs) and write (which converts (key, value) pairs back to bytes/text):\n",
    "\n",
    "<!-- HTML generated using hilite.me --><div style=\"margin:20px 0; background: #f8f8f8; overflow:auto;width:auto;border:0;border-width:.0;padding:.0;\"><pre style=\"margin: 0; line-height: 125%\"><span style=\"color: #008000; font-weight: bold\">class</span> <span style=\"color: #0000FF; font-weight: bold\">Protocol</span>(<span style=\"color: #008000\">object</span>):\n",
    "    <span style=\"color: #008000; font-weight: bold\">def</span> <span style=\"color: #0000FF\">read</span>(<span style=\"color: #008000\">self</span>, line):\n",
    "        <span style=\"color: #008000; font-weight: bold\">pass</span>\n",
    "    <span style=\"color: #008000; font-weight: bold\">def</span> <span style=\"color: #0000FF\">write</span>(<span style=\"color: #008000\">self</span>, key, value):\n",
    "        <span style=\"color: #008000; font-weight: bold\">pass</span>\n",
    "</pre></div>\n",
    "   \n",
    "In addition, MRJob further abstracts away the differences between Python 2 and Python 3 (primarily in areas such as Unicode handling), and provides a unified interface across most Hadoop versions and Python  versions.   \n",
    "\n",
    "When data enters MRJob components (mapper, reducer, combiner), the Protocol's read method (specified in MRJob class) is invoked, and supplies the (key, value) pair to the component. When data exits MRJob components, its Protocol's write method is invoked, converting (key, value) pair output from the component to raw bytes / text.   \n",
    "\n",
    "Consider a most generic MRJob job, consisting of one mapper step and one reduce step:\n",
    "\n",
    "\n",
    "<!-- HTML generated using hilite.me -->\n",
    "<div style=\"margin:20px 0; background: #f8f8f8; overflow:auto;width:auto;border:0;border-width:.0;padding:.0;\"><pre style=\"margin: 0; line-height: 125%\"><span style=\"color: #008000; font-weight: bold\">class</span> <span style=\"color: #0000FF; font-weight: bold\">GenericMRJob</span>(MRJob):\n",
    "\n",
    "    <span style=\"color: #008000; font-weight: bold\">def</span> <span style=\"color: #0000FF\">mapper</span>(<span style=\"color: #008000\">self</span>, key, value):\n",
    "        <span style=\"color: #408080; font-style: italic\"># mapper logic</span>\n",
    "        <span style=\"color: #008000; font-weight: bold\">yield</span> key, value\n",
    "    <span style=\"color: #008000; font-weight: bold\">def</span> <span style=\"color: #0000FF\">reducer</span>(<span style=\"color: #008000\">self</span>, key, values):\n",
    "        <span style=\"color: #408080; font-style: italic\"># reducer logic</span>\n",
    "        <span style=\"color: #008000; font-weight: bold\">yield</span> key, value\n",
    "</pre></div>\n",
    "\n",
    "There are four contact points between Python scripts and Hadoop Streaming, which require three Protocols to be specified, as illustrated below."
   ]
  },
  {
   "cell_type": "code",
   "execution_count": 119,
   "metadata": {
    "collapsed": false
   },
   "outputs": [
    {
     "data": {
      "image/png": "[encoded data removed]",
      "text/plain": [
       "<IPython.core.display.Image object>"
      ]
     },
     "execution_count": 119,
     "metadata": {},
     "output_type": "execute_result"
    }
   ],
   "source": [
    "Image(\"protocols-io-3.png\")"
   ]
  },
  {
   "cell_type": "markdown",
   "metadata": {},
   "source": [
    "<em>Figure 4. Protocols diagram</em>"
   ]
  },
  {
   "cell_type": "markdown",
   "metadata": {},
   "source": [
    "<h3><a name=\"MRJob-Protocols-role\">III.B.1 Types of Built-in Protocols</a></h3>\n",
    "<a href=\"#top\">Back to top</a> | <a href=\"#Section3\">Back to Section 3</a>  \n",
    "\n",
    "\n",
    "MRJob provides a number of built-in protocols, all of which can all be used for INPUT_PROTOCOL, INTERNAL_PROTOCOL or OUTPUT_PROTOCOL. By default, MRJob uses RawValueProtocol for INPUT_PROTOCOL, and JSONProtocol for INTERNAL_PROTOCOL and OUTPUT_PROTOCOL.   \n",
    "\n",
    "The table below lists four commonly used Protocols and their signature. Some key observations are:\n",
    "\n",
    "1. RawProtocol and RawValueProtocol do not attempt to serialize and deserialize text data\n",
    "2. JSONProtocol and JSONValueProtocol uses the JSON encoder and decoder to convert between text (stdin/stdout) and python data structrues (python runtime)\n",
    "3. Value Protocols always treat key as `None` and do not auto insert a tab character in their write method\n",
    "\n",
    "<main>\n",
    "<div style=\"margin:20px 0;\">\n",
    "  \n",
    "  <input class=\"tab-state\" id=\"tab10\" type=\"radio\" name=\"protocols\" checked>\n",
    "  <label for=\"tab10\">RawProtocol</label>\n",
    "    \n",
    "  <input class=\"tab-state\" id=\"tab11\" type=\"radio\" name=\"protocols\">\n",
    "  <label for=\"tab11\">RawValueProtocol</label>\n",
    "    \n",
    "  <input class=\"tab-state\" id=\"tab12\" type=\"radio\" name=\"protocols\">\n",
    "  <label for=\"tab12\">JSONProtocol</label>\n",
    "  \n",
    "  <input class=\"tab-state\" id=\"tab13\" type=\"radio\" name=\"protocols\">\n",
    "  <label for=\"tab13\">JSONValueProtocol</label>\n",
    "    \n",
    "  <section id=\"content10\" class=\"tab\">\n",
    "      <table class=\"padded-table\">\n",
    "      <tr>\n",
    "        <td colspan=\"4\" style=\"background:#fff; vertical-align:middle;\" width=\"50%\">read</td>\n",
    "        <td colspan=\"4\" style=\"background:#fff; vertical-align:middle;\" width=\"50%\">write</td>\n",
    "      </tr>\n",
    "      <tr>\n",
    "        <td colspan=\"2\" class=\"color-start\" width=\"25%\"><strong>Source:</strong>  stdin</td>\n",
    "        <td colspan=\"2\" class=\"color-middle\" width=\"25%\"><strong>Target:</strong> python</td>\n",
    "        <td colspan=\"2\" class=\"color-middle\" width=\"25%\"><strong>Source:</strong> python</td>\n",
    "        <td colspan=\"2\" class=\"color-end\" width=\"25%\"><strong>Target:</strong> stdout</td>\n",
    "      </tr>\n",
    "      <tr>\n",
    "        <td colspan=\"2\" ><strong>Type:</strong> Text</td>\n",
    "        <td colspan=\"2\" ><strong>Type:</strong> <span style=\"color: #008000\">tuple</span>( <span style=\"color: #008000\">str</span>, <span style=\"color: #008000\">str</span> )</td>\n",
    "        <td colspan=\"2\" ><strong>Type:</strong> <span style=\"color: #008000\">tuple</span>( <span style=\"color: #008000\">str</span>, <span style=\"color: #008000\">str</span> )</td>\n",
    "        <td colspan=\"2\" ><strong>Type:</strong> Text</td>\n",
    "      </tr>\n",
    "      <tr>\n",
    "        <td colspan=\"2\"><strong>Shape:</strong> { Key }  [TAB]  { Value }</td>\n",
    "        <td colspan=\"2\"><strong>Shape:</strong> ( { Key }, { Value } )</td>\n",
    "        <td colspan=\"2\"><strong>Shape:</strong> ( { Key }, { Value } )</td>\n",
    "        <td colspan=\"2\"><strong>Shape:</strong> { Key }  [TAB]  { Value }</td>\n",
    "      </tr>\n",
    "      <tr>\n",
    "        <td colspan=\"8\" style=\"height:40px;vertical-align:bottom;\"><strong>EXAMPLES</strong></td>\n",
    "      </tr>\n",
    "      <tr>\n",
    "        <td colspan=\"4\">word    <span style=\"color: #666666\">12</span>  <span style=\"border: 1px solid #FF0000\">⟶</span>  ( <span style=\"color: #BA2121\">&quot;word&quot;</span>, <span style=\"color: #BA2121\">&quot;12&quot;</span> )</td>\n",
    "        <td colspan=\"4\"><span style=\"color: #008000; font-weight: bold\">yield</span> ( <span style=\"color: #BA2121\">&quot;word&quot;</span>, <span style=\"color: #BA2121\">&quot;12&quot;</span> )  <span style=\"border: 1px solid #FF0000\">⟶</span>  word    <span style=\"color: #666666\">12</span></td>\n",
    "      </tr>\n",
    "      <tr>\n",
    "        <td colspan=\"4\">line_with_no_tab  <span style=\"border: 1px solid #FF0000\">⟶</span>  <span style=\"color:red\">raise ValueError</span></td>\n",
    "        <td colspan=\"4\"><span style=\"color: #008000; font-weight: bold\">yield</span> ( <span style=\"color: #BA2121\">&quot;a</span><span style=\"color: #BB6622; font-weight: bold\">\\t</span><span style=\"color: #BA2121\">b&quot;</span>, <span style=\"color: #BA2121\">&quot;value&quot;</span> )  <span style=\"border: 1px solid #FF0000\">⟶</span>  a     b    value</td>\n",
    "      </tr>\n",
    "      \n",
    "      </table>\n",
    "  </section>  \n",
    "  <section id=\"content11\" class=\"tab\">\n",
    "      <table class=\"padded-table\">\n",
    "      \n",
    "      <tr>\n",
    "        <td colspan=\"4\" style=\"background:#fff; vertical-align:middle;\"width=\"50%\">read</td>\n",
    "        <td colspan=\"4\" style=\"background:#fff; vertical-align:middle;\"width=\"50%\">write</td>\n",
    "      </tr>\n",
    "\n",
    "      <tr>\n",
    "        <td colspan=\"2\" class=\"color-start\" width=\"25%\"><strong>Source:</strong> stdin</td>\n",
    "        <td colspan=\"2\" class=\"color-middle\" width=\"25%\"><strong>Target:</strong> python</td>\n",
    "        <td colspan=\"2\" class=\"color-middle\" width=\"25%\"><strong>Source:</strong> python</td>\n",
    "        <td colspan=\"2\" class=\"color-end\" width=\"25%\"><strong>Target:</strong> stdout</td>\n",
    "      </tr>\n",
    "      <tr>\n",
    "        <td colspan=\"2\"><strong>Type:</strong> Text</td>\n",
    "        <td colspan=\"2\"><strong>Type:</strong> <span style=\"color: #008000\">tuple</span>( <span style=\"color: #008000\">None</span>, <span style=\"color: #008000\">str</span> )</td>\n",
    "        <td colspan=\"2\"><strong>Type:</strong> <span style=\"color: #008000\">tuple</span>( <span style=\"color: #666666\">\\*</span>, <span style=\"color: #008000\">str</span> )\n",
    "</td>\n",
    "        <td colspan=\"2\"><strong>Type:</strong> Text</td>\n",
    "      </tr>\n",
    "      <tr>\n",
    "        <td colspan=\"2\"><strong>Shape:</strong> { Value }</td>\n",
    "        <td colspan=\"2\"><strong>Shape:</strong> ( None, { Value } )</td>\n",
    "        <td colspan=\"2\"><strong>Shape:</strong> ( { }, { Value } )</td>\n",
    "        <td colspan=\"2\"><strong>Shape:</strong> { Value }</td>\n",
    "      </tr>\n",
    "      <tr>\n",
    "        <td colspan=\"8\" style=\"height:40px;vertical-align:bottom;\"><strong>EXAMPLES</strong></td>\n",
    "      </tr>\n",
    "      <tr>\n",
    "        <td colspan=\"4\">word    <span style=\"color: #666666\">12</span>  <span style=\"border: 1px solid #FF0000\">⟶</span>  ( <span style=\"color: #008000\">None</span>, <span style=\"color: #BA2121\">&quot;word</span><span style=\"color: #BB6622; font-weight: bold\">\\t</span><span style=\"color: #BA2121\">12&quot;</span> )</td>\n",
    "        <td colspan=\"4\"><span style=\"color: #008000; font-weight: bold\">yield</span> ( <span style=\"color: #BA2121\">&quot;word&quot;</span>, <span style=\"color: #BA2121\">&quot;12&quot;</span> )  <span style=\"border: 1px solid #FF0000\">⟶</span>  <span style=\"color: #666666\">12</span> <span style=\"color:#ff0055;padding-left:20px;\">\\*</span><span style=\"color:#777777;\">(*see footnote*)</span></td>\n",
    "      </tr>\n",
    "      <tr>\n",
    "        <td colspan=\"4\">line_with_no_tab  <span style=\"border: 1px solid #FF0000\">⟶</span>  ( <span style=\"color: #008000\">None</span>, <span style=\"color: #BA2121\">&quot;line_with_no_tab&quot;</span> )</td>\n",
    "        <td colspan=\"4\"><span style=\"color: #008000; font-weight: bold\">yield</span> ( <span style=\"color: #008000\">None</span>, <span style=\"color: #BA2121\">&quot;a</span><span style=\"color: #BB6622; font-weight: bold\">\\t</span><span style=\"color: #BA2121\">b&quot;</span> )  <span style=\"border: 1px solid #FF0000\">⟶</span>  a    b</td>\n",
    "      </tr>\n",
    "      <caption align=\"bottom\"><span style=\"color:#ff0055;\">\\*</span> \"word\" will be ommitted</caption>\n",
    "      </table>\n",
    "  </section> \n",
    "  <section id=\"content12\" class=\"tab\">\n",
    "      <table class=\"padded-table\">\n",
    "          <tr>\n",
    "            <td colspan=\"4\" style=\"background:#fff; vertical-align:middle;\" width=\"50%\">read</td>\n",
    "            <td colspan=\"4\" style=\"background:#fff; vertical-align:middle;\" width=\"50%\">write</td>\n",
    "          </tr>\n",
    "          <tr>\n",
    "            <td colspan=\"2\" class=\"color-start\" width=\"25%\"><strong>Source:</strong> stdin</td>\n",
    "            <td colspan=\"2\" class=\"color-middle\" width=\"25%\"><strong>Target:</strong> python</td>\n",
    "            <td colspan=\"2\" class=\"color-middle\" width=\"25%\"><strong>Source:</strong> python</td>\n",
    "            <td colspan=\"2\" class=\"color-end\" width=\"25%\"><strong>Target:</strong> stdout</td>\n",
    "          </tr>\n",
    "          <tr>\n",
    "            <td colspan=\"2\"><strong>Type:</strong> Text</td>\n",
    "            <td colspan=\"2\"><strong>Type:</strong> <span style=\"color: #008000\">tuple</span>( <span style=\"color: #666666\">\\*</span>, <span style=\"color: #666666\">\\*</span> )</td>\n",
    "            <td colspan=\"2\"><strong>Type:</strong> <span style=\"color: #008000\">tuple</span>( <span style=\"color: #666666\">\\*</span>, <span style=\"color: #666666\">\\*</span> )</td>\n",
    "            <td colspan=\"2\"><strong>Type:</strong> Text</td>\n",
    "          </tr>\n",
    "          <tr>\n",
    "            <td colspan=\"2\"><strong>Shape:</strong> { Key } [TAB] { Value }</td>\n",
    "            <td colspan=\"2\"><strong>Shape:</strong> ( { Key }, { Value } )</td>\n",
    "            <td colspan=\"2\"><strong>Shape:</strong> ( { Key }, { Value } )</td>\n",
    "            <td colspan=\"2\"><strong>Shape:</strong> { Key }  [TAB]  { Value }</td>\n",
    "          </tr>\n",
    "          <tr>\n",
    "            <td colspan=\"8\" style=\"height:40px;vertical-align:bottom;\"><strong>EXAMPLES</strong></td>\n",
    "          </tr>\n",
    "          <tr>\n",
    "            <td colspan=\"4\"><span style=\"color: #666666\">10</span>    [ <span style=\"color: #666666\">1</span>, true, null, <span style=\"color: #BA2121\">&quot;abc&quot;</span> ]    <span style=\"border: 1px solid #FF0000\">⟶</span>    (<span style=\"color: #666666\">10</span>, [ <span style=\"color: #666666\">1</span>, <span style=\"color: #008000\">True</span>, <span style=\"color: #008000\">None</span>, <span style=\"color: #BA2121\">&quot;abc&quot;</span> ] )</td>\n",
    "            <td colspan=\"4\"><span style=\"color: #008000; font-weight: bold\">yield</span> ( [ <span style=\"color: #666666\">1</span>, <span style=\"color: #666666\">2</span> ], [ [ <span style=\"color: #666666\">1</span>, <span style=\"color: #BA2121\">&quot;3&quot;</span> ] ] )  <span style=\"border: 1px solid #FF0000\">⟶</span> [ <span style=\"color: #666666\">1</span>, <span style=\"color: #666666\">2</span> ]    [ [<span style=\"color: #666666\">1</span>, <span style=\"color: #BA2121\">&quot;3&quot;</span>] ]</td>\n",
    "          </tr>\n",
    "          <tr>\n",
    "            <td colspan=\"4\">line_with_no_tab    <span style=\"border: 1px solid #FF0000\">⟶</span>    <span style=\"color:red\">raise ValueError</span></td>\n",
    "            <td colspan=\"4\"><span style=\"color: #008000; font-weight: bold\">yield</span> <span style=\"color: #666666\">1</span>, <span style=\"color: #666666\">2</span>  <span style=\"border: 1px solid #FF0000\">⟶</span>  <span style=\"color: #666666\">1</span>    <span style=\"color: #666666\">2</span></td>\n",
    "          </tr>\n",
    "      </table>\n",
    "  </section> \n",
    "  <section id=\"content13\" class=\"tab\">\n",
    "      <table class=\"padded-table\">\n",
    "          <tr>\n",
    "            <td colspan=\"4\" style=\"background:#fff; vertical-align:middle;\" width=\"50%\">read</td>\n",
    "            <td colspan=\"4\" style=\"background:#fff; vertical-align:middle;\"width=\"50%\">write</td>\n",
    "          </tr>\n",
    "          <tr>\n",
    "            <td colspan=\"2\" class=\"color-start\" width=\"25%\"><strong>Source:</strong> stdin</td>\n",
    "            <td colspan=\"2\" class=\"color-middle\" width=\"25%\"><strong>Target:</strong> python</td>\n",
    "            <td colspan=\"2\" class=\"color-middle\" width=\"25%\"><strong>Source:</strong> python</td>\n",
    "            <td colspan=\"2\" class=\"color-end\" width=\"25%\"><strong>Target:</strong> stdout</td>\n",
    "          </tr>\n",
    "          <tr>\n",
    "            <td colspan=\"2\"><strong>Type:</strong> Text</td>\n",
    "            <td colspan=\"2\"><strong>Type:</strong> <span style=\"color: #008000\">tuple</span>( <span style=\"color: #666666\">\\*</span>, <span style=\"color: #666666\">\\*</span> )</td>\n",
    "            <td colspan=\"2\"><strong>Type:</strong> <span style=\"color: #008000\">tuple</span>( <span style=\"color: #666666\">\\*</span>, <span style=\"color: #666666\">\\*</span> )\n",
    "            </td>\n",
    "            <td colspan=\"2\"><strong>Type:</strong> Text</td>\n",
    "          </tr>\n",
    "          <tr>\n",
    "            <td colspan=\"2\"><strong>Shape:</strong> { Value }</td>\n",
    "            <td colspan=\"2\"><strong>Shape:</strong> ( <span style=\"color: #008000\">None</span>, { Value } )\n",
    "            </td>\n",
    "            <td colspan=\"2\"><strong>Shape:</strong> ( { }, { Value } )</td>\n",
    "            <td colspan=\"2\"><strong>Shape:</strong> { Value }\n",
    "            </td>\n",
    "          </tr>\n",
    "          <tr>\n",
    "            <td colspan=\"8\" style=\"height:40px;vertical-align:bottom;\"><strong>EXAMPLES</strong></td>\n",
    "          </tr>\n",
    "          <tr>\n",
    "            <td colspan=\"4\"><span style=\"color: #666666\">10</span>    [ <span style=\"color: #666666\">1</span>, true, null, <span style=\"color: #BA2121\">&quot;abc&quot;</span> ] <span style=\"border: 1px solid #FF0000\">⟶</span> <span style=\"color:red\">raise ValueError</span></td>\n",
    "            <td colspan=\"4\"><!-- HTML generated using hilite.me --><span style=\"color: #008000; font-weight: bold\">yield</span> ( <span style=\"color: #666666\">1</span>, { <span style=\"color: #666666\">2</span> : <span style=\"color: #666666\">3</span> } )  <span style=\"border: 1px solid #FF0000\">⟶</span>  { <span style=\"color: #BA2121\">&quot;2&quot;</span> : <span style=\"color: #666666\">3</span> }\n",
    "</td>\n",
    "          </tr>\n",
    "          <tr>\n",
    "            <td colspan=\"4\">\n",
    "            <!-- HTML generated using hilite.me -->{ <span style=\"color: #BA2121\">&quot;value&quot;</span>: { <span style=\"color: #BA2121\">&quot;nested&quot;</span>: [ <span style=\"color: #666666\">1</span> ] } } <span style=\"border: 1px solid #FF0000\">⟶</span> ( <span style=\"color: #008000\">None</span>, { <span style=\"color: #BA2121\">&quot;value&quot;</span>: { <span style=\"color: #BA2121\">&quot;nested&quot;</span>: [ <span style=\"color: #666666\">1</span> ] } } )\n",
    "            </td>\n",
    "            <td colspan=\"4\"><!-- HTML generated using hilite.me --><span style=\"color: #008000; font-weight: bold\">yield</span> ( [<span style=\"color: #666666\">1</span>, <span style=\"color: #666666\">2</span>, <span style=\"color: #666666\">3</span> ], { <span style=\"color: #BA2121\">&quot;value&quot;</span> : <span style=\"color: #666666\">10</span> } ) <span style=\"border: 1px solid #FF0000\">⟶</span>  { <span style=\"color: #BA2121\">&quot;value&quot;</span> : <span style=\"color: #666666\">10</span> }\n",
    "\n",
    "            </td>\n",
    "          </tr>\n",
    "      </table>\n",
    "  </section> \n",
    "</div>\n",
    "</main>"
   ]
  },
  {
   "cell_type": "markdown",
   "metadata": {},
   "source": [
    "The following example further illustrates the behaviors of these protocols: a single line of text input (single line text file containing: 1001 {\"value\":10}) is fed to four different single step MapReduce jobs. Each uses one of the four Protocols discussed above as INPUT_PROTOCOL, INTERNAL_PROTOCOL and OUTPUT_PROTOCOL.\n"
   ]
  },
  {
   "cell_type": "code",
   "execution_count": 105,
   "metadata": {
    "collapsed": false
   },
   "outputs": [
    {
     "data": {
      "image/png": "[encoded data removed]",
      "text/plain": [
       "<IPython.core.display.Image object>"
      ]
     },
     "execution_count": 105,
     "metadata": {},
     "output_type": "execute_result"
    }
   ],
   "source": [
    "Image(\"record-lifecyle-2.png\")"
   ]
  },
  {
   "cell_type": "markdown",
   "metadata": {},
   "source": [
    "<em>Figure 5. Lifecycle of a single record.</em>"
   ]
  },
  {
   "cell_type": "markdown",
   "metadata": {},
   "source": [
    "Corresponding protocols code examples:\n",
    "\n",
    "\n",
    "<main>\n",
    "  <input class=\"tab-state\" id=\"tab_protocol_1\" type=\"radio\" name=\"protocols\" checked>\n",
    "  <label for=\"tab_protocol_1\">RawProtocol</label>\n",
    "  <input class=\"tab-state\" id=\"tab_protocol_2\" type=\"radio\" name=\"protocols\">\n",
    "  <label for=\"tab_protocol_2\">RawValueProtocol</label>\n",
    "  <input class=\"tab-state\" id=\"tab_protocol_3\" type=\"radio\" name=\"protocols\">\n",
    "  <label for=\"tab_protocol_3\">JSONProtocol</label>\n",
    "    <input class=\"tab-state\" id=\"tab_protocol_4\" type=\"radio\" name=\"protocols\">\n",
    "  <label for=\"tab_protocol_4\">JSONValueProtocol</label>\n",
    "  \n",
    "  <section id=\"content_protocol_1\" class=\"tab\">\n",
    "<!-- tab 1 -->\n",
    "<pre style='color:#000000;background:#ffffff;'><span style='color:#696969; '># raw_protocol.py</span>\n",
    "\n",
    "<span style='color:#800000; font-weight:bold; '>from</span> mrjob<span style='color:#808030; '>.</span>job <span style='color:#800000; font-weight:bold; '>import</span> MRJob\n",
    "<span style='color:#800000; font-weight:bold; '>from</span> mrjob<span style='color:#808030; '>.</span>protocol <span style='color:#800000; font-weight:bold; '>import</span> RawProtocol\n",
    "\n",
    "<span style='color:#800000; font-weight:bold; '>class</span> RawProtocolExample<span style='color:#808030; '>(</span>MRJob<span style='color:#808030; '>)</span><span style='color:#808030; '>:</span>\n",
    "  \n",
    "    INPUT_PROTOCOL <span style='color:#808030; '>=</span> RawProtocol\n",
    "    OUTPUT_PROTOCOL <span style='color:#808030; '>=</span> RawProtocol\n",
    "    INTERNAL_PROTOCOL <span style='color:#808030; '>=</span> RawProtocol\n",
    "    \n",
    "    <span style='color:#800000; font-weight:bold; '>def</span> mapper<span style='color:#808030; '>(</span>self<span style='color:#808030; '>,</span> key<span style='color:#808030; '>,</span> value<span style='color:#808030; '>)</span><span style='color:#808030; '>:</span>\n",
    "        <span style='color:#800000; font-weight:bold; '>assert</span> key <span style='color:#44aadd; '>==</span> <span style='color:#0000e6; '>\"1001\"</span>\n",
    "        <span style='color:#800000; font-weight:bold; '>assert</span> value <span style='color:#44aadd; '>==</span> <span style='color:#0000e6; '>\"{</span><span style='color:#0f69ff; '>\\\"</span><span style='color:#0000e6; '>value</span><span style='color:#0f69ff; '>\\\"</span><span style='color:#0000e6; '>:10}\"</span>\n",
    "        <span style='color:#800000; font-weight:bold; '>yield</span> <span style='color:#0000e6; '>\"1001\"</span><span style='color:#808030; '>,</span> <span style='color:#0000e6; '>\"{</span><span style='color:#0f69ff; '>\\\"</span><span style='color:#0000e6; '>value</span><span style='color:#0f69ff; '>\\\"</span><span style='color:#0000e6; '>:10}\"</span>\n",
    "    <span style='color:#800000; font-weight:bold; '>def</span> reducer<span style='color:#808030; '>(</span>self<span style='color:#808030; '>,</span> key<span style='color:#808030; '>,</span> values<span style='color:#808030; '>)</span><span style='color:#808030; '>:</span>\n",
    "        <span style='color:#800000; font-weight:bold; '>for</span> value <span style='color:#800000; font-weight:bold; '>in</span> values<span style='color:#808030; '>:</span>\n",
    "            <span style='color:#800000; font-weight:bold; '>assert</span> key <span style='color:#44aadd; '>==</span> <span style='color:#0000e6; '>\"1001\"</span>\n",
    "            <span style='color:#800000; font-weight:bold; '>assert</span> value <span style='color:#44aadd; '>==</span> <span style='color:#0000e6; '>\"{</span><span style='color:#0f69ff; '>\\\"</span><span style='color:#0000e6; '>value</span><span style='color:#0f69ff; '>\\\"</span><span style='color:#0000e6; '>:10}\"</span>\n",
    "            <span style='color:#800000; font-weight:bold; '>yield</span> <span style='color:#0000e6; '>\"1001\"</span><span style='color:#808030; '>,</span> <span style='color:#0000e6; '>\"{</span><span style='color:#0f69ff; '>\\\"</span><span style='color:#0000e6; '>value</span><span style='color:#0f69ff; '>\\\"</span><span style='color:#0000e6; '>:10}\"</span>\n",
    "\n",
    "<span style='color:#800000; font-weight:bold; '>if</span> <span style='color:#074726; '>__name__</span> <span style='color:#44aadd; '>==</span> <span style='color:#0000e6; '>'__main__'</span><span style='color:#808030; '>:</span>\n",
    "    RawProtocolExample<span style='color:#808030; '>.</span>run<span style='color:#808030; '>(</span><span style='color:#808030; '>)</span>\n",
    "</pre>\n",
    "<pre style='color:#000000;background:#ffffff;margin-top:-1px'>\n",
    "<code>echo '1001\\t{\"value\":10}' | python raw_protocol.py</code>\n",
    "</pre>\n",
    "<pre style>\n",
    "<code style=\"color:#888;margin:0;\">\n",
    "Creating temp directory /tmp/raw_protocol.yiran.20160828.061913.768951\n",
    "Running step 1 of 1...\n",
    "reading from STDIN\n",
    "Streaming final output from /tmp/raw_protocol.yiran.20160828.061913.768951/output...\n",
    "</code>\n",
    "1001\t{\"value\":10}\n",
    "<code style=\"color:#888;margin:0;\">\n",
    "Removing temp directory /tmp/raw_protocol.yiran.20160828.061913.768951...\n",
    "</code>\n",
    "</pre>\n",
    "  </section>\n",
    "  <section id=\"content_protocol_2\" class=\"tab\">\n",
    "<pre style='color:#000000;background:#ffffff;'><span style='color:#696969; '># raw_value_protocol.py</span>\n",
    "\n",
    "<span style='color:#800000; font-weight:bold; '>from</span> mrjob<span style='color:#808030; '>.</span>job <span style='color:#800000; font-weight:bold; '>import</span> MRJob\n",
    "<span style='color:#800000; font-weight:bold; '>from</span> mrjob<span style='color:#808030; '>.</span>protocol <span style='color:#800000; font-weight:bold; '>import</span> RawValueProtocol\n",
    "\n",
    "<span style='color:#800000; font-weight:bold; '>class</span> RawValueProtocolExample<span style='color:#808030; '>(</span>MRJob<span style='color:#808030; '>)</span><span style='color:#808030; '>:</span>\n",
    "  \n",
    "    INPUT_PROTOCOL <span style='color:#808030; '>=</span> RawValueProtocol\n",
    "    OUTPUT_PROTOCOL <span style='color:#808030; '>=</span> RawValueProtocol\n",
    "    INTERNAL_PROTOCOL <span style='color:#808030; '>=</span> RawValueProtocol\n",
    "    \n",
    "    <span style='color:#800000; font-weight:bold; '>def</span> mapper<span style='color:#808030; '>(</span>self<span style='color:#808030; '>,</span> key<span style='color:#808030; '>,</span> value<span style='color:#808030; '>)</span><span style='color:#808030; '>:</span>\n",
    "        <span style='color:#800000; font-weight:bold; '>assert</span> key <span style='color:#44aadd; '>==</span> <span style='color:#074726; '>None</span>\n",
    "        <span style='color:#800000; font-weight:bold; '>assert</span> value <span style='color:#44aadd; '>==</span> <span style='color:#0000e6; '>\"1001</span><span style='color:#0f69ff; '>\\t</span><span style='color:#0000e6; '>{</span><span style='color:#0f69ff; '>\\\"</span><span style='color:#0000e6; '>value</span><span style='color:#0f69ff; '>\\\"</span><span style='color:#0000e6; '>:10}\"</span>\n",
    "        <span style='color:#800000; font-weight:bold; '>yield</span> <span style='color:#0000e6; '>\"1001\"</span><span style='color:#808030; '>,</span> <span style='color:#0000e6; '>\"{</span><span style='color:#0f69ff; '>\\\"</span><span style='color:#0000e6; '>value</span><span style='color:#0f69ff; '>\\\"</span><span style='color:#0000e6; '>:10}\"</span>\n",
    "    <span style='color:#800000; font-weight:bold; '>def</span> reducer<span style='color:#808030; '>(</span>self<span style='color:#808030; '>,</span> key<span style='color:#808030; '>,</span> values<span style='color:#808030; '>)</span><span style='color:#808030; '>:</span>\n",
    "        <span style='color:#800000; font-weight:bold; '>for</span> value <span style='color:#800000; font-weight:bold; '>in</span> values<span style='color:#808030; '>:</span>\n",
    "            <span style='color:#800000; font-weight:bold; '>assert</span> key <span style='color:#44aadd; '>==</span> <span style='color:#074726; '>None</span>\n",
    "            <span style='color:#800000; font-weight:bold; '>assert</span> value <span style='color:#44aadd; '>==</span> <span style='color:#0000e6; '>\"{</span><span style='color:#0f69ff; '>\\\"</span><span style='color:#0000e6; '>value</span><span style='color:#0f69ff; '>\\\"</span><span style='color:#0000e6; '>:10}\"</span>\n",
    "            <span style='color:#800000; font-weight:bold; '>yield</span> <span style='color:#074726; '>None</span><span style='color:#808030; '>,</span> <span style='color:#0000e6; '>\"{</span><span style='color:#0f69ff; '>\\\"</span><span style='color:#0000e6; '>value</span><span style='color:#0f69ff; '>\\\"</span><span style='color:#0000e6; '>:10}\"</span>\n",
    "\n",
    "<span style='color:#800000; font-weight:bold; '>if</span> <span style='color:#074726; '>__name__</span> <span style='color:#44aadd; '>==</span> <span style='color:#0000e6; '>'__main__'</span><span style='color:#808030; '>:</span>\n",
    "    RawValueProtocolExample<span style='color:#808030; '>.</span>run<span style='color:#808030; '>(</span><span style='color:#808030; '>)</span>\n",
    "</pre>\n",
    "<pre style='color:#000000;background:#ffffff;'>\n",
    "<code>echo '1001\\t{\"value\":10}' | python raw_value_protocol.py</code>\n",
    "</pre>\n",
    "<pre style>\n",
    "<code style=\"color:#888;margin:0;\">\n",
    "Creating temp directory /tmp/raw_protocol.yiran.20160828.061913.768951\n",
    "Running step 1 of 1...\n",
    "reading from STDIN\n",
    "Streaming final output from /tmp/raw_protocol.yiran.20160828.061913.768951/output...\n",
    "</code>\n",
    "{\"value\":10}\n",
    "<code style=\"color:#888;margin:0;\">\n",
    "Removing temp directory /tmp/raw_protocol.yiran.20160828.061913.768951...\n",
    "</code>\n",
    "</pre>\n",
    "  </section>\n",
    "  <section id=\"content_protocol_3\" class=\"tab\">\n",
    "<pre style='color:#000000;background:#ffffff;'><span style='color:#696969; '># json_protocol.py</span>\n",
    "\n",
    "<span style='color:#800000; font-weight:bold; '>from</span> mrjob<span style='color:#808030; '>.</span>job <span style='color:#800000; font-weight:bold; '>import</span> MRJob\n",
    "<span style='color:#800000; font-weight:bold; '>from</span> mrjob<span style='color:#808030; '>.</span>protocol <span style='color:#800000; font-weight:bold; '>import</span> JSONProtocol\n",
    "\n",
    "<span style='color:#800000; font-weight:bold; '>class</span> JSONProtocolExample<span style='color:#808030; '>(</span>MRJob<span style='color:#808030; '>)</span><span style='color:#808030; '>:</span>\n",
    "  \n",
    "    INPUT_PROTOCOL <span style='color:#808030; '>=</span> JSONProtocol\n",
    "    OUTPUT_PROTOCOL <span style='color:#808030; '>=</span> JSONProtocol\n",
    "    INTERNAL_PROTOCOL <span style='color:#808030; '>=</span> JSONProtocol\n",
    "    \n",
    "    <span style='color:#800000; font-weight:bold; '>def</span> mapper<span style='color:#808030; '>(</span>self<span style='color:#808030; '>,</span> key<span style='color:#808030; '>,</span> value<span style='color:#808030; '>)</span><span style='color:#808030; '>:</span>\n",
    "        <span style='color:#800000; font-weight:bold; '>assert</span> key <span style='color:#44aadd; '>==</span> <span style='color:#008c00; '>1001</span>\n",
    "        <span style='color:#800000; font-weight:bold; '>assert</span> value <span style='color:#44aadd; '>==</span> <span style='color:#800080; '>{</span><span style='color:#0000e6; '>\"value\"</span><span style='color:#808030; '>:</span><span style='color:#008c00; '>10</span><span style='color:#800080; '>}</span>\n",
    "        <span style='color:#800000; font-weight:bold; '>assert</span> <span style='color:#400000; '>isinstance</span><span style='color:#808030; '>(</span>value<span style='color:#808030; '>,</span> <span style='color:#400000; '>dict</span><span style='color:#808030; '>)</span>\n",
    "        <span style='color:#800000; font-weight:bold; '>yield</span> key<span style='color:#808030; '>,</span> value\n",
    "    <span style='color:#800000; font-weight:bold; '>def</span> reducer<span style='color:#808030; '>(</span>self<span style='color:#808030; '>,</span> key<span style='color:#808030; '>,</span> values<span style='color:#808030; '>)</span><span style='color:#808030; '>:</span>\n",
    "        <span style='color:#800000; font-weight:bold; '>for</span> value <span style='color:#800000; font-weight:bold; '>in</span> values<span style='color:#808030; '>:</span>\n",
    "            <span style='color:#800000; font-weight:bold; '>assert</span> key <span style='color:#44aadd; '>==</span> <span style='color:#008c00; '>1001</span>\n",
    "            <span style='color:#800000; font-weight:bold; '>assert</span> value <span style='color:#44aadd; '>==</span> <span style='color:#800080; '>{</span><span style='color:#0000e6; '>\"value\"</span><span style='color:#808030; '>:</span><span style='color:#008c00; '>10</span><span style='color:#800080; '>}</span>\n",
    "            <span style='color:#800000; font-weight:bold; '>yield</span> key<span style='color:#808030; '>,</span> value\n",
    "\n",
    "<span style='color:#800000; font-weight:bold; '>if</span> <span style='color:#074726; '>__name__</span> <span style='color:#44aadd; '>==</span> <span style='color:#0000e6; '>'__main__'</span><span style='color:#808030; '>:</span>\n",
    "    JSONProtocolExample<span style='color:#808030; '>.</span>run<span style='color:#808030; '>(</span><span style='color:#808030; '>)</span>\n",
    "</pre>\n",
    "<pre style='color:#000000;background:#ffffff;'>\n",
    "<code>echo '1001\\t{\"value\":10}' | python json_protocol.py</code>\n",
    "</pre>\n",
    "<pre style>\n",
    "<code style=\"color:#888;margin:0;\">\n",
    "Creating temp directory /tmp/raw_protocol.yiran.20160828.061913.768951\n",
    "Running step 1 of 1...\n",
    "reading from STDIN\n",
    "Streaming final output from /tmp/raw_protocol.yiran.20160828.061913.768951/output...\n",
    "</code>\n",
    "1001\t{\"value\":10}\n",
    "<code style=\"color:#888;margin:0;\">\n",
    "Removing temp directory /tmp/raw_protocol.yiran.20160828.061913.768951...\n",
    "</code>\n",
    "</pre>\n",
    "  </section>\n",
    "  <section id=\"content_protocol_4\" class=\"tab\">\n",
    "  <pre style='color:#000000;background:#ffffff;'><span style='color:#696969; '># json_value_protocol.py</span>\n",
    "\n",
    "<span style='color:#800000; font-weight:bold; '>from</span> mrjob<span style='color:#808030; '>.</span>job <span style='color:#800000; font-weight:bold; '>import</span> MRJob\n",
    "<span style='color:#800000; font-weight:bold; '>from</span> mrjob<span style='color:#808030; '>.</span>protocol <span style='color:#800000; font-weight:bold; '>import</span> JSONValueProtocol\n",
    "\n",
    "<span style='color:#800000; font-weight:bold; '>class</span> JSONValueProtocolExample<span style='color:#808030; '>(</span>MRJob<span style='color:#808030; '>)</span><span style='color:#808030; '>:</span>\n",
    "  \n",
    "    INPUT_PROTOCOL <span style='color:#808030; '>=</span> JSONValueProtocol\n",
    "    OUTPUT_PROTOCOL <span style='color:#808030; '>=</span> JSONValueProtocol\n",
    "    INTERNAL_PROTOCOL <span style='color:#808030; '>=</span> JSONValueProtocol\n",
    "    \n",
    "    <span style='color:#800000; font-weight:bold; '>def</span> mapper<span style='color:#808030; '>(</span>self<span style='color:#808030; '>,</span> key<span style='color:#808030; '>,</span> value<span style='color:#808030; '>)</span><span style='color:#808030; '>:</span>\n",
    "        <span style='color:#800000; font-weight:bold; '>pass</span>\n",
    "    <span style='color:#800000; font-weight:bold; '>def</span> reducer<span style='color:#808030; '>(</span>self<span style='color:#808030; '>,</span> key<span style='color:#808030; '>,</span> values<span style='color:#808030; '>)</span><span style='color:#808030; '>:</span>\n",
    "        <span style='color:#800000; font-weight:bold; '>pass</span>\n",
    "\n",
    "<span style='color:#800000; font-weight:bold; '>if</span> <span style='color:#074726; '>__name__</span> <span style='color:#44aadd; '>==</span> <span style='color:#0000e6; '>'__main__'</span><span style='color:#808030; '>:</span>\n",
    "    JSONValueProtocolExample<span style='color:#808030; '>.</span>run<span style='color:#808030; '>(</span><span style='color:#808030; '>)</span>\n",
    "</pre>\n",
    "<pre style='color:#000000;background:#ffffff;'>\n",
    "<code>echo '1001\\t{\"value\":10}' | python json_value_protocol.py</code>\n",
    "</pre>\n",
    "<pre style>\n",
    "<code style=\"color:#888;margin:0;\">\n",
    "Creating temp directory /tmp/json_value_protocol.yiran.20160914.050922.301542\n",
    "Running step 1 of 1...\n",
    "reading from STDIN\n",
    "Traceback (most recent call last):\n",
    "  File \"json_value_protocol.py\", line 17, in <module>\n",
    "    JSONValueProtocolExample.run()\n",
    "  File \"/home/yiran/anaconda/lib/python2.7/site-packages/mrjob/job.py\", line 433, in run\n",
    "    mr_job.execute()\n",
    "  File \"/home/yiran/anaconda/lib/python2.7/site-packages/mrjob/job.py\", line 451, in execute\n",
    "    super(MRJob, self).execute()\n",
    "  ...\n",
    "    key, value = read(line.rstrip(b'\\r\\n'))\n",
    "  File \"/home/yiran/anaconda/lib/python2.7/site-packages/mrjob/protocol.py\", line 222, in read\n",
    "    return (None, ujson.loads(line))\n",
    "ValueError: Trailing data\n",
    "</code>\n",
    "</pre>\n",
    "  </section>\n",
    "</main>"
   ]
  },
  {
   "cell_type": "markdown",
   "metadata": {},
   "source": [
    "<h3><a name=\"Importance-of-RawProtocols\">III.B.2 Importance of RawProtocols in Context of Total Sorting</a></h3>\n",
    "<a href=\"#top\">Back to top</a> | <a href=\"#Section3\">Back to Section 3</a>  \n",
    "\n",
    "While working with MRJob, it is critical to understand that MRJob is an abstraction layer above Hadoop Streaming, and does not extend or modify Hadoop Streaming's normal behaviors. Hadoop streaming works through Unix piping, and uses stdout and stderr as communication channels. In Unix environments, the protocol of data transfer is text streams – mappers, reducers and Hadoop libraries exchange data through text.   \n",
    "\n",
    "Therefore, data structures common in programming languages (e.g. dictionary in Python ) have to be serialized to text for Hadoop Streaming to understand and consume. The implication of this on total sorting is this: since Hadoop only sees text, custom data structures (as keys) will be sorted as strings in their serialized forms.    \n",
    "\n",
    "MRJob abstracts away the data serialization and deserialization processes by the concept of protocols. For instance, JSONProtocol is capable of serializing complex data structures, and is used by default as INTERNAL_PROTOCOL. This frees the user from messy string manipulation and processing, but it does come with a cost.\n",
    "\n",
    "\n",
    "One example is python tuples:\n",
    "\n",
    "```\n",
    "# mapper\n",
    "yield 1, (\"value\", \"as\", \"tuple\", True)\n",
    "\n",
    "```\n",
    "\n",
    "Inside the reducer however, when values are deserialized into python objects, the (key, value) pair above will become:\n",
    "```\n",
    "1, [\"value\", \"as\", \"tuple\", True]\n",
    "\n",
    "```\n",
    "\n",
    "Namely, tuples become lists, due to the fact JSON does not support tuples. \n",
    "\n",
    "Another example related to sorting: suppose mappers emit custom data structures as composite keys, such as:\n",
    "```\n",
    "# mapper\n",
    "yield [12, 1, 2016]\n",
    "```\n",
    "\n",
    "Assuming we want to use hadoop streaming's KeyFieldBasedComparator, when hadoop streaming sees the JSON string [2016, 12, 1], it is very difficult to instruct hadoop to understand the key consists of three fields (month, day, year), and sort them accordingly (e.g. we want sort by year, month, day).   \n",
    "\n",
    "Notice if we yield a date as [2016, 12, 01] instead, the string comparison coincidentally produces the same sort order as the underlying data (dates). However, to achieve this requires intimate knowledge of JSON (or other transportation formats); therefore, we recommend using RawProtocol or RawValueProtocol when advanced sorting is desired, which offers maximum flexibility to control key sorting and key hashing performed by Hadoop Streaming.\n"
   ]
  },
  {
   "cell_type": "markdown",
   "metadata": {},
   "source": [
    "<h2><a name=\"MRJob-partitioning\">III.C. Partitioning in MRJob</a></h2>\n",
    "<a href=\"#top\">Back to top</a>   | <a href=\"#Section3\">Back to Section 3</a>\n",
    "\n",
    "<h4>Keypoints:</h4>\n",
    "\n",
    "<ul>\n",
    "<li>Challenge: which partition contains the largest/smallest values seems arbitrary</li>\n",
    "<li>Hadoop streaming `KeyFieldBasedPartitioner` does not sort partition keys, even though it seemingly accepts Unix `sort` compatible configurations</li>\n",
    "<li>MRJob uses Hadoop Streaming under the hood, therefore inherits the same problem</li>\n",
    "</ul>\n",
    "\n",
    "<h4>Solution:</h4>\n",
    "\n",
    "<ul>\n",
    "<li>Understand the inner working of `HashPartitioner` and `KeyFieldBasedPartitioner`</li>\n",
    "<li>Relationship between `KeyFieldBasedPartitioner` and `HashPartitioner`:   \n",
    "\n",
    "  * `KeyFieldBasedPartitioner` applies `HashPartitioner` on configured key field(s)</li>\n",
    "  \n",
    "<li>Create the inverse function of `HashPartitioner` and assign partition keys accordingly</li>\n",
    "</ul>"
   ]
  },
  {
   "cell_type": "markdown",
   "metadata": {},
   "source": [
    "<h3><a name=\"Understanding-HashPartitioner\"> Understanding HashPartitioner</a></h3>\n",
    "<a href=\"#top\">Back to top</a>   | <a href=\"#Section3\">Back to Section 3</a>\n",
    "\n",
    "By default, Hadoop uses a library class `HashPartitioner` to compute the partition index for keys produced by mappers. It has a method called `getPartition`, which takes `key.hashCode() & Integer.MAX_VALUE` and finds the modulus using the number of reduce tasks. For example, if there are 10 reduce tasks, `getPartition` will return values 0 through 9 for all keys.\n",
    "\n",
    "```\n",
    "// HashPartitioner\n",
    "\n",
    "partitionIndex = (key.hashCode() & Integer.MAX_VALUE) % numReducers\n",
    "```\n",
    "\n",
    "In the land of native hadoop applications (written in Java or JVM languages), keys can be any object type that is hashable (i.e. implements hashable interface). For Hadoop Streaming, however, keys are always string values. Therefore the hashCode function for strings is used:\n",
    "\n",
    "<!-- HTML generated using hilite.me -->\n",
    "<div style=\"margin:20px 0;background: #f8f8f8; overflow:auto;width:auto;border:0;border-width:.0;padding:.0;\"><pre style=\"margin: 0; line-height: 125%\">public <span style=\"color: #008000\">int</span> hashCode() {\n",
    "    <span style=\"color: #008000\">int</span> h <span style=\"color: #666666\">=</span> <span style=\"color: #008000\">hash</span>;\n",
    "    <span style=\"color: #008000; font-weight: bold\">if</span> (h <span style=\"color: #666666\">==</span> <span style=\"color: #666666\">0</span> <span style=\"color: #666666\">&amp;&amp;</span> value<span style=\"color: #666666\">.</span>length <span style=\"color: #666666\">&gt;</span> <span style=\"color: #666666\">0</span>) {\n",
    "        char val[] <span style=\"color: #666666\">=</span> value;\n",
    "\n",
    "        <span style=\"color: #008000; font-weight: bold\">for</span> (<span style=\"color: #008000\">int</span> i <span style=\"color: #666666\">=</span> <span style=\"color: #666666\">0</span>; i <span style=\"color: #666666\">&lt;</span> value<span style=\"color: #666666\">.</span>length; i<span style=\"color: #666666\">++</span>) {\n",
    "            h <span style=\"color: #666666\">=</span> <span style=\"color: #666666\">31</span> <span style=\"color: #666666\">*</span> h <span style=\"color: #666666\">+</span> val[i];\n",
    "        }\n",
    "        <span style=\"color: #008000\">hash</span> <span style=\"color: #666666\">=</span> h;\n",
    "    }\n",
    "    <span style=\"color: #008000; font-weight: bold\">return</span> h;\n",
    "}\n",
    "</pre></div>\n",
    "\n",
    "\n",
    "When we configure Hadoop Streaming to use KeyBasedPartitioner, the process is very similar. Hadoop Streaming will parse command line options such as -k2,2 into key specs, and extract the part of the composite key (in this example, field 2 of many fields) and read in the partition key as a string. For example, with the following configuration:\n",
    "\n",
    "```\n",
    "\"stream.map.output.field.separator\" : \".\",\n",
    "\"mapreduce.partition.keycomparator.options\": \"-k2,2\",\n",
    "```\n",
    "\n",
    "Hadoop will extract '<strong>a</strong>' from a composite key <strong>2.a.4</strong> to use as the partition key.\n",
    "\n",
    "The partition key is then hashed (as string) by the same `hashCode` function, its modulus using number of reduce tasks yields the partition index.\n",
    "\n",
    "See `KeyBasedPartitioner` [source code](https://github.com/apache/hadoop/blob/2e1d0ff4e901b8313c8d71869735b94ed8bc40a0/hadoop-mapreduce-project/hadoop-mapreduce-client/hadoop-mapreduce-client-core/src/main/java/org/apache/hadoop/mapreduce/lib/partition/KeyFieldBasedPartitioner.java) for the actual implementations."
   ]
  },
  {
   "cell_type": "markdown",
   "metadata": {},
   "source": [
    "<h3><a name=\"Inverse-HashCode-Function\">Inverse HashCode Function</a></h3>\n",
    "<a href=\"#top\">Back to top</a>   | <a href=\"#Section3\">Back to Section 3</a>\n",
    "\n",
    "\n",
    "In order to preserve partition key ordering, we will construct an \"inverse hashCode function\", which takes as input the desired partition index and total number of partitions, and returns a partition key. This key, when supplied to the Hadoop framework (KeyBasedPartitioner), will hash to the correct partition index.   \n",
    "\n",
    "First, let's implement the core of HashPartitioner in Python :\n"
   ]
  },
  {
   "cell_type": "code",
   "execution_count": 117,
   "metadata": {
    "collapsed": false
   },
   "outputs": [
    {
     "data": {
      "text/plain": [
       "[2, 0, 1]"
      ]
     },
     "execution_count": 117,
     "metadata": {},
     "output_type": "execute_result"
    }
   ],
   "source": [
    "def makeKeyHash(key, num_reducers):\n",
    "    byteof = lambda char: int(format(ord(char), 'b'), 2)\n",
    "    current_hash = 0\n",
    "    for c in key:\n",
    "        current_hash = (current_hash * 31 + byteof(c))\n",
    "    return current_hash % num_reducers\n",
    "\n",
    "# partition indices for keys: A,B,C; with 3 partitions\n",
    "[makeKeyHash(x, 3) for x in \"ABC\"]"
   ]
  },
  {
   "cell_type": "markdown",
   "metadata": {},
   "source": [
    "A simple strategy to implement an inverse hashCode function is to use a lookup table. For example, assuming we have 3 reducers, we can compute the partition index with makeKeyHash for keys \"A\", \"B\", and \"C\". The results are listed the the table below.\n",
    "\n",
    "| <strong>Partition Key</strong> | <strong>Partition Index</strong> |\n",
    "|-------------------|---------------------|\n",
    "| A                 | 2                   |\n",
    "| B                 | 0                   |\n",
    "| C                 | 1                   |\n",
    "\n",
    "\n",
    "In the mapper stage, if we want to assign a record to partition 0, for example, we can simply look at the partition key that generated the partition index 0, which in this case is \"B\".\n"
   ]
  },
  {
   "cell_type": "markdown",
   "metadata": {},
   "source": [
    "<h2><a name=\"illustration\">Total Order Sort with ordered partitions - illustrated</a></h2>"
   ]
  },
  {
   "cell_type": "code",
   "execution_count": 107,
   "metadata": {
    "collapsed": false
   },
   "outputs": [
    {
     "data": {
      "image/png": "[encoded data removed]",
      "text/plain": [
       "<IPython.core.display.Image object>"
      ]
     },
     "execution_count": 107,
     "metadata": {},
     "output_type": "execute_result"
    }
   ],
   "source": [
    "Image(filename=\"tos-step1.png\")"
   ]
  },
  {
   "cell_type": "code",
   "execution_count": 110,
   "metadata": {
    "collapsed": false
   },
   "outputs": [
    {
     "data": {
      "image/png": "[encoded data removed]",
      "text/plain": [
       "<IPython.core.display.Image object>"
      ]
     },
     "execution_count": 110,
     "metadata": {},
     "output_type": "execute_result"
    }
   ],
   "source": [
    "Image(filename=\"tos-step2.png\")"
   ]
  },
  {
   "cell_type": "code",
   "execution_count": 111,
   "metadata": {
    "collapsed": false
   },
   "outputs": [
    {
     "data": {
      "image/png": "[encoded data removed]",
      "text/plain": [
       "<IPython.core.display.Image object>"
      ]
     },
     "execution_count": 111,
     "metadata": {},
     "output_type": "execute_result"
    }
   ],
   "source": [
    "Image(filename=\"tos-step3.png\")"
   ]
  },
  {
   "cell_type": "markdown",
   "metadata": {},
   "source": [
    "<h2><a name=\"MRJOB-implementation\">III.D. MRJob Implementations</a></h2>\n",
    "<a href=\"#top\">Back to top</a>  | <a href=\"#Section3\">Back to Section 3</a>  "
   ]
  },
  {
   "cell_type": "markdown",
   "metadata": {},
   "source": [
    "<h3><a name=\"III.D.1\">III.D.1 MRJob implementation - single reducer - local mode</a></h3>\n",
    "<a href=\"#top\">Back to top</a>  | <a href=\"#Section3\">Back to Section 3</a>  \n",
    "(Included only for completeness)"
   ]
  },
  {
   "cell_type": "code",
   "execution_count": 152,
   "metadata": {
    "collapsed": false
   },
   "outputs": [
    {
     "name": "stdout",
     "output_type": "stream",
     "text": [
      "Overwriting singleReducerSortLocal.py\n"
     ]
    }
   ],
   "source": [
    "%%writefile singleReducerSortLocal.py\n",
    "\n",
    "import sys\n",
    "import mrjob\n",
    "from mrjob.job import MRJob\n",
    "from mrjob.step import MRStep\n",
    "\n",
    "class singleReducerSortLocal(MRJob):\n",
    "        \n",
    "    def mapper(self, _, line):\n",
    "        line = line.strip()\n",
    "        key,value = line.split('\\t')\n",
    "        yield (sys.maxint - int(key)), value\n",
    "\n",
    "    def reducer(self, key, value):\n",
    "        for v in value:\n",
    "            yield sys.maxint - key, v\n",
    "        \n",
    "    def steps(self):\n",
    "        return [MRStep(\n",
    "                    mapper=self.mapper,\n",
    "                    reducer=self.reducer)\n",
    "                ]\n",
    "\n",
    "if __name__ == '__main__':\n",
    "    singleReducerSortLocal.run()"
   ]
  },
  {
   "cell_type": "code",
   "execution_count": 155,
   "metadata": {
    "collapsed": false
   },
   "outputs": [],
   "source": [
    "!python singleReducerSortLocal.py generate_numbers.output > MRJob_singleReducer_local_sorted_output.txt"
   ]
  },
  {
   "cell_type": "code",
   "execution_count": 9,
   "metadata": {
    "collapsed": false,
    "scrolled": false
   },
   "outputs": [
    {
     "name": "stdout",
     "output_type": "stream",
     "text": [
      "====================================================================================================\n",
      "Single Reducer Local Sorted Output - MRJob\n",
      "====================================================================================================\n",
      "30\t\"do\"\r\n",
      "28\t\"dataset\"\r\n",
      "27\t\"creating\"\r\n",
      "27\t\"driver\"\r\n",
      "27\t\"experiements\"\r\n",
      "26\t\"def\"\r\n",
      "26\t\"descent\"\r\n",
      "25\t\"compute\"\r\n",
      "24\t\"code\"\r\n",
      "24\t\"done\"\r\n",
      "23\t\"descent\"\r\n",
      "22\t\"corresponding\"\r\n",
      "19\t\"consists\"\r\n",
      "19\t\"evaluate\"\r\n",
      "17\t\"drivers\"\r\n",
      "15\t\"computational\"\r\n",
      "15\t\"computing\"\r\n",
      "15\t\"document\"\r\n",
      "14\t\"center\"\r\n",
      "13\t\"efficient\"\r\n",
      "10\t\"clustering\"\r\n",
      "9\t\"change\"\r\n",
      "9\t\"during\"\r\n",
      "7\t\"contour\"\r\n",
      "5\t\"distributed\"\r\n",
      "4\t\"develop\"\r\n",
      "3\t\"different\"\r\n",
      "2\t\"cluster\"\r\n",
      "1\t\"cell\"\r\n",
      "0\t\"current\"\r\n"
     ]
    }
   ],
   "source": [
    "print \"=\"*100\n",
    "print \"Single Reducer Local Sorted Output - MRJob\"\n",
    "print \"=\"*100\n",
    "!cat MRJob_singleReducer_local_sorted_output.txt"
   ]
  },
  {
   "cell_type": "markdown",
   "metadata": {},
   "source": [
    "<h3><a name=\"III.D.2\">III.D.2. MRJob implementation - single reducer - Hadoop mode</a></h3>\n",
    "<a href=\"#top\">Back to top</a>  | <a href=\"#Section3\">Back to Section 3</a>  \n",
    "No need for any special paritioning, but can be a bottle neck when data is large"
   ]
  },
  {
   "cell_type": "code",
   "execution_count": 30,
   "metadata": {
    "collapsed": false
   },
   "outputs": [
    {
     "name": "stdout",
     "output_type": "stream",
     "text": [
      "Overwriting singleReducerSort.py\n"
     ]
    }
   ],
   "source": [
    "%%writefile singleReducerSort.py\n",
    "#!~/anaconda2/bin/python\n",
    "# -*- coding: utf-8 -*-\n",
    "import mrjob\n",
    "from mrjob.job import MRJob\n",
    "from mrjob.step import MRStep\n",
    "\n",
    "class SingleReducerSort(MRJob):\n",
    "    # By specifying sort values True, mrjob will do a secondary sort on the value, in this case the words.\n",
    "    # ties will be broken by sorting words alphabetically in ascending order\n",
    "    MRJob.SORT_VALUES = True   \n",
    "    \n",
    "    def mapper(self, _, line):\n",
    "        line = line.strip()\n",
    "        key,value = line.split('\\t')\n",
    "        yield int(key),value\n",
    "\n",
    "    def reducer(self, key, value):\n",
    "        for v in value:\n",
    "            yield key, v\n",
    "        \n",
    "    def steps(self):\n",
    "        JOBCONF_STEP = {\n",
    "            'mapreduce.job.output.key.comparator.class': 'org.apache.hadoop.mapred.lib.KeyFieldBasedComparator',\n",
    "            'stream.map.output.field.separator':'\\t',    \n",
    "            'mapreduce.partition.keycomparator.options': '-k1,1nr -k2',\n",
    "            'mapreduce.job.reduces': '1'\n",
    "        }\n",
    "        return [MRStep(jobconf=JOBCONF_STEP,\n",
    "                    mapper=self.mapper,\n",
    "                    reducer=self.reducer)\n",
    "                ]\n",
    "\n",
    "if __name__ == '__main__':\n",
    "    SingleReducerSort.run()"
   ]
  },
  {
   "cell_type": "code",
   "execution_count": 134,
   "metadata": {
    "collapsed": false,
    "scrolled": true
   },
   "outputs": [],
   "source": [
    "!python singleReducerSort.py -r hadoop generate_numbers.output > MRJob_singleReducer_sorted_output.txt"
   ]
  },
  {
   "cell_type": "code",
   "execution_count": 34,
   "metadata": {
    "collapsed": false
   },
   "outputs": [
    {
     "name": "stdout",
     "output_type": "stream",
     "text": [
      "====================================================================================================\n",
      "Single Reducer Sorted Output - MRJob\n",
      "====================================================================================================\n",
      "30\t\"do\"\r\n",
      "28\t\"dataset\"\r\n",
      "27\t\"creating\"\r\n",
      "27\t\"driver\"\r\n",
      "27\t\"experiements\"\r\n",
      "26\t\"def\"\r\n",
      "26\t\"descent\"\r\n",
      "25\t\"compute\"\r\n",
      "24\t\"code\"\r\n",
      "24\t\"done\"\r\n",
      "23\t\"descent\"\r\n",
      "22\t\"corresponding\"\r\n",
      "19\t\"consists\"\r\n",
      "19\t\"evaluate\"\r\n",
      "17\t\"drivers\"\r\n",
      "15\t\"computational\"\r\n",
      "15\t\"computing\"\r\n",
      "15\t\"document\"\r\n",
      "14\t\"center\"\r\n",
      "13\t\"efficient\"\r\n",
      "10\t\"clustering\"\r\n",
      "9\t\"change\"\r\n",
      "9\t\"during\"\r\n",
      "7\t\"contour\"\r\n",
      "5\t\"distributed\"\r\n",
      "4\t\"develop\"\r\n",
      "3\t\"different\"\r\n",
      "2\t\"cluster\"\r\n",
      "1\t\"cell\"\r\n",
      "0\t\"current\"\r\n"
     ]
    }
   ],
   "source": [
    "print \"=\"*100\n",
    "print \"Single Reducer Sorted Output - MRJob\"\n",
    "print \"=\"*100\n",
    "!cat MRJob_singleReducer_sorted_output.txt"
   ]
  },
  {
   "cell_type": "markdown",
   "metadata": {},
   "source": [
    "<h3><a name=\"III.D.3\">III.D.3. MRJob Multiple Reducers - With Un-Ordered Partitons</a></h3>\n",
    "<a href=\"#top\">Back to top</a>  | <a href=\"#Section3\">Back to Section 3</a> \n",
    "\n",
    "The equivalent of the Hadoop Streaming Total Order Sort implementation above"
   ]
  },
  {
   "cell_type": "code",
   "execution_count": 51,
   "metadata": {
    "collapsed": false
   },
   "outputs": [
    {
     "name": "stdout",
     "output_type": "stream",
     "text": [
      "Overwriting MRJob_unorderedTotalOrderSort.py\n"
     ]
    }
   ],
   "source": [
    "%%writefile MRJob_unorderedTotalOrderSort.py\n",
    "\n",
    "import mrjob\n",
    "from mrjob.job import MRJob\n",
    "from mrjob.step import MRStep\n",
    "from mrjob.protocol import RawValueProtocol\n",
    "from mrjob.protocol import RawProtocol\n",
    "from operator import itemgetter\n",
    "import numpy as np\n",
    "\n",
    "class MRJob_unorderedTotalOrderSort(MRJob):\n",
    "    \n",
    "    # Allows values to be treated as keys, so they can be used for sorting:\n",
    "    MRJob.SORT_VALUES = True \n",
    "    \n",
    "    # The protocols are critical. It will not work without these:\n",
    "    INTERNAL_PROTOCOL = RawProtocol\n",
    "    OUTPUT_PROTOCOL = RawProtocol\n",
    " \n",
    "    def __init__(self, *args, **kwargs):\n",
    "        super(MRJob_unorderedTotalOrderSort, self).__init__(*args, **kwargs)\n",
    "        self.NUM_REDUCERS = 3\n",
    "    \n",
    "    \n",
    "    def mapper(self, _, line):\n",
    "        line = line.strip()\n",
    "        key,value = line.split('\\t')\n",
    "        if int(key) > 20:\n",
    "            yield \"A\",key+\"\\t\"+value\n",
    "        elif int(key) > 10:\n",
    "            yield \"B\",key+\"\\t\"+value\n",
    "        else:\n",
    "            yield \"C\",key+\"\\t\"+value\n",
    "            \n",
    "    def reducer(self,key,value):\n",
    "        for v in value:\n",
    "            yield key, v\n",
    "\n",
    "    \n",
    "    def steps(self):\n",
    "        \n",
    "        JOBCONF_STEP1 = {\n",
    "            'stream.num.map.output.key.fields':3,\n",
    "            'stream.map.output.field.separator':\"\\t\",\n",
    "            'mapreduce.partition.keypartitioner.options':'-k1,1',\n",
    "            'mapreduce.job.output.key.comparator.class': 'org.apache.hadoop.mapred.lib.KeyFieldBasedComparator',\n",
    "            'mapreduce.partition.keycomparator.options':'-k1,1 -k2,2nr -k3,3',\n",
    "            'mapred.reduce.tasks': self.NUM_REDUCERS,\n",
    "            'partitioner':'org.apache.hadoop.mapred.lib.KeyFieldBasedPartitioner'\n",
    "        }\n",
    "        return [MRStep(jobconf=JOBCONF_STEP1,\n",
    "                    mapper=self.mapper,\n",
    "                    reducer=self.reducer)\n",
    "                ]\n",
    "\n",
    "if __name__ == '__main__':\n",
    "    MRJob_unorderedTotalOrderSort.run()"
   ]
  },
  {
   "cell_type": "code",
   "execution_count": 55,
   "metadata": {
    "collapsed": false,
    "scrolled": true
   },
   "outputs": [],
   "source": [
    "!hdfs dfs -rmr /user/koza/sort/un_output \n",
    "!python MRJob_unorderedTotalOrderSort.py  -r hadoop generate_numbers.output \\\n",
    "    --output-dir=/user/koza/sort/un_output "
   ]
  },
  {
   "cell_type": "code",
   "execution_count": 36,
   "metadata": {
    "collapsed": false,
    "scrolled": true
   },
   "outputs": [
    {
     "name": "stdout",
     "output_type": "stream",
     "text": [
      "Found 4 items\r\n",
      "-rw-r--r--   1 koza supergroup          0 2016-08-20 19:28 /user/koza/sort/un_output/_SUCCESS\r\n",
      "-rw-r--r--   1 koza supergroup        116 2016-08-20 19:28 /user/koza/sort/un_output/part-00000\r\n",
      "-rw-r--r--   1 koza supergroup        125 2016-08-20 19:28 /user/koza/sort/un_output/part-00001\r\n",
      "-rw-r--r--   1 koza supergroup        152 2016-08-20 19:28 /user/koza/sort/un_output/part-00002\r\n"
     ]
    }
   ],
   "source": [
    "!hdfs dfs -ls /user/koza/sort/un_output "
   ]
  },
  {
   "cell_type": "markdown",
   "metadata": {},
   "source": [
    "### Without special partitioning, the output is not organized by partition number.\n",
    "(i.e., part-00000 does not contain the \"A\" key)"
   ]
  },
  {
   "cell_type": "code",
   "execution_count": 54,
   "metadata": {
    "collapsed": false
   },
   "outputs": [
    {
     "name": "stdout",
     "output_type": "stream",
     "text": [
      "----/part-00000-----\n",
      "\n",
      "B\t19\tconsists\t\n",
      "B\t19\tevaluate\t\n",
      "B\t17\tdrivers\t\n",
      "B\t15\tcomputational\t\n",
      "B\t15\tcomputing\t\n",
      "B\t15\tdocument\t\n",
      "B\t14\tcenter\t\n",
      "B\t13\tefficient\t\n",
      "\n",
      "----/part-00001-----\n",
      "\n",
      "C\t10\tclustering\t\n",
      "C\t9\tchange\t\n",
      "C\t9\tduring\t\n",
      "C\t7\tcontour\t\n",
      "C\t5\tdistributed\t\n",
      "C\t4\tdevelop\t\n",
      "C\t3\tdifferent\t\n",
      "C\t2\tcluster\t\n",
      "C\t1\tcell\t\n",
      "C\t0\tcurrent\t\n",
      "\n",
      "----/part-00001-----\n",
      "\n",
      "A\t30\tdo\t\n",
      "A\t28\tdataset\t\n",
      "A\t27\tcreating\t\n",
      "A\t27\tdriver\t\n",
      "A\t27\texperiements\t\n",
      "A\t26\tdef\t\n",
      "A\t26\tdescent\t\n",
      "A\t25\tcompute\t\n",
      "A\t24\tcode\t\n",
      "A\t24\tdone\t\n",
      "A\t23\tdescent\t\n",
      "A\t22\tcorresponding\t\n"
     ]
    }
   ],
   "source": [
    "print \"----/part-00000-----\\n\"\n",
    "!hdfs dfs -cat /user/koza/sort/un_output/part-00000\n",
    "print \"\\n----/part-00001-----\\n\"\n",
    "!hdfs dfs -cat /user/koza/sort/un_output/part-00001\n",
    "print \"\\n----/part-00001-----\\n\"\n",
    "!hdfs dfs -cat /user/koza/sort/un_output/part-00002"
   ]
  },
  {
   "cell_type": "markdown",
   "metadata": {},
   "source": [
    "<h3><a name=\"III.D.4\">III.D.4. MRJob Multiple Reducers - With Ordered Partitons</a></h3>\n",
    "<a href=\"#top\">Back to top</a>  | <a href=\"#Section3\">Back to Section 3</a> \n",
    "\n",
    "The final Total Order Sort with ordered partitions\n",
    "\n",
    "<h4>What's New</h4>\n",
    "\n",
    "The solution we will delve into is very similar to the one discussed earlier in the  [Hadoop Streaming](#multiple-reducer-hadoop-streaming)  section. The only addition is Step 1B, where we take a desired partition index and craft a custom partition key such that Hadoop's KeyFieldBasedPartitioner hashes it back to the correct index.\n"
   ]
  },
  {
   "cell_type": "code",
   "execution_count": 96,
   "metadata": {
    "collapsed": false
   },
   "outputs": [
    {
     "data": {
      "image/png": "[encoded data removed]",
      "text/plain": [
       "<IPython.core.display.Image object>"
      ]
     },
     "execution_count": 96,
     "metadata": {},
     "output_type": "execute_result"
    }
   ],
   "source": [
    "Image(\"TotalSortStepsComplete.png\")"
   ]
  },
  {
   "cell_type": "markdown",
   "metadata": {},
   "source": [
    "<em>Figure 6. Total order sort with custom partitioning.</em>"
   ]
  },
  {
   "cell_type": "code",
   "execution_count": 66,
   "metadata": {
    "collapsed": false
   },
   "outputs": [
    {
     "name": "stdout",
     "output_type": "stream",
     "text": [
      "Overwriting MRJob_multipleReducerTotalOrderSort.py\n"
     ]
    }
   ],
   "source": [
    "%%writefile MRJob_multipleReducerTotalOrderSort.py\n",
    "#!~/anaconda2/bin/python\n",
    "# -*- coding: utf-8 -*-\n",
    "\n",
    "import mrjob\n",
    "from mrjob.job import MRJob\n",
    "from mrjob.step import MRStep\n",
    "from mrjob.protocol import RawValueProtocol\n",
    "from mrjob.protocol import RawProtocol\n",
    "from operator import itemgetter\n",
    "import numpy as np\n",
    "\n",
    "class MRJob_multipleReducerTotalOrderSort(MRJob):\n",
    "    \n",
    "    # Allows values to be treated as keys\n",
    "    MRJob.SORT_VALUES = True \n",
    "    \n",
    "    # The protocols are critical. It will not work without these:\n",
    "    INTERNAL_PROTOCOL = RawProtocol\n",
    "    OUTPUT_PROTOCOL = RawProtocol\n",
    " \n",
    "    def __init__(self, *args, **kwargs):\n",
    "        super(MRJob_multipleReducerTotalOrderSort, self).__init__(*args, **kwargs)\n",
    "        self.N = 30\n",
    "        self.NUM_REDUCERS = 3\n",
    "    \n",
    "    def mapper_partitioner_init(self):\n",
    "        \n",
    "        def makeKeyHash(key, num_reducers):\n",
    "            byteof = lambda char: int(format(ord(char), 'b'), 2)\n",
    "            current_hash = 0\n",
    "            for c in key:\n",
    "                current_hash = (current_hash * 31 + byteof(c))\n",
    "            return current_hash % num_reducers\n",
    "        \n",
    "        # printable ascii characters, starting with 'A'\n",
    "        keys = [str(unichr(i)) for i in range(65,65+self.NUM_REDUCERS)]\n",
    "        partitions = []\n",
    "        \n",
    "        for key in keys:\n",
    "            partitions.append([key, makeKeyHash(key, self.NUM_REDUCERS)])\n",
    "\n",
    "        parts = sorted(partitions,key=itemgetter(1))\n",
    "        self.partition_keys = list(np.array(parts)[:,0])\n",
    "        \n",
    "        self.partition_file = np.arange(0,self.N,self.N/(self.NUM_REDUCERS))[::-1]\n",
    "        \n",
    "    def mapper_partition(self, _, line):\n",
    "        line = line.strip()\n",
    "        key,value = line.split('\\t')\n",
    "        \n",
    "        # Prepend the approriate key by finding the bucket, and using the index to fetch the key.\n",
    "        for idx in xrange(self.NUM_REDUCERS):\n",
    "            if float(key) > self.partition_file[idx]:\n",
    "                yield str(self.partition_keys[idx]),key+\"\\t\"+value\n",
    "                break\n",
    "        \n",
    "        \n",
    "            \n",
    "    def reducer(self,key,value):\n",
    "        for v in value:\n",
    "            yield key,v\n",
    "            # To omit the partition key, specify 'None'\n",
    "            # We are keeping it for illutration purposes\n",
    "    \n",
    "    def steps(self):\n",
    "        \n",
    "        JOBCONF_STEP1 = {\n",
    "            'stream.num.map.output.key.fields':3,\n",
    "            'mapreduce.job.output.key.comparator.class': 'org.apache.hadoop.mapred.lib.KeyFieldBasedComparator',\n",
    "            'stream.map.output.field.separator':\"\\t\",\n",
    "            'mapreduce.partition.keypartitioner.options':'-k1,1',\n",
    "            'mapreduce.partition.keycomparator.options':'-k2,2nr -k3,3',\n",
    "            'mapred.reduce.tasks': self.NUM_REDUCERS,\n",
    "            'partitioner':'org.apache.hadoop.mapred.lib.KeyFieldBasedPartitioner'\n",
    "        }\n",
    "        return [MRStep(jobconf=JOBCONF_STEP1,\n",
    "                    mapper_init=self.mapper_partitioner_init,\n",
    "                    mapper=self.mapper_partition,\n",
    "                    reducer=self.reducer)\n",
    "                ]\n",
    "\n",
    "\n",
    "if __name__ == '__main__':\n",
    "    MRJob_multipleReducerTotalOrderSort.run()"
   ]
  },
  {
   "cell_type": "code",
   "execution_count": 69,
   "metadata": {
    "collapsed": false,
    "scrolled": true
   },
   "outputs": [],
   "source": [
    "!hdfs dfs -rm -r /user/koza/total_order_sort\n",
    "!python MRJob_multipleReducerTotalOrderSort.py -r hadoop generate_numbers.output \\\n",
    "    --output-dir='/user/koza/total_order_sort' "
   ]
  },
  {
   "cell_type": "code",
   "execution_count": 68,
   "metadata": {
    "collapsed": false,
    "scrolled": false
   },
   "outputs": [
    {
     "name": "stdout",
     "output_type": "stream",
     "text": [
      "====================================================================================================\n",
      "Total Order Sort with multiple reducers - notice that the part files are also in order.\n",
      "====================================================================================================\n",
      "/part-00000\n",
      "----------------------------------------------------------------------------------------------------\n",
      "B\t30\tdo\t\n",
      "B\t28\tdataset\t\n",
      "B\t27\tcreating\t\n",
      "B\t27\tdriver\t\n",
      "B\t27\texperiements\t\n",
      "B\t26\tdef\t\n",
      "B\t26\tdescent\t\n",
      "B\t25\tcompute\t\n",
      "B\t24\tcode\t\n",
      "B\t24\tdone\t\n",
      "B\t23\tdescent\t\n",
      "B\t22\tcorresponding\t\n",
      "----------------------------------------------------------------------------------------------------\n",
      "/part-00001\n",
      "----------------------------------------------------------------------------------------------------\n",
      "C\t19\tconsists\t\n",
      "C\t19\tevaluate\t\n",
      "C\t17\tdrivers\t\n",
      "C\t15\tcomputational\t\n",
      "C\t15\tcomputing\t\n",
      "C\t15\tdocument\t\n",
      "C\t14\tcenter\t\n",
      "C\t13\tefficient\t\n",
      "----------------------------------------------------------------------------------------------------\n",
      "/part-00002\n",
      "----------------------------------------------------------------------------------------------------\n",
      "A\t10\tclustering\t\n",
      "A\t9\tchange\t\n",
      "A\t9\tduring\t\n",
      "A\t7\tcontour\t\n",
      "A\t5\tdistributed\t\n",
      "A\t4\tdevelop\t\n",
      "A\t3\tdifferent\t\n",
      "A\t2\tcluster\t\n",
      "A\t1\tcell\t\n"
     ]
    }
   ],
   "source": [
    "print \"=\"*100\n",
    "print \"Total Order Sort with multiple reducers - notice that the part files are also in order.\"\n",
    "print \"=\"*100\n",
    "print \"/part-00000\"\n",
    "print \"-\"*100\n",
    "!hdfs dfs -cat /user/koza/total_order_sort/part-00000\n",
    "print \"-\"*100\n",
    "print \"/part-00001\"\n",
    "print \"-\"*100\n",
    "!hdfs dfs -cat /user/koza/total_order_sort/part-00001\n",
    "print \"-\"*100\n",
    "print \"/part-00002\"\n",
    "print \"-\"*100\n",
    "!hdfs dfs -cat /user/koza/total_order_sort/part-00002\n"
   ]
  },
  {
   "cell_type": "markdown",
   "metadata": {},
   "source": [
    "<a name=\"illustration\"></a>"
   ]
  },
  {
   "cell_type": "markdown",
   "metadata": {},
   "source": [
    "<h3>Total Order Sort results</h3>\n",
    "We now have exactly what we were looking for. Total Order Sort, with the added benefit of ordered partitions. Notice that the top results are stored in part-00000, the next set of results is stored in part-00001, etc., because we hashed the keys (A,B,C) to those file names."
   ]
  },
  {
   "cell_type": "markdown",
   "metadata": {},
   "source": [
    "<h1><a name=\"Section4\">Section IV - Sampling Key Spaces</a></h1>\n",
    "<a href=\"#top\">Back to top</a>   \n",
    "\n",
    "<h4>Keypoints:</h4>\n",
    "<ul>\n",
    "<li><a name=\"randomsampling\">Random Sampling</a> - Easy implementation when we know the total size of the data</li>\n",
    "<li><a name=\"reservoirsampling\">Reservoir Sampling</a> - A method to sample the data with equal probablity for all data points when the size of the data is unknown. The algorithm works as follows:\n",
    "    <pre>\n",
    "    n = desired sample size\n",
    "    reservoir = []\n",
    "    for d in data\n",
    "        if reservoir size < n\n",
    "            add d to reservoir\n",
    "        else:\n",
    "            choose random location in reservoir\n",
    "            flip coin whether to replace the exisiting d with new d\n",
    "    </pre>\n",
    "    \n",
    "    \n",
    "</li>\n",
    "</ul>\n",
    "(This paper has a nice explanation of reservoir sampling, see: 2.2 Density-Biased Reservoir Sampling http://science.sut.ac.th/mathematics/pairote/uploadfiles/weightedkm-temp2_EB.pdf.)   \n",
    "\n",
    "Consider the following example in which we assumed a uniform distribution of the data. For simplicity, we made our partition file based on that assumption. In reality this is rarely the case, and we should make our partition file based on the actual distribution of the data to avoid bottlenecks. A bottleneck would occur if the majority of our data resided in a single bucket, as could happen with a typical power law distribution.\n"
   ]
  },
  {
   "cell_type": "markdown",
   "metadata": {},
   "source": [
    "Consider the following example:"
   ]
  },
  {
   "cell_type": "code",
   "execution_count": 98,
   "metadata": {
    "collapsed": false
   },
   "outputs": [
    {
     "data": {
      "image/png": "[encoded data removed]",
      "text/plain": [
       "<matplotlib.figure.Figure at 0x10d99e3d0>"
      ]
     },
     "metadata": {},
     "output_type": "display_data"
    }
   ],
   "source": [
    "# Visualizae Partition File\n",
    "%matplotlib inline\n",
    "import pylab as pl\n",
    "fig, ax = pl.subplots(figsize=(10,6))\n",
    "\n",
    "ax.hist(sampleData,color=\"#48afe0\",edgecolor='none')\n",
    "\n",
    "xcoords = [.15,.3,.45]\n",
    "for xc in xcoords:\n",
    "    pl.axvline(x=xc,color=\"#197f74\", linewidth=1)\n",
    "\n",
    "ax.spines['top'].set_visible(False)\n",
    "ax.spines['right'].set_visible(False)\n",
    "ax.spines['bottom'].set_visible(False)\n",
    "ax.spines['left'].set_visible(False)\n",
    "\n",
    "\n",
    "pl.title(\"4 uniformly spaced buckets\")\n",
    "pl.show()"
   ]
  },
  {
   "cell_type": "markdown",
   "metadata": {},
   "source": [
    "<em>Figure 7. Uniform partitions over skewed data.</em>\n",
    "\n",
    "If we made a uniform partition file the (above example has 4 buckets), we would end up with most of the data in a single reducer, and this would create a bottle neck. To fix this, we must first generate a sample of our data; then, based on this sample, create a partition file that distributes the keys more evenly.\n"
   ]
  },
  {
   "cell_type": "markdown",
   "metadata": {},
   "source": [
    "<h2><a name=\"IV.A\">IV.A. Random Sample implementation</a></h2>\n",
    "<a href=\"#top\">Back to top</a>  | <a href=\"#Section4\">Back to Section 4</a> \n"
   ]
  },
  {
   "cell_type": "code",
   "execution_count": 87,
   "metadata": {
    "collapsed": false
   },
   "outputs": [
    {
     "name": "stdout",
     "output_type": "stream",
     "text": [
      "Overwriting MRJob_RandomSample.py\n"
     ]
    }
   ],
   "source": [
    "%%writefile MRJob_RandomSample.py\n",
    "#!~/anaconda2/bin/python\n",
    "# -*- coding: utf-8 -*-\n",
    "\n",
    "#########################################################\n",
    "#  Emit a random sample of 1/1000th of the data\n",
    "#########################################################\n",
    "\n",
    "\n",
    "import numpy as np\n",
    "import mrjob\n",
    "from mrjob.job import MRJob\n",
    "from mrjob.step import MRStep\n",
    "\n",
    "class MRbuildSample(MRJob):\n",
    "    \n",
    "    def steps(self):\n",
    "        return [MRStep(mapper=self.mapper)]\n",
    "    \n",
    "    def mapper(self,_,line):\n",
    "        s = np.random.uniform(0,1)\n",
    "        if s < .001: \n",
    "            yield None, line\n",
    "\n",
    "    \n",
    "if __name__ == '__main__':\n",
    "    MRJob_RandomSample.run()"
   ]
  },
  {
   "cell_type": "markdown",
   "metadata": {},
   "source": [
    "<h2><a name=\"IV.B\">IV.B. Custom partition file implementation</a></h2>\n",
    "<a href=\"#top\">Back to top</a>  | <a href=\"#Section4\">Back to Section 4</a> \n"
   ]
  },
  {
   "cell_type": "markdown",
   "metadata": {},
   "source": [
    "<h3>Percentile Based Partitioning</h3>\n",
    "\n",
    "Once we have a (small) sampled subset of data, we can compute partition boundaries by examining the distribution of this subset, and finding approporiate percentiles based on number of desired partitions. A basic implementation using NumPy is provided below:"
   ]
  },
  {
   "cell_type": "code",
   "execution_count": 56,
   "metadata": {
    "collapsed": true
   },
   "outputs": [],
   "source": [
    "def readSampleData():\n",
    "    # A sample of the data is stored in a single file in sampleData/part-00000\n",
    "    # from the previous step (MRJob_RandomSample.py)\n",
    "    sampleData = []  \n",
    "\n",
    "    with open(\"sampleData/part-00000\",\"r\") as f:\n",
    "        lines = f.readlines()\n",
    "        for line in lines:\n",
    "            line = line.strip()\n",
    "            avg,lisst = line.split(\"\\t\")\n",
    "            sampleData.append(float(avg))\n",
    "            \n",
    "    return sampleData"
   ]
  },
  {
   "cell_type": "code",
   "execution_count": 88,
   "metadata": {
    "collapsed": false
   },
   "outputs": [
    {
     "data": {
      "text/plain": [
       "(array([ 0.00986008,  0.04131517,  0.06350346,  0.09810477]),\n",
       " array([  0.,  25.,  50.,  75.]))"
      ]
     },
     "execution_count": 88,
     "metadata": {},
     "output_type": "execute_result"
    }
   ],
   "source": [
    "from numpy import array, percentile, linspace, random\n",
    "\n",
    "def partition(data, num_of_partitions=10, return_percentiles=False):\n",
    "    # remove percentile 100\n",
    "    qs = linspace(0, 100, num=num_of_partitions, endpoint=False)\n",
    "    if not return_percentiles:\n",
    "        return percentile(data, qs)\n",
    "    return percentile(data, qs), qs\n",
    "\n",
    "sampleData = readSampleData()\n",
    "\n",
    "# (partitionFile, percentiles)\n",
    "partition(sampleData, 4, return_percentiles=True)"
   ]
  },
  {
   "cell_type": "markdown",
   "metadata": {},
   "source": [
    "<h3> Raw implementation without using `numpy` </h3>"
   ]
  },
  {
   "cell_type": "code",
   "execution_count": 89,
   "metadata": {
    "collapsed": false,
    "scrolled": false
   },
   "outputs": [],
   "source": [
    "## MAKE % BASED BUCKETS FROM SAMPLE DATA\n",
    "from __future__ import division\n",
    "from math import ceil\n",
    "\n",
    "sampleData = readSampleData()\n",
    "\n",
    "num_buckets = 4 # This will be the number of reducers\n",
    "len_data = len(sampleData)\n",
    "\n",
    "# make breakpoints:\n",
    "partitionFile = []\n",
    "\n",
    "i = 0\n",
    "while i < len_data:\n",
    "    partitionFile.append(sampleData[i])\n",
    "    i += int(ceil(len_data/num_buckets))"
   ]
  },
  {
   "cell_type": "markdown",
   "metadata": {},
   "source": [
    "<h3> Visualize Partition </h3>"
   ]
  },
  {
   "cell_type": "code",
   "execution_count": 90,
   "metadata": {
    "collapsed": false
   },
   "outputs": [
    {
     "data": {
      "image/png": "[encoded data removed]",
      "text/plain": [
       "<matplotlib.figure.Figure at 0x10763d1d0>"
      ]
     },
     "metadata": {},
     "output_type": "display_data"
    },
    {
     "name": "stdout",
     "output_type": "stream",
     "text": [
      "Sample Data min 0.00986007565667\n",
      "Sample Data max 0.514811335171\n",
      "[0.009860075656665268, 0.04131516964443623, 0.06350346288221721, 0.0981047679070244]\n"
     ]
    }
   ],
   "source": [
    "# Visualizae Partition File\n",
    "%matplotlib inline\n",
    "import pylab as pl\n",
    "fig, ax = pl.subplots(figsize=(10,6))\n",
    "\n",
    "ax.hist(sampleData,color=\"#48afe0\",edgecolor='none')\n",
    "\n",
    "xcoords = partitionFile\n",
    "for xc in xcoords:\n",
    "    pl.axvline(x=xc,color=\"#197f74\", linewidth=1)\n",
    "\n",
    "ax.spines['top'].set_visible(False)\n",
    "ax.spines['right'].set_visible(False)\n",
    "ax.spines['bottom'].set_visible(False)\n",
    "ax.spines['left'].set_visible(False)\n",
    "\n",
    "\n",
    "pl.title(\"Parition file for \"+str(num_buckets)+\" buckets\")\n",
    "pl.show()\n",
    "\n",
    "print \"Sample Data min\", min(sampleData)\n",
    "print \"Sample Data max\", max(sampleData)\n",
    "print partitionFile"
   ]
  },
  {
   "cell_type": "markdown",
   "metadata": {},
   "source": [
    "<em>Figure 8. Percentile based partitions over skewed data.</em>\n",
    "\n",
    "We can now replace the dynamilcally generated partition file in our implementation above, (`self.partition_file`) in the `mapper_partitioner_init` function, with the custom file we just made."
   ]
  },
  {
   "cell_type": "markdown",
   "metadata": {},
   "source": [
    "<h1><a name=\"Section5\">Section V - Spark implementation</a></h1>\n",
    "<a href=\"#top\">Back to top</a>   "
   ]
  },
  {
   "cell_type": "markdown",
   "metadata": {},
   "source": [
    "For this section, you will need to install Spark. We are using a local installation, version 2.0.1"
   ]
  },
  {
   "cell_type": "code",
   "execution_count": 1,
   "metadata": {
    "collapsed": false
   },
   "outputs": [
    {
     "name": "stdout",
     "output_type": "stream",
     "text": [
      "Welcome to\n",
      "      ____              __\n",
      "     / __/__  ___ _____/ /__\n",
      "    _\\ \\/ _ \\/ _ `/ __/  '_/\n",
      "   /__ / .__/\\_,_/_/ /_/\\_\\   version 2.0.1\n",
      "      /_/\n",
      "\n",
      "Using Python version 2.7.11 (default, Dec  6 2015 18:57:58)\n",
      "SparkSession available as 'spark'.\n"
     ]
    }
   ],
   "source": [
    "# Start Spark\n",
    "import os\n",
    "import sys\n",
    "spark_home = os.environ['SPARK_HOME'] = \\\n",
    "   '/usr/local/share/spark-2.0.1-bin-hadoop2.6'\n",
    "\n",
    "if not spark_home:\n",
    "    raise ValueError('SPARK_HOME enviroment variable is not set')\n",
    "sys.path.insert(0,os.path.join(spark_home,'python'))\n",
    "sys.path.insert(0,os.path.join(spark_home,'python/lib/py4j-0.9-src.zip'))\n",
    "execfile(os.path.join(spark_home,'python/pyspark/shell.py'))\n",
    "app_name = \"total-sort\"\n",
    "    \n",
    "master = \"local[*]\"\n",
    "conf = pyspark.SparkConf().setAppName(app_name).setMaster(master)\n",
    "# print sc\n",
    "# print sqlContext\n"
   ]
  },
  {
   "cell_type": "markdown",
   "metadata": {},
   "source": [
    "<h2>SPARK - Key features</h2>\n",
    "\n",
    "From the Spark website (http://spark.apache.org/):\n",
    "\n",
    "* Spark is a fast and general engine for large-scale data processing.\n",
    "* Spark runs on __Hadoop__, Mesos, standalone, or in the cloud.\n",
    "* Run programs up to __100x faster than Hadoop MapReduce in memory__, or 10x faster on disk.\n",
    "* Write applications quickly in Java, Scala, __Python__, R.\n",
    "* Spark offers over 80 high-level operators that make it easy to build parallel apps. And you can use it interactively from the Scala, __Python__ and R shells.\n",
    "* Apache Spark has an advanced Directed Acyclic Graph (DAG) execution engine that supports cyclic data flow and in-memory computing.\n",
    "\n",
    "\n"
   ]
  },
  {
   "cell_type": "code",
   "execution_count": 11,
   "metadata": {
    "collapsed": false
   },
   "outputs": [
    {
     "data": {
      "image/png": "[encoded data removed]",
      "text/plain": [
       "<IPython.core.display.Image object>"
      ]
     },
     "execution_count": 11,
     "metadata": {},
     "output_type": "execute_result"
    }
   ],
   "source": [
    "Image('spark-diagram.png')"
   ]
  },
  {
   "cell_type": "markdown",
   "metadata": {},
   "source": [
    "<em>Figure 9. Spark data flow.</em>\n",
    "\n",
    "At the core of Spark, are \"Resilient Distributed Datasets (RDDs), a distributed memory abstraction that lets programmers perform __in-memory computations on large clusters__ in a fault-tolerant manner.\" https://www2.eecs.berkeley.edu/Pubs/TechRpts/2011/EECS-2011-82.pdf\n",
    "\n",
    "An RDD is simply a distributed collection of elements (Key-Value records).\n",
    "* In Spark all work is expressed as either creating new RDDs, running (lazy) __transformations__ on existing RDDs, or performing __actions__ on RDDs to compute a result.\n",
    "* Under the hood, Spark automatically distributes the data contained in RDDs across your cluster and parallelizes the operations you perform on them.\n"
   ]
  },
  {
   "cell_type": "markdown",
   "metadata": {},
   "source": [
    "<h1> Total Sort in pyspark (Spark python API)</h1>\n",
    "As before, to acheive Total Order Sort, we must first partition the data such that it ends up in appropriately ordered buckets (partitions, filenames), and then sort within each partition. There are a couple of ways to do this in Spark, but they are not all created equal.\n",
    "\n",
    "\n",
    "\n",
    "<h2>repartition &amp; sortByKey VS repartitionAndSortWithinPartitions</h2>\n",
    "https://spark.apache.org/docs/1.6.2/programming-guide.html#working-with-key-value-pairs\n",
    "\n",
    "<hr>\n",
    "\n",
    "<h3>__repartition__</h3>\n",
    "Reshuffle the data in the RDD randomly to create either more or fewer partitions and balance it across them. This always shuffles all data over the network.\n",
    "\n",
    "<h3>__sortByKey__</h3> \n",
    "When called on a dataset of (K, V) pairs where K implements Ordered, returns a dataset of (K, V) pairs sorted by keys in ascending or descending order, as specified in the boolean ascending argument.\n",
    "\n",
    "__The sortByKey function reshuffles all the data a second time!__\n",
    "\n",
    "Spark’s sortByKey transformation results in two jobs and three stages.\n",
    "\n",
    "Sample stage: Sample the data to create a range-partitioner that will result in an even partitioning.   \n",
    "“Map” stage: Write the data to the destined shuffle bucket for reduce stage.   \n",
    "“Reduce” stage: Get the related shuffle output and merge/sort on the specific partition of dataset.   \n",
    "\n",
    "\n",
    "<hr>\n",
    "<h3>__repartitionAndSortWithinPartitions__</h3>\n",
    "Repartition the RDD according to the given partitioner and, within each resulting partition, sort records by their keys. <strong><em>This is more efficient than calling repartition and then sorting within each partition because it can push the sorting down into the shuffle machinery.</em></strong>\n",
    "\n"
   ]
  },
  {
   "cell_type": "code",
   "execution_count": 2,
   "metadata": {
    "collapsed": false
   },
   "outputs": [],
   "source": [
    "from operator import itemgetter\n",
    "import numpy as np\n",
    "\n",
    "text_file = sc.textFile('generate_numbers.output')\n",
    "NUM_REDUCERS = 3\n",
    "\n",
    "# parse input #\n",
    "def readData(line):\n",
    "    x = line.split(\"\\t\")\n",
    "    return [int(x[0]),x[1]],\"\"\n",
    "\n",
    "# Partition function #        \n",
    "def top_down(x):\n",
    "    if x[0] > 20:\n",
    "        return 0\n",
    "    elif x[0] > 10:\n",
    "        return 1\n",
    "    else:\n",
    "        return 2\n",
    "    \n",
    "\n",
    "rdd = text_file.map(readData)\n",
    "\n",
    "\n",
    "'''\n",
    "repartitionAndSortWithinPartitions(numPartitions=None, partitionFunc=<function portable_hash at 0x7f2bec385230>, \n",
    "ascending=True, keyfunc=<function <lambda> at 0x7f2bec3839b0>) Repartition the RDD according to the given \n",
    "partitioner and, within each resulting partition, sort records by their keys.\n",
    "\n",
    "By using this function we avoid unnecessary shuffling. In contrast, the sortByKey function reshuffles all the data \n",
    "and is not efficient.\n",
    "'''\n",
    "top = rdd.repartitionAndSortWithinPartitions(numPartitions=NUM_REDUCERS,\n",
    "                                                    ascending=True, \n",
    "                                                    partitionFunc=top_down,\n",
    "                                                    keyfunc=lambda x: (-x[0],x[1]))"
   ]
  },
  {
   "cell_type": "markdown",
   "metadata": {},
   "source": [
    "By using glom we can see each partition in its own array. We also have a secondary sort on the \"word\" (in fact this is the latter part of a complex key) in ascending order."
   ]
  },
  {
   "cell_type": "code",
   "execution_count": 3,
   "metadata": {
    "collapsed": false,
    "scrolled": false
   },
   "outputs": [
    {
     "name": "stdout",
     "output_type": "stream",
     "text": [
      "3 Partitions\n",
      "==================================================\n",
      "partition  0\n",
      "==================================================\n",
      "30 \tdo\n",
      "28 \tdataset\n",
      "27 \tcreating\n",
      "27 \tdriver\n",
      "27 \texperiements\n",
      "26 \tdef\n",
      "26 \tdescent\n",
      "25 \tcompute\n",
      "24 \tcode\n",
      "24 \tdone\n",
      "23 \tdescent\n",
      "22 \tcorresponding\n",
      "==================================================\n",
      "partition  1\n",
      "==================================================\n",
      "19 \tconsists\n",
      "19 \tevaluate\n",
      "17 \tdrivers\n",
      "15 \tcomputational\n",
      "15 \tcomputing\n",
      "15 \tdocument\n",
      "14 \tcenter\n",
      "13 \tefficient\n",
      "==================================================\n",
      "partition  2\n",
      "==================================================\n",
      "10 \tclustering\n",
      "9 \tchange\n",
      "9 \tduring\n",
      "7 \tcontour\n",
      "5 \tdistributed\n",
      "4 \tdevelop\n",
      "3 \tdifferent\n",
      "2 \tcluster\n",
      "1 \tcell\n",
      "0 \tcurrent\n"
     ]
    }
   ],
   "source": [
    "print top.getNumPartitions(), \"Partitions\"\n",
    "for i,d in enumerate(top.glom().collect()):\n",
    "    print \"=\"*50\n",
    "    print \"partition \",i\n",
    "    print \"=\"*50\n",
    "    for j in d:\n",
    "        print j[0][0],\"\\t\",j[0][1]"
   ]
  },
  {
   "cell_type": "markdown",
   "metadata": {},
   "source": [
    "<h1> Final Remarks</h1>\n",
    "<a href=\"#top\">Back to top</a>   \n",
    "\n",
    "A note on TotalSortPartitioner: Hadoop has built in TotalSortPartitioner, which uses a partition file _partition.lst to store a pre-built order list of split points.TotalSortPartitioner uses binary search / Trie to look up the ranges a given record falls into.\n",
    "\n",
    "https://github.com/facebookarchive/hadoop-20/blob/master/src/mapred/org/apache/hadoop/mapred/lib/TotalOrderPartitioner.java"
   ]
  },
  {
   "cell_type": "markdown",
   "metadata": {},
   "source": [
    "# References\n",
    "<a href=\"#top\">Back to top</a>   \n",
    "\n",
    "<ol>\n",
    "\n",
    "<li>http://wiki.apache.org/hadoop/</li>\n",
    "<li>http://hadoop.apache.org/docs/stable1/streaming.html#Hadoop+Streaming</li>\n",
    "<li>http://mrjob.readthedocs.io/en/latest/index.html</li>\n",
    "<li>http://www.theunixschool.com/2012/08/linux-sort-command-examples.html</li>\n",
    "<li>https://hadoop.apache.org/docs/r2.7.2/hadoop-streaming/HadoopStreaming.html</li>\n",
    "<li>http://hadoop.apache.org/</li>\n",
    "<li>https://hadoop.apache.org/docs/r2.7.2/hadoop-project-dist/hadoop-common/SingleCluster.html</li>\n",
    "<li>https://hadoop.apache.org/docs/r1.2.1/streaming.html#Hadoop+Comparator+Class</li>\n",
    "<li>https://github.com/Yelp/mrjob</li>\n",
    "<li>https://pythonhosted.org/mrjob/guides/configs-hadoopy-runners.html</li>\n",
    "<li>http://docs.aws.amazon.com/ElasticMapReduce/latest/DeveloperGuide/emr-steps.html</li>\n",
    "<li>https://github.com/apache/hadoop/blob/2e1d0ff4e901b8313c8d71869735b94ed8bc40a0/hadoop-mapreduce-project/hadoop-mapreduce-client/hadoop-mapreduce-client-core/src/main/java/org/apache/hadoop/mapreduce/lib/partition/KeyFieldBasedPartitioner.java</li>\n",
    "<li>http://science.sut.ac.th/mathematics/pairote/uploadfiles/weightedkm-temp2_EB.pdf</li>\n",
    "<li>http://spark.apache.org/</li>\n",
    "<li>https://www2.eecs.berkeley.edu/Pubs/TechRpts/2011/EECS-2011-82.pdf</li>\n",
    "<li>https://spark.apache.org/docs/1.6.2/programming-guide.html#working-with-key-value-pairs </li>\n",
    "<li>https://github.com/facebookarchive/hadoop-20/blob/master/src/mapred/org/apache/hadoop/mapred/lib/TotalOrderPartitioner.java </li>\n",
    "</ol>"
   ]
  }
 ],
 "metadata": {
  "kernelspec": {
   "display_name": "Python 2",
   "language": "python",
   "name": "python2"
  },
  "language_info": {
   "codemirror_mode": {
    "name": "ipython",
    "version": 2
   },
   "file_extension": ".py",
   "mimetype": "text/x-python",
   "name": "python",
   "nbconvert_exporter": "python",
   "pygments_lexer": "ipython2",
   "version": "2.7.11"
  },
  "toc": {
   "colors": {
    "hover_highlight": "#DAA520",
    "running_highlight": "#FF0000",
    "selected_highlight": "#FFD700"
   },
   "moveMenuLeft": true,
   "navigate_menu": true,
   "number_sections": true,
   "sideBar": false,
   "threshold": 4,
   "toc_cell": true,
   "toc_section_display": "block",
   "toc_window_display": true
  }
 },
 "nbformat": 4,
 "nbformat_minor": 0
}
